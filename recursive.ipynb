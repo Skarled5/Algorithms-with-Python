{
 "cells": [
  {
   "cell_type": "code",
   "execution_count": 1,
   "id": "e12f39a7",
   "metadata": {},
   "outputs": [
    {
     "name": "stdout",
     "output_type": "stream",
     "text": [
      "1\n",
      "2\n"
     ]
    }
   ],
   "source": [
    "def sayi1():\n",
    "    return 1\n",
    "def sayi2():\n",
    "    return 2\n",
    "def deneme():\n",
    "    print(sayi1())\n",
    "    print(sayi2())\n",
    "    \n",
    "deneme()"
   ]
  },
  {
   "cell_type": "code",
   "execution_count": 2,
   "id": "575d2d14",
   "metadata": {},
   "outputs": [
    {
     "data": {
      "text/plain": [
       "120"
      ]
     },
     "execution_count": 2,
     "metadata": {},
     "output_type": "execute_result"
    }
   ],
   "source": [
    "def faktoriyel(sayi):\n",
    "    if sayi==1 or sayi==0:\n",
    "        return 1\n",
    "    else:\n",
    "        return faktoriyel(sayi-1)*sayi\n",
    "    \n",
    "faktoriyel(5)\n",
    "\n",
    "# faktoriyel(5)=faktoriyel(4)*5\n",
    "# faktoriyel(4)=faktoriyel(3)*4\n",
    "# faktoriyel(3)=faktoriyel(2)*3\n",
    "# faktoriyel(2)=faktoriyel(1)*2\n",
    "# faktoriyel(1)=1\n",
    "\n",
    "# faktoriyel(5)=25*5\n",
    "# faktoriyel(4)=6*4\n",
    "# faktoriyel(3)=2*3\n",
    "# faktoriyel(2)=1*2\n",
    "# faktoriyel(1)=1"
   ]
  },
  {
   "cell_type": "code",
   "execution_count": 6,
   "id": "b1ec06be",
   "metadata": {},
   "outputs": [
    {
     "name": "stdout",
     "output_type": "stream",
     "text": [
      "17 bir asal sayıdır.\n"
     ]
    }
   ],
   "source": [
    "def asal_mi(sayi, bolen=2):\n",
    "    if sayi <= 2:\n",
    "        return sayi == 2\n",
    "    if sayi % bolen != 0:\n",
    "        return True\n",
    "    if sayi % bolen == 0:\n",
    "        return False\n",
    "    return asal_mi(sayi, bolen + 1)\n",
    "\n",
    "sayi = 17\n",
    "if asal_mi(sayi):\n",
    "    print(f\"{sayi} bir asal sayıdır.\")\n",
    "else:\n",
    "    print(f\"{sayi} bir asal sayı değildir.\")"
   ]
  },
  {
   "cell_type": "code",
   "execution_count": 9,
   "id": "876a4ff8",
   "metadata": {},
   "outputs": [
    {
     "name": "stdout",
     "output_type": "stream",
     "text": [
      "4\n"
     ]
    }
   ],
   "source": [
    "def tekrar_sayisi(liste, eleman, index=0, count=0):\n",
    "    if index == len(liste):\n",
    "        return count\n",
    "    if liste[index] == eleman:\n",
    "        count += 1\n",
    "    return tekrar_sayisi(liste, eleman, index + 1, count)\n",
    "\n",
    "tekrar = tekrar_sayisi([2, 3, 4, 2, 1, 2, 4, 2, 5], 2)\n",
    "print(tekrar)"
   ]
  },
  {
   "cell_type": "code",
   "execution_count": 27,
   "id": "f6a4db7c",
   "metadata": {},
   "outputs": [
    {
     "name": "stdout",
     "output_type": "stream",
     "text": [
      "6\n"
     ]
    }
   ],
   "source": [
    "def rakamToplami(x, index=0, toplam=0):\n",
    "    x = str(x)\n",
    "    toplam += int(x[index])\n",
    "    \n",
    "    if index == len(x) - 1:\n",
    "        return toplam\n",
    "    else:\n",
    "        return rakamToplami(x, index + 1, toplam) # Bu fonksiyonun her seferinde yeni bir index ve toplam değeriyle çalışmasını sağlar.\n",
    "\n",
    "print(rakamToplami(123))"
   ]
  },
  {
   "cell_type": "code",
   "execution_count": 1,
   "id": "5c77bc17",
   "metadata": {},
   "outputs": [
    {
     "name": "stdout",
     "output_type": "stream",
     "text": [
      "Ters dönüşmüş liste: [5, 4, 3, 2, 1]\n"
     ]
    }
   ],
   "source": [
    "def liste_ters_dondur(liste, index=None):\n",
    "    if index is None:\n",
    "        index = len(liste) - 1\n",
    "\n",
    "    if index < 0:\n",
    "        return liste\n",
    "    else:\n",
    "        liste.append(liste[index])\n",
    "        del liste[index]\n",
    "        return liste_ters_dondur(liste, index - 1)\n",
    "\n",
    "girilen_liste = [1, 2, 3, 4, 5]\n",
    "ters_liste = liste_ters_dondur(girilen_liste)\n",
    "print(\"Ters dönüşmüş liste:\", ters_liste)    "
   ]
  },
  {
   "cell_type": "code",
   "execution_count": 5,
   "id": "b4d56d32",
   "metadata": {},
   "outputs": [
    {
     "data": {
      "text/plain": [
       "(1, 5)"
      ]
     },
     "execution_count": 5,
     "metadata": {},
     "output_type": "execute_result"
    }
   ],
   "source": [
    "def min_max(liste,i=0,mini=None,maxi=None):\n",
    "    if i==0:\n",
    "        mini=liste[0]\n",
    "        maxi=liste[0]\n",
    "        i+1\n",
    "    if len(liste)==1:\n",
    "        return liste[0]\n",
    "    else:\n",
    "        if i<len(liste):\n",
    "            if mini>liste[i]:\n",
    "                mini=liste[i]\n",
    "            if maxi<liste[i]:\n",
    "                maxi=liste[i]\n",
    "        \n",
    "            return min_max(liste,i+1,mini,maxi)\n",
    "        \n",
    "        else:\n",
    "            return mini,maxi\n",
    "        \n",
    "min_max([1,2,3,4,5])"
   ]
  },
  {
   "cell_type": "code",
   "execution_count": 1,
   "id": "e9df9092",
   "metadata": {},
   "outputs": [
    {
     "data": {
      "text/plain": [
       "2"
      ]
     },
     "execution_count": 1,
     "metadata": {},
     "output_type": "execute_result"
    }
   ],
   "source": [
    "def count_r(aranan, liste,c=0,i=0):\n",
    "    if i<len(liste):\n",
    "        if liste[i]==aranan:\n",
    "            return count_r(aranan,liste,c+1,i+1)\n",
    "        if i==len(liste)-1:\n",
    "            return c\n",
    "        else:\n",
    "            return count_r(aranan,liste,c,i+1)\n",
    "        \n",
    "count_r(1,[1,1,2,3,4])"
   ]
  },
  {
   "cell_type": "code",
   "execution_count": 1,
   "id": "cc7e7c4f",
   "metadata": {
    "scrolled": true
   },
   "outputs": [
    {
     "data": {
      "text/plain": [
       "[[1, 2, 10], [3, 4, 10], [5, 6, 10]]"
      ]
     },
     "execution_count": 1,
     "metadata": {},
     "output_type": "execute_result"
    }
   ],
   "source": [
    "def eleman_ekleyici(eleman,myList,i):\n",
    "    if i<len(myList):\n",
    "        myList[i].append(eleman)\n",
    "        return eleman_ekleyici(eleman,myList,i+1)\n",
    "    \n",
    "    return myList\n",
    "    \n",
    "eleman_ekleyici(10,[[1,2],[3,4],[5,6]],0)  "
   ]
  },
  {
   "cell_type": "code",
   "execution_count": 9,
   "id": "b0857381",
   "metadata": {},
   "outputs": [
    {
     "data": {
      "text/plain": [
       "[1, 1, 2, 3, 5, 8, 13]"
      ]
     },
     "execution_count": 9,
     "metadata": {},
     "output_type": "execute_result"
    }
   ],
   "source": [
    "def fib_dizisi(fib,i=0,j=1,c=1):\n",
    "    d=0\n",
    "    if i==0 and j==1:\n",
    "        fib.append(1)\n",
    "        fib.append(1)\n",
    "        i+=1\n",
    "        j+=1\n",
    "    if c<=5:\n",
    "        d=fib[i-1]+fib[j-1]\n",
    "        fib.append(d)\n",
    "        if c==5:\n",
    "            return fib\n",
    "        return fib_dizisi(fib,i+1,j+1,c+1)\n",
    "        \n",
    "fib_dizisi([])\n",
    "            \n",
    "            "
   ]
  },
  {
   "cell_type": "code",
   "execution_count": 12,
   "id": "f5f6a44d",
   "metadata": {},
   "outputs": [
    {
     "name": "stdout",
     "output_type": "stream",
     "text": [
      "[1, 1, 2, 3, 3, 1]\n"
     ]
    }
   ],
   "source": [
    "def TekSayi(AsciiListe,i=0,j=0,TekSayiListe=[],c=0):\n",
    "    if i<len(AsciiListe):\n",
    "        string=str(AsciiListe[i])\n",
    "        if j<len(string):\n",
    "            if int(string[j]) % 2 != 0:\n",
    "                c+=1\n",
    "            if j==len(string)-1:\n",
    "                TekSayiListe.append(c)\n",
    "            return TekSayi(AsciiListe,i,j+1,TekSayiListe,c)\n",
    "        if i==len(AsciiListe)-1 and j==len(string):\n",
    "            return TekSayiListe\n",
    "        else:\n",
    "            return TekSayi(AsciiListe,i+1,0,TekSayiListe,c=0)\n",
    "        \n",
    "print(TekSayi([1, 1424, 769, 317, 993, 449]))"
   ]
  },
  {
   "cell_type": "code",
   "execution_count": 4,
   "id": "990cc1e6",
   "metadata": {},
   "outputs": [
    {
     "data": {
      "text/plain": [
       "15"
      ]
     },
     "execution_count": 4,
     "metadata": {},
     "output_type": "execute_result"
    }
   ],
   "source": [
    "def toplam(n,i=0,top=0):\n",
    "    if len(n)==0:\n",
    "        return 0\n",
    "    if i<=(len(n)-1):\n",
    "        top+=n[i]\n",
    "        return toplam(n,i+1,top)\n",
    "    else:\n",
    "        return top\n",
    "    \n",
    "toplam([1,2,3,4,5])"
   ]
  },
  {
   "cell_type": "code",
   "execution_count": 4,
   "id": "24ef7bab",
   "metadata": {},
   "outputs": [
    {
     "data": {
      "text/plain": [
       "120"
      ]
     },
     "execution_count": 4,
     "metadata": {},
     "output_type": "execute_result"
    }
   ],
   "source": [
    "# buradan başladım\n",
    "def fak(n):\n",
    "    if n==1 or n==0:\n",
    "        return 1\n",
    "    else:\n",
    "        return n*fak(n-1)\n",
    "fak(5)"
   ]
  },
  {
   "cell_type": "code",
   "execution_count": 12,
   "id": "60336d9d",
   "metadata": {},
   "outputs": [
    {
     "data": {
      "text/plain": [
       "[1, 1, 2, 3, 5, 8]"
      ]
     },
     "execution_count": 12,
     "metadata": {},
     "output_type": "execute_result"
    }
   ],
   "source": [
    "def fib(dizi=[],i=0,j=1,c=0):\n",
    "    if i==0 and j==1:\n",
    "        dizi.append(1)\n",
    "        dizi.append(1)\n",
    "        return fib(dizi,i+1,j+1,c+1)\n",
    "    if c==5:\n",
    "        return dizi\n",
    "    else:\n",
    "        d=dizi[i-1]+dizi[j-1]\n",
    "        dizi.append(d)\n",
    "        return fib(dizi,i+1,j+1,c+1)\n",
    "fib()\n",
    "        \n",
    "    "
   ]
  },
  {
   "cell_type": "code",
   "execution_count": 25,
   "id": "714f1466",
   "metadata": {},
   "outputs": [
    {
     "name": "stdout",
     "output_type": "stream",
     "text": [
      "[1, 2, 2]\n"
     ]
    }
   ],
   "source": [
    "def TekSayi(liste,i,j,c,TekSayiListe):\n",
    "    if i<len(liste):\n",
    "        Listeici=str(liste[i])\n",
    "        if j<len(Listeici):\n",
    "            if int(Listeici[j])%2!=0:\n",
    "                c+=1\n",
    "            return TekSayi(liste,i,j+1,c,TekSayiListe)\n",
    "        else:\n",
    "            TekSayiListe.append(c)\n",
    "            return TekSayi(liste,i+1,0,0,TekSayiListe)\n",
    "    else:\n",
    "        return TekSayiListe\n",
    "sonuc=TekSayi([122,134,121],0,0,0,[])\n",
    "print(sonuc)"
   ]
  },
  {
   "cell_type": "code",
   "execution_count": 3,
   "id": "126dd360",
   "metadata": {},
   "outputs": [
    {
     "data": {
      "text/plain": [
       "6"
      ]
     },
     "execution_count": 3,
     "metadata": {},
     "output_type": "execute_result"
    }
   ],
   "source": [
    "def top(L,toplam,i):\n",
    "    if i<len(L):\n",
    "        toplam+=L[i]\n",
    "        return top(L,toplam,i+1)\n",
    "    else:\n",
    "        return toplam\n",
    "top([1,2,3],0,0)"
   ]
  },
  {
   "cell_type": "code",
   "execution_count": 7,
   "id": "3d7592e7",
   "metadata": {},
   "outputs": [
    {
     "data": {
      "text/plain": [
       "11"
      ]
     },
     "execution_count": 7,
     "metadata": {},
     "output_type": "execute_result"
    }
   ],
   "source": [
    "def rakamtop(x,j,top):\n",
    "    x=str(x)\n",
    "    if j<len(x):\n",
    "        top+=int(x[j])\n",
    "        return rakamtop(x,j+1,top)\n",
    "    else:\n",
    "        return top\n",
    "rakamtop(245,0,0)"
   ]
  },
  {
   "cell_type": "code",
   "execution_count": 9,
   "id": "df55cb41",
   "metadata": {},
   "outputs": [
    {
     "data": {
      "text/plain": [
       "(1, 9)"
      ]
     },
     "execution_count": 9,
     "metadata": {},
     "output_type": "execute_result"
    }
   ],
   "source": [
    "def minAndmax(liste,i,mini,maxi):\n",
    "    if i==0:\n",
    "        mini=liste[i]\n",
    "        maxi=liste[i]\n",
    "        return minAndmax(liste,i+1,mini,maxi)\n",
    "    elif i<len(liste) and i!=0:\n",
    "        if mini>liste[i]:\n",
    "            mini=liste[i]\n",
    "        if maxi<liste[i]:\n",
    "            maxi=liste[i]\n",
    "        return minAndmax(liste,i+1,mini,maxi)\n",
    "    else:\n",
    "        return mini,maxi\n",
    "minAndmax([1,4,7,9],0,0,0)"
   ]
  },
  {
   "cell_type": "code",
   "execution_count": 24,
   "id": "62164f3b",
   "metadata": {},
   "outputs": [
    {
     "data": {
      "text/plain": [
       "16"
      ]
     },
     "execution_count": 24,
     "metadata": {},
     "output_type": "execute_result"
    }
   ],
   "source": [
    "# YENİ BİR SORU ÇÖZDÜM !\n",
    "def sum_r(liste,i,j,top):\n",
    "    if i<len(liste):\n",
    "        if type(liste[i])==list:\n",
    "            if j<len(liste[i]):\n",
    "                top+=liste[i][j]\n",
    "                return sum_r(liste,i,j+1,top)\n",
    "            else:\n",
    "                return sum_r(liste,i+1,0,top)\n",
    "        if type(liste[i])!=list:\n",
    "            top+=liste[i]\n",
    "            return sum_r(liste,i+1,0,top)\n",
    "    else:\n",
    "        return top\n",
    "        \n",
    "sum_r([[1,1],[2,2],[3,3],4],0,0,0)"
   ]
  },
  {
   "cell_type": "code",
   "execution_count": 23,
   "id": "2422c405",
   "metadata": {},
   "outputs": [
    {
     "name": "stdout",
     "output_type": "stream",
     "text": [
      "<class 'list'>\n"
     ]
    }
   ],
   "source": [
    "l=[1,[2,2],4]\n",
    "a=type(l[1])\n",
    "print(a)"
   ]
  },
  {
   "cell_type": "code",
   "execution_count": 8,
   "id": "e088c00d",
   "metadata": {},
   "outputs": [
    {
     "data": {
      "text/plain": [
       "[1, 1, 2, 3, 5, 8, 13, 21, 34]"
      ]
     },
     "execution_count": 8,
     "metadata": {},
     "output_type": "execute_result"
    }
   ],
   "source": [
    "def fib_dizisi(n,liste,i,j,d):\n",
    "    if n==1:\n",
    "        liste.append(1)\n",
    "        liste.append(1)\n",
    "        return fib_dizisi(n+2,liste,i,j,d)\n",
    "    else:\n",
    "        if n<=d:\n",
    "            k=liste[i]+liste[j]\n",
    "            liste.append(k)\n",
    "            return fib_dizisi(n+1,liste,i+1,j+1,d)\n",
    "        else:\n",
    "            return liste\n",
    "fib_dizisi(1,[],0,1,9)"
   ]
  },
  {
   "cell_type": "code",
   "execution_count": null,
   "id": "1cdcd48e",
   "metadata": {},
   "outputs": [],
   "source": []
  }
 ],
 "metadata": {
  "kernelspec": {
   "display_name": "Python 3 (ipykernel)",
   "language": "python",
   "name": "python3"
  },
  "language_info": {
   "codemirror_mode": {
    "name": "ipython",
    "version": 3
   },
   "file_extension": ".py",
   "mimetype": "text/x-python",
   "name": "python",
   "nbconvert_exporter": "python",
   "pygments_lexer": "ipython3",
   "version": "3.9.12"
  }
 },
 "nbformat": 4,
 "nbformat_minor": 5
}
