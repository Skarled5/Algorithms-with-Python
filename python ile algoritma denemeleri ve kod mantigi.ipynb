{
 "cells": [
  {
   "cell_type": "code",
   "execution_count": 2,
   "id": "9bbc37ce",
   "metadata": {},
   "outputs": [
    {
     "name": "stdout",
     "output_type": "stream",
     "text": [
      "[['hakan', 20], ['burak', 18]]\n",
      "['hakan', 20, 'burak', 18]\n"
     ]
    }
   ],
   "source": [
    "liste = ['hakan',20]\n",
    "liste1= ['burak',18]\n",
    "listem = [liste,liste1]\n",
    "listem1 = liste+liste1\n",
    "print(listem)\n",
    "print(listem1)"
   ]
  },
  {
   "cell_type": "code",
   "execution_count": 4,
   "id": "aca29b63",
   "metadata": {},
   "outputs": [
    {
     "name": "stdout",
     "output_type": "stream",
     "text": [
      "x:21\n",
      "<class 'str'>\n"
     ]
    }
   ],
   "source": [
    "x = input(\"x:\") # inputan gelen değer string olarak alınır\n",
    "print(type(x))"
   ]
  },
  {
   "cell_type": "code",
   "execution_count": 5,
   "id": "b0047059",
   "metadata": {},
   "outputs": [
    {
     "name": "stdout",
     "output_type": "stream",
     "text": [
      "1\n"
     ]
    }
   ],
   "source": [
    "k=True\n",
    "k=int(k)\n",
    "print(k)"
   ]
  },
  {
   "cell_type": "code",
   "execution_count": 8,
   "id": "71e95c3e",
   "metadata": {},
   "outputs": [
    {
     "name": "stdout",
     "output_type": "stream",
     "text": [
      "HakanPolat\n",
      "Hakan Polat\n"
     ]
    }
   ],
   "source": [
    "adı= 'Hakan'\n",
    "soyad = 'Polat'\n",
    "users = adı + soyad\n",
    "print(users)\n",
    "users1 = adı + ' ' + soyad\n",
    "print(users1)"
   ]
  },
  {
   "cell_type": "code",
   "execution_count": 5,
   "id": "79850abe",
   "metadata": {},
   "outputs": [
    {
     "name": "stdout",
     "output_type": "stream",
     "text": [
      "hakan abe\n"
     ]
    }
   ],
   "source": [
    "string = 'hakan'\n",
    "string+=' abe'\n",
    "print(string)"
   ]
  },
  {
   "cell_type": "code",
   "execution_count": 6,
   "id": "4063bac4",
   "metadata": {},
   "outputs": [
    {
     "name": "stdout",
     "output_type": "stream",
     "text": [
      "hakanabe\n"
     ]
    }
   ],
   "source": [
    "string = 'hakan'\n",
    "string+='abe'\n",
    "print(string)"
   ]
  },
  {
   "cell_type": "code",
   "execution_count": 1,
   "id": "defab32f",
   "metadata": {},
   "outputs": [
    {
     "name": "stdout",
     "output_type": "stream",
     "text": [
      "Bu kod doğrudan çalıştırıldı!\n"
     ]
    }
   ],
   "source": [
    "def main():\n",
    "    print(\"Bu kod doğrudan çalıştırıldı!\")\n",
    "\n",
    "if __name__ == \"__main__\":\n",
    "    main()"
   ]
  },
  {
   "cell_type": "code",
   "execution_count": 1,
   "id": "e28529d1",
   "metadata": {},
   "outputs": [
    {
     "data": {
      "text/plain": [
       "720"
      ]
     },
     "execution_count": 1,
     "metadata": {},
     "output_type": "execute_result"
    }
   ],
   "source": [
    "def fonks(n):\n",
    "    if n==0 or n==1:        \n",
    "        return 1\n",
    "    else:        \n",
    "        return n*fonks(n-1)\n",
    "        \n",
    "fonks(6)"
   ]
  },
  {
   "cell_type": "code",
   "execution_count": 3,
   "id": "d34eee43",
   "metadata": {},
   "outputs": [
    {
     "data": {
      "text/plain": [
       "10"
      ]
     },
     "execution_count": 3,
     "metadata": {},
     "output_type": "execute_result"
    }
   ],
   "source": [
    "def toplam(liste):\n",
    "    if len(liste)==1:\n",
    "        return liste[0]\n",
    "    else:\n",
    "        return liste[0] + toplam(liste[1:])\n",
    "    \n",
    "toplam([1,2,3,4])"
   ]
  },
  {
   "cell_type": "code",
   "execution_count": 4,
   "id": "ea02b899",
   "metadata": {},
   "outputs": [
    {
     "name": "stdout",
     "output_type": "stream",
     "text": [
      "[1, 4, 9, 16, 25]\n"
     ]
    }
   ],
   "source": [
    "def kare_al(x):\n",
    "    return x ** 2\n",
    "\n",
    "liste = [1, 2, 3, 4, 5]\n",
    "\n",
    "kareler = map(kare_al, liste)\n",
    "\n",
    "print(list(kareler))"
   ]
  },
  {
   "cell_type": "code",
   "execution_count": 5,
   "id": "79da641c",
   "metadata": {},
   "outputs": [
    {
     "name": "stdout",
     "output_type": "stream",
     "text": [
      "[1, 4, 9, 16, 25]\n"
     ]
    }
   ],
   "source": [
    "liste = [1, 2, 3, 4, 5]\n",
    "\n",
    "kareler = map(lambda x: x ** 2, liste) #lambda return yerine geçiyor \n",
    "\n",
    "print(list(kareler))"
   ]
  },
  {
   "cell_type": "code",
   "execution_count": 5,
   "id": "f5fc322b",
   "metadata": {},
   "outputs": [
    {
     "name": "stdout",
     "output_type": "stream",
     "text": [
      "1 4 9 16 25  \n"
     ]
    }
   ],
   "source": [
    "def kare_al(x):\n",
    "    return x ** 2\n",
    "\n",
    "liste = [1, 2, 3, 4, 5]\n",
    "\n",
    "kareler = map(kare_al, liste)\n",
    "\n",
    "for i in kareler:\n",
    "    print(i,end=\" \")\n",
    "    \n",
    "print(\" \")"
   ]
  },
  {
   "cell_type": "code",
   "execution_count": 1,
   "id": "8ea7c503",
   "metadata": {},
   "outputs": [
    {
     "name": "stdout",
     "output_type": "stream",
     "text": [
      "[4, 16, 36, 64]\n"
     ]
    }
   ],
   "source": [
    "liste = [1, 2, 3, 4, 5, 6, 7, 8, 9]\n",
    "\n",
    "# Filter ile çift sayıları seç\n",
    "cift_sayilar = filter(lambda x: x % 2 == 0, liste)\n",
    "\n",
    "# Map ile seçilen çift sayıların karelerini al\n",
    "kareler = map(lambda x: x ** 2, cift_sayilar)\n",
    "\n",
    "print(list(kareler))"
   ]
  },
  {
   "cell_type": "code",
   "execution_count": 4,
   "id": "d734b025",
   "metadata": {},
   "outputs": [
    {
     "name": "stdout",
     "output_type": "stream",
     "text": [
      "[2, 4, 6, 8]\n"
     ]
    }
   ],
   "source": [
    "def check_even(num):\n",
    "    return num % 2 == 0\n",
    "\n",
    "liste = [1, 2, 3, 4, 5, 6, 7, 8, 9]\n",
    "\n",
    "result = list(filter(check_even, liste))\n",
    "\n",
    "print(result)"
   ]
  },
  {
   "cell_type": "code",
   "execution_count": 7,
   "id": "a3ed3024",
   "metadata": {},
   "outputs": [
    {
     "name": "stdout",
     "output_type": "stream",
     "text": [
      "[2, 4, 6, 8]\n"
     ]
    }
   ],
   "source": [
    "liste = [1, 2, 3, 4, 5, 6, 7, 8, 9]\n",
    "\n",
    "result = list(filter(lambda num: num%2==0, liste))\n",
    "\n",
    "print(result)"
   ]
  },
  {
   "cell_type": "code",
   "execution_count": 8,
   "id": "28fd463a",
   "metadata": {},
   "outputs": [
    {
     "name": "stdout",
     "output_type": "stream",
     "text": [
      "Local değişken: 5\n",
      "Global değişken (fonksiyon içinde erişilebilir): 10\n",
      "Global değişken (fonksiyon dışında erişilebilir): 10\n"
     ]
    }
   ],
   "source": [
    "global_var = 10  # Global bir değişken\n",
    "\n",
    "def example_function():\n",
    "    local_var = 5  # Local bir değişken\n",
    "    print(\"Local değişken:\", local_var)\n",
    "    print(\"Global değişken (fonksiyon içinde erişilebilir):\", global_var)\n",
    "\n",
    "example_function()\n",
    "print(\"Global değişken (fonksiyon dışında erişilebilir):\", global_var)\n",
    "\n",
    "# print(\"Local değişken (fonksiyon dışında erişilemez):\", local_var)  # Hata! local_var dışarıda erişilemez"
   ]
  },
  {
   "cell_type": "code",
   "execution_count": 1,
   "id": "197d13fc",
   "metadata": {},
   "outputs": [
    {
     "name": "stdout",
     "output_type": "stream",
     "text": [
      "['elma', 'armut', 'portakal']\n"
     ]
    }
   ],
   "source": [
    "alan = \"elma,armut,portakal\"\n",
    "alan_listesi = []\n",
    "parca = \"\"\n",
    "\n",
    "for karakter in alan:\n",
    "    if karakter == \",\":\n",
    "        alan_listesi.append(parca)\n",
    "        parca = \"\"\n",
    "    else:\n",
    "        parca += karakter\n",
    "\n",
    "alan_listesi.append(parca)\n",
    "\n",
    "print(alan_listesi)"
   ]
  },
  {
   "cell_type": "code",
   "execution_count": 1,
   "id": "d9f6f13a",
   "metadata": {},
   "outputs": [
    {
     "name": "stdout",
     "output_type": "stream",
     "text": [
      "hakan polat\n",
      "var\n",
      "yok\n"
     ]
    }
   ],
   "source": [
    "def deneme(ad, soyad):\n",
    "    return ad + \" \" + soyad\n",
    "\n",
    "# Burada string değişkenini tanımlıyoruz\n",
    "string = \"hakan\"\n",
    "\n",
    "incele = deneme(\"hakan\", \"polat\")\n",
    "print(incele)\n",
    "\n",
    "if string in incele:\n",
    "    print(\"var\")\n",
    "else:\n",
    "    print(\"yok\")\n",
    "\n",
    "incele = deneme(\"ayşe\", \"benim\")\n",
    "\n",
    "if string in incele:\n",
    "    print(\"var\")\n",
    "else:\n",
    "    print(\"yok\")"
   ]
  },
  {
   "cell_type": "code",
   "execution_count": 2,
   "id": "6531d8a6",
   "metadata": {},
   "outputs": [
    {
     "name": "stdout",
     "output_type": "stream",
     "text": [
      "['hakan', 'polat']\n",
      "var\n",
      "var\n"
     ]
    }
   ],
   "source": [
    "def deneme(ad, soyad):\n",
    "    return [ad, soyad]  # ad ve soyad'ı bir liste olarak döndürüyoruz\n",
    "\n",
    "incele = deneme(\"hakan\", \"polat\")\n",
    "print(incele)  # Çıktı: ['hakan', 'polat']\n",
    "\n",
    "if \"hakan\" in incele:\n",
    "    print(\"var\")\n",
    "else:\n",
    "    print(\"yok\")\n",
    "\n",
    "if \"polat\" in incele:\n",
    "    print(\"var\")\n",
    "else:\n",
    "    print(\"yok\")"
   ]
  },
  {
   "cell_type": "code",
   "execution_count": 1,
   "id": "06e829d2",
   "metadata": {},
   "outputs": [
    {
     "name": "stdout",
     "output_type": "stream",
     "text": [
      "<function deneme at 0x000001939E8AF430>\n"
     ]
    },
    {
     "ename": "TypeError",
     "evalue": "argument of type 'function' is not iterable",
     "output_type": "error",
     "traceback": [
      "\u001b[1;31m---------------------------------------------------------------------------\u001b[0m",
      "\u001b[1;31mTypeError\u001b[0m                                 Traceback (most recent call last)",
      "Input \u001b[1;32mIn [1]\u001b[0m, in \u001b[0;36m<cell line: 7>\u001b[1;34m()\u001b[0m\n\u001b[0;32m      4\u001b[0m incele \u001b[38;5;241m=\u001b[39m deneme(\u001b[38;5;124m\"\u001b[39m\u001b[38;5;124mhakan\u001b[39m\u001b[38;5;124m\"\u001b[39m, \u001b[38;5;124m\"\u001b[39m\u001b[38;5;124mpolat\u001b[39m\u001b[38;5;124m\"\u001b[39m)\n\u001b[0;32m      5\u001b[0m \u001b[38;5;28mprint\u001b[39m(incele)  \u001b[38;5;66;03m# Çıktı: ['hakan', 'polat']\u001b[39;00m\n\u001b[1;32m----> 7\u001b[0m \u001b[38;5;28;01mif\u001b[39;00m \u001b[38;5;124;43m\"\u001b[39;49m\u001b[38;5;124;43mhakan\u001b[39;49m\u001b[38;5;124;43m\"\u001b[39;49m\u001b[43m \u001b[49m\u001b[38;5;129;43;01min\u001b[39;49;00m\u001b[43m \u001b[49m\u001b[43mincele\u001b[49m:\n\u001b[0;32m      8\u001b[0m     \u001b[38;5;28mprint\u001b[39m(\u001b[38;5;124m\"\u001b[39m\u001b[38;5;124mvar\u001b[39m\u001b[38;5;124m\"\u001b[39m)\n\u001b[0;32m      9\u001b[0m \u001b[38;5;28;01melse\u001b[39;00m:\n",
      "\u001b[1;31mTypeError\u001b[0m: argument of type 'function' is not iterable"
     ]
    }
   ],
   "source": [
    "def deneme(ad, soyad):\n",
    "    return deneme  # ad ve soyad'ı bir liste olarak döndürüyoruz\n",
    "\n",
    "incele = deneme(\"hakan\", \"polat\")\n",
    "print(incele)  # Çıktı: ['hakan', 'polat']\n",
    "\n",
    "if \"hakan\" in incele:\n",
    "    print(\"var\")\n",
    "else:\n",
    "    print(\"yok\")\n",
    "\n",
    "if \"polat\" in incele:\n",
    "    print(\"var\")\n",
    "else:\n",
    "    print(\"yok\")"
   ]
  },
  {
   "cell_type": "code",
   "execution_count": 1,
   "id": "67b0c1d6",
   "metadata": {},
   "outputs": [
    {
     "name": "stdout",
     "output_type": "stream",
     "text": [
      "Ankara\n"
     ]
    }
   ],
   "source": [
    "a = 12\n",
    "a = \"Ankara\"\n",
    "print(a)"
   ]
  },
  {
   "cell_type": "code",
   "execution_count": 1,
   "id": "e902adab",
   "metadata": {},
   "outputs": [
    {
     "name": "stdout",
     "output_type": "stream",
     "text": [
      "yanıt: MERHABA\n"
     ]
    }
   ],
   "source": [
    "mesaj = \"MERHABA\"\n",
    "print(\"yanıt:\",mesaj)"
   ]
  },
  {
   "cell_type": "code",
   "execution_count": 5,
   "id": "756c81e9",
   "metadata": {},
   "outputs": [
    {
     "name": "stdout",
     "output_type": "stream",
     "text": [
      "yanıt: MERHABA\n",
      "1\n"
     ]
    }
   ],
   "source": [
    "mesaj = \"MERHABA\"\n",
    "print(\"yanıt:\"+\" \"+mesaj)\n",
    "print(mesaj.index(\"E\"))\n",
    "mesaj.replace"
   ]
  },
  {
   "cell_type": "code",
   "execution_count": 8,
   "id": "43170c97",
   "metadata": {},
   "outputs": [
    {
     "name": "stdout",
     "output_type": "stream",
     "text": [
      "Hey Çokmu İyisin\n"
     ]
    }
   ],
   "source": [
    "ifade = \"Merhaba Nasılsın Çokmu İyisin\"\n",
    "ekleme = \"Hey \"\n",
    "c=0\n",
    "istenilen_degisim = int(input(\"degisim:\"))\n",
    "for karakter in range(len(ifade)):\n",
    "    if c==istenilen_degisim:\n",
    "        yeni_ifade = ekleme+ifade[karakter:len(ifade)]\n",
    "        print(yeni_ifade)\n",
    "        break\n",
    "    if ifade[karakter] == \" \":\n",
    "        c+=1\n",
    "    \n",
    "    \n",
    "    "
   ]
  },
  {
   "cell_type": "code",
   "execution_count": 10,
   "id": "f8ab56be",
   "metadata": {},
   "outputs": [
    {
     "name": "stdout",
     "output_type": "stream",
     "text": [
      "Merhaba Hoşça mı? Çokmu İyisin\n"
     ]
    }
   ],
   "source": [
    "# replacenin yerine geçer\n",
    "def custom_replace(metin, eski_ifade, yeni_ifade):\n",
    "    result = \"\"\n",
    "    i = 0\n",
    "    while i < len(metin):\n",
    "        if text[i:i+len(eski_ifade)] == eski_ifade:\n",
    "            result += yeni_ifade\n",
    "            i += len(eski_ifade)\n",
    "        else:\n",
    "            result += metin[i]\n",
    "            i += 1\n",
    "    return result\n",
    "\n",
    "metin = \"Merhaba Nasılsın Çokmu İyisin\"\n",
    "eski_ifade = \"Nasılsın\"\n",
    "yeni_ifade = \"Hoşça mı?\"\n",
    "sonuc = custom_replace(metin, eski_ifade, yeni_ifade)\n",
    "print(sonuc)"
   ]
  },
  {
   "cell_type": "code",
   "execution_count": 1,
   "id": "a3c79ecc",
   "metadata": {},
   "outputs": [
    {
     "name": "stdout",
     "output_type": "stream",
     "text": [
      "yok\n"
     ]
    }
   ],
   "source": [
    "listem = [1,2,3,4]\n",
    "varmı = False\n",
    "aranan=10\n",
    "for i in range(0,len(listem)):\n",
    "    if listem[i]==aranan:\n",
    "        varmı = True\n",
    "        \n",
    "if varmı:\n",
    "    print(\"içinde\")\n",
    "\n",
    "else:\n",
    "    print(\"yok\")"
   ]
  },
  {
   "cell_type": "code",
   "execution_count": 1,
   "id": "0cec9893",
   "metadata": {},
   "outputs": [
    {
     "name": "stdout",
     "output_type": "stream",
     "text": [
      "merhaba\n"
     ]
    }
   ],
   "source": [
    "a = 10\n",
    "b = \"merhaba\"\n",
    "a = b\n",
    "print(a)"
   ]
  },
  {
   "cell_type": "code",
   "execution_count": 4,
   "id": "3c4210d5",
   "metadata": {},
   "outputs": [
    {
     "name": "stdout",
     "output_type": "stream",
     "text": [
      "[97, 7, 8]\n"
     ]
    }
   ],
   "source": [
    "liste1 = [1,2,3]\n",
    "liste2 = [6,7,8]\n",
    "liste1 = liste2\n",
    "liste1[0] = 97\n",
    "print(liste1)"
   ]
  },
  {
   "cell_type": "code",
   "execution_count": 5,
   "id": "d14f085f",
   "metadata": {},
   "outputs": [
    {
     "name": "stdout",
     "output_type": "stream",
     "text": [
      "[97, 7, 8]\n"
     ]
    }
   ],
   "source": [
    "liste1 = [1,2,3]\n",
    "liste2 = [6,7,8]\n",
    "liste1 = liste2\n",
    "liste1[0] = 97\n",
    "print(liste2)"
   ]
  },
  {
   "cell_type": "code",
   "execution_count": 1,
   "id": "e0723dc7",
   "metadata": {},
   "outputs": [
    {
     "name": "stdout",
     "output_type": "stream",
     "text": [
      "apple banana cherry\n"
     ]
    }
   ],
   "source": [
    "my_list = [\"apple\", \"banana\", \"cherry\"]\n",
    "my_string = \" \".join(my_list)\n",
    "print(my_string)"
   ]
  },
  {
   "cell_type": "code",
   "execution_count": 2,
   "id": "36207621",
   "metadata": {},
   "outputs": [
    {
     "name": "stdout",
     "output_type": "stream",
     "text": [
      "f\n",
      "l\n",
      "o\n",
      "w\n",
      "e\n",
      "r\n",
      "f\n",
      "l\n",
      "o\n",
      "w\n",
      "f\n",
      "l\n",
      "i\n",
      "g\n",
      "h\n",
      "t\n"
     ]
    }
   ],
   "source": [
    "my_list = [\"flower\", \"flow\", \"flight\"]\n",
    "\n",
    "for word in my_list:\n",
    "    for letter in word:\n",
    "        print(letter)"
   ]
  },
  {
   "cell_type": "code",
   "execution_count": 1,
   "id": "29d04c20",
   "metadata": {},
   "outputs": [],
   "source": [
    "my_set = set()\n",
    "my_set.add(1)\n",
    "my_set.add(2)\n",
    "my_set.add(3)\n",
    "\n",
    "# Eleman çıkarma\n",
    "my_set.remove(2)\n",
    "\n",
    "# Matematiksel işlemler\n",
    "set1 = {1, 2, 3, 4}\n",
    "set2 = {3, 4, 5, 6}\n",
    "\n",
    "intersection = set1.intersection(set2)  # Kesişim\n",
    "union = set1.union(set2)                # Birleşim\n",
    "difference = set1.difference(set2)"
   ]
  },
  {
   "cell_type": "code",
   "execution_count": 1,
   "id": "9c1b4594",
   "metadata": {},
   "outputs": [
    {
     "name": "stdout",
     "output_type": "stream",
     "text": [
      "a=1\n",
      "a=2\n",
      "a=3\n",
      "a=4\n",
      "a=q\n",
      "Liste= [1, 2, 3, 4]   Sayı= 4321   Karekökü= 65.73431371817918\n"
     ]
    }
   ],
   "source": [
    "liste = []\n",
    "while True:\n",
    "    a = input(\"a=\")    \n",
    "    if a==\"q\": break\n",
    "    liste.append(int(a))\n",
    "sayi = 0\n",
    "for i in range(len(liste)):\n",
    "    sayi += liste[i] * (10**i)\n",
    "print(\"Liste=\",liste,\"  Sayı=\",sayi,\"  Karekökü=\",sayi**0.5)"
   ]
  },
  {
   "cell_type": "code",
   "execution_count": 9,
   "id": "0e114b85",
   "metadata": {
    "scrolled": true
   },
   "outputs": [
    {
     "name": "stdout",
     "output_type": "stream",
     "text": [
      "a=1\n",
      "a=2\n",
      "a=3\n",
      "a=4\n",
      "a=q\n",
      "Liste= [1, 2, 3, 4]  Sayı= 4321  Karekökü= 65.73431371817918\n"
     ]
    }
   ],
   "source": [
    "liste = []\n",
    "while True:\n",
    "    a = input(\"a=\")    \n",
    "    if a==\"q\": \n",
    "        break\n",
    "    liste.append(int(a))\n",
    "sayi = \"\"\n",
    "for i in range(len(liste)-1,-1,-1):\n",
    "    sayi += str(liste[i])\n",
    "    \n",
    "sayi1 = int(sayi)\n",
    "print(\"Liste=\", liste, \" Sayı=\", sayi1, \" Karekökü=\", sayi1**0.5)\n",
    "\n",
    "# while True döngüsü sonsuz bir döngüdür ve çıkış koşulu belirli bir koşulun sağlanmasıyla sona ermeli"
   ]
  },
  {
   "cell_type": "code",
   "execution_count": 10,
   "id": "c5943150",
   "metadata": {},
   "outputs": [
    {
     "ename": "TypeError",
     "evalue": "can only concatenate str (not \"int\") to str",
     "output_type": "error",
     "traceback": [
      "\u001b[1;31m---------------------------------------------------------------------------\u001b[0m",
      "\u001b[1;31mTypeError\u001b[0m                                 Traceback (most recent call last)",
      "Input \u001b[1;32mIn [10]\u001b[0m, in \u001b[0;36m<cell line: 3>\u001b[1;34m()\u001b[0m\n\u001b[0;32m      1\u001b[0m sayi \u001b[38;5;241m=\u001b[39m \u001b[38;5;124m\"\u001b[39m\u001b[38;5;124m123\u001b[39m\u001b[38;5;124m\"\u001b[39m\n\u001b[0;32m      2\u001b[0m liste_i \u001b[38;5;241m=\u001b[39m \u001b[38;5;241m4\u001b[39m\n\u001b[1;32m----> 3\u001b[0m sayi \u001b[38;5;241m+\u001b[39m\u001b[38;5;241m=\u001b[39m liste_i\n",
      "\u001b[1;31mTypeError\u001b[0m: can only concatenate str (not \"int\") to str"
     ]
    }
   ],
   "source": [
    "sayi = \"123\"\n",
    "liste_i = 4\n",
    "sayi += liste_i  # Bu satır hata verecektir\n",
    "# veriyi karakter dizisi olarak birleştirmek yerine sayısal bir işlem yapmaya çalışmak anlamına gelir yani str str ile birleştriebilirsin"
   ]
  },
  {
   "cell_type": "code",
   "execution_count": 11,
   "id": "efec2a3c",
   "metadata": {},
   "outputs": [
    {
     "name": "stdout",
     "output_type": "stream",
     "text": [
      "n=3\n",
      "taban=2\n",
      "ust=4\n",
      "taban=2\n",
      "ust=4\n",
      "taban=1\n",
      "ust=3\n",
      "Sayı= 1  Indeks= 2\n"
     ]
    }
   ],
   "source": [
    "n=int(input(\"n=\"))\n",
    "liste=[]\n",
    "for i in range(n):\n",
    "    taban=int(input(\"taban=\"))\n",
    "    ust=int(input(\"ust=\"))\n",
    "    liste.append(taban**ust)\n",
    "for i in range(n):    \n",
    "    c=0\n",
    "    for j in range(n):\n",
    "        if liste[i]==liste[j]:\n",
    "            c+=1            \n",
    "    if c==1:\n",
    "        print(\"Sayı=\",liste[i],\" Indeks=\",i)"
   ]
  },
  {
   "cell_type": "code",
   "execution_count": 5,
   "id": "a110cbab",
   "metadata": {},
   "outputs": [
    {
     "name": "stdout",
     "output_type": "stream",
     "text": [
      "programlama\n"
     ]
    }
   ],
   "source": [
    "liste=[\"programlama\"]\n",
    "ordislemi=\"\"\n",
    "for i in range(len(liste)):\n",
    "    for j in range(len(liste[i])):\n",
    "        ordislemi+=liste[i][j]\n",
    "print(ordislemi)"
   ]
  },
  {
   "cell_type": "code",
   "execution_count": 9,
   "id": "f6a749bf",
   "metadata": {},
   "outputs": [
    {
     "name": "stdout",
     "output_type": "stream",
     "text": [
      "[1171, 1708, 3405]\n"
     ]
    }
   ],
   "source": [
    "liste=[\"programlama\",\"nesne\",\"veriyapıları\"]\n",
    "ordislemi=0\n",
    "listOrd=[]\n",
    "for i in range(len(liste)):\n",
    "    for j in range(len(liste[i])):\n",
    "        ordislemi+=ord(liste[i][j])\n",
    "    listOrd.append(ordislemi)\n",
    "print(listOrd)"
   ]
  },
  {
   "cell_type": "code",
   "execution_count": 19,
   "id": "743cc031",
   "metadata": {},
   "outputs": [
    {
     "name": "stdout",
     "output_type": "stream",
     "text": [
      "Sayı giriniz:4\n",
      "*        *\n",
      "**      **\n",
      "***    ***\n",
      "****  ****\n",
      "**********\n",
      "****  ****\n",
      "***    ***\n",
      "**      **\n",
      "*        *\n"
     ]
    }
   ],
   "source": [
    "sayi = int(input('Sayı giriniz:'))\n",
    "for i in range(sayi):\n",
    "    for k in range(i+1):\n",
    "        print('*', end='')\n",
    "    for k in range((sayi-i)*2):\n",
    "        print(' ', end='')\n",
    "    for k in range(i+1):\n",
    "        print('*', end='')\n",
    "    print('')\n",
    "for i in range(sayi, -1, -1):\n",
    "    for k in range(i+1):\n",
    "        print('*', end='')\n",
    "    for k in range((sayi - i) * 2):\n",
    "        print(' ', end='')\n",
    "    for k in range(i+1):\n",
    "        print('*', end='')\n",
    "    print('')\n"
   ]
  },
  {
   "cell_type": "code",
   "execution_count": 6,
   "id": "a4140b09",
   "metadata": {},
   "outputs": [
    {
     "name": "stdout",
     "output_type": "stream",
     "text": [
      "n:5\n",
      "********\n",
      " ******\n",
      "  ****\n",
      "   **\n",
      "    \n",
      "     \n",
      "    **\n",
      "   ****\n",
      "  ******\n",
      " ********\n"
     ]
    }
   ],
   "source": [
    "n=int(input(\"n:\"))\n",
    "for i in range(n,0,-1):\n",
    "    for j in range(n-i):\n",
    "        print(\" \",end=\"\")\n",
    "    for j in range(i-1):\n",
    "        print(\"*\"*2,end=\"\")\n",
    "    print(\"\")\n",
    "for i in range(n):\n",
    "    for j in range(n-i):\n",
    "        print(\" \",end=\"\")\n",
    "    for j in range(i):\n",
    "        print(\"*\"*2,end=\"\")\n",
    "    print(\"\")\n",
    "    "
   ]
  },
  {
   "cell_type": "code",
   "execution_count": 3,
   "id": "93c6a08c",
   "metadata": {},
   "outputs": [
    {
     "name": "stdout",
     "output_type": "stream",
     "text": [
      "[4, 2]\n"
     ]
    }
   ],
   "source": [
    "dizi = [1,4,4,2,3,2]\n",
    "tekrar=[]\n",
    "for i in range(len(dizi)):\n",
    "    c=0\n",
    "    for j in range(i+1,len(dizi)):\n",
    "        if dizi[i]==dizi[j]:\n",
    "            c+=1\n",
    "    if c>0:\n",
    "        tekrar.append(dizi[i])\n",
    "print(tekrar)\n",
    "        "
   ]
  },
  {
   "cell_type": "code",
   "execution_count": 13,
   "id": "a807a19f",
   "metadata": {},
   "outputs": [
    {
     "name": "stdout",
     "output_type": "stream",
     "text": [
      "[-5, -3, -2, -1, 1, 1, 2, 4, 4]\n",
      "[2, 1, -1, -2, -3, -5]\n"
     ]
    }
   ],
   "source": [
    "Dizi = [-2, 1, -3, 4, -1, 2, 1, -5, 4]\n",
    "AltDizi = []\n",
    "for i in range(len(Dizi)):\n",
    "    for j in range(i+1,len(Dizi)):\n",
    "        if Dizi[i]>Dizi[j]:\n",
    "            Dizi[i],Dizi[j]=Dizi[j],Dizi[i]\n",
    "            \n",
    "print(Dizi)\n",
    "\n",
    "while len(AltDizi)<4\n",
    "for i in range(len(Dizi)-1,0,-1):\n",
    "    for j in range(i-1,i-2,-1):\n",
    "        if Dizi[i]!=Dizi[j]:\n",
    "            AltDizi.append(Dizi[j])\n",
    "            if len(AltDizi)>2:\n",
    "                break\n",
    "print(AltDizi)\n",
    "        \n",
    "\n",
    "\n",
    "            "
   ]
  },
  {
   "cell_type": "code",
   "execution_count": 18,
   "id": "4757c482",
   "metadata": {},
   "outputs": [
    {
     "name": "stdout",
     "output_type": "stream",
     "text": [
      "[-5, -3, -2, -1, 1, 1, 2, 4, 4]\n",
      "[4, 2]\n"
     ]
    }
   ],
   "source": [
    "Dizi = [-2, 1, -3, 4, -1, 2, 1, -5, 4]\n",
    "AltDizi = []\n",
    "for i in range(len(Dizi)):\n",
    "    for j in range(i+1,len(Dizi)):\n",
    "        if Dizi[i]>Dizi[j]:\n",
    "            Dizi[i],Dizi[j]=Dizi[j],Dizi[i]\n",
    "            \n",
    "print(Dizi)\n",
    "\n",
    "\n",
    "for i in range(len(Dizi)-1,0,-1):\n",
    "    for j in range(i-1,i-2,-1):\n",
    "        if Dizi[i]!=Dizi[j]:\n",
    "            AltDizi.append(Dizi[i])\n",
    "            AltDizi.append(Dizi[j])\n",
    "            if len(AltDizi)<4:\n",
    "                print(AltDizi)\n",
    "            else:\n",
    "                "
   ]
  },
  {
   "cell_type": "code",
   "execution_count": 13,
   "id": "e30f379b",
   "metadata": {},
   "outputs": [
    {
     "name": "stdout",
     "output_type": "stream",
     "text": [
      "n:5\n",
      "[1, 1, 2, 3, 5, 8]\n"
     ]
    }
   ],
   "source": [
    "liste=[]\n",
    "liste.append(1)\n",
    "liste.append(1)\n",
    "n=int(input(\"n:\"))\n",
    "i=0\n",
    "j=1\n",
    "while len(liste)<6:\n",
    "    liste.append(liste[i]+liste[j])\n",
    "    i+=1\n",
    "    j+=1\n",
    "print(liste)      "
   ]
  },
  {
   "cell_type": "code",
   "execution_count": 2,
   "id": "852980f8",
   "metadata": {},
   "outputs": [
    {
     "name": "stdout",
     "output_type": "stream",
     "text": [
      "[1, 3, 5, 7, 4, 6, 8, 9, 15]\n"
     ]
    }
   ],
   "source": [
    "listem = [1, 3, 5, 7, 2, 4, 6, 8,9,6,4,15]\n",
    "AltDizim = [listem[0]]  # İlk elemanı başlangıç olarak ekliyoruz\n",
    "\n",
    "for i in range(1, len(listem)):\n",
    "    if listem[i-1] < listem[i]:\n",
    "        AltDizim.append(listem[i])\n",
    "\n",
    "print(AltDizim)\n",
    "         "
   ]
  },
  {
   "cell_type": "code",
   "execution_count": 3,
   "id": "38747fab",
   "metadata": {},
   "outputs": [
    {
     "name": "stdout",
     "output_type": "stream",
     "text": [
      "[[1, 4, 7], [2, 5, 8], [3, 6, 9]]\n"
     ]
    }
   ],
   "source": [
    "x=[[1, 2, 3],[4, 5, 6],[7, 8, 9]]\n",
    "k=[]\n",
    "for i in range(len(x)):\n",
    "    y=[]\n",
    "    for j in range(len(x[0])):\n",
    "        y.append(x[j][i])\n",
    "    k.append(y)\n",
    "    \n",
    "print(k)\n",
    "    \n",
    "\n",
    "        "
   ]
  },
  {
   "cell_type": "code",
   "execution_count": 4,
   "id": "7acae7a3",
   "metadata": {},
   "outputs": [
    {
     "name": "stdout",
     "output_type": "stream",
     "text": [
      "[[7, 10, 5], [11, 4, 16], [2, 11, 15]]\n"
     ]
    }
   ],
   "source": [
    "m1=[[1,5,3],[6,2,9],[2,4,7]]\n",
    "m2=[[6,5,2],[5,2,7],[0,7,8]]\n",
    "m3=[[0,0,0],[0,0,0],[0,0,0]]\n",
    "c=[]\n",
    "\n",
    "for i in range(len(m1)):\n",
    "    k=[]\n",
    "    for j in range(len(m1[0])):\n",
    "        k.append(m1[i][j]+m2[i][j]+m3[i][j])\n",
    "    c.append(k)\n",
    "    \n",
    "print(c)\n",
    "        "
   ]
  },
  {
   "cell_type": "code",
   "execution_count": 5,
   "id": "66fa5e78",
   "metadata": {},
   "outputs": [
    {
     "name": "stdout",
     "output_type": "stream",
     "text": [
      "39\n",
      "39\n"
     ]
    }
   ],
   "source": [
    "mx=[[1,5,3],[6,2,9],[2,4,7]]\n",
    "satirT = 0\n",
    "sutunT = 0\n",
    "for i in range(len(mx)):\n",
    "    for j in range(len(mx[0])):\n",
    "        satirT+=mx[i][j]\n",
    "        sutunT+=mx[j][i]\n",
    "\n",
    "print(satirT)\n",
    "print(sutunT)\n",
    "        "
   ]
  },
  {
   "cell_type": "code",
   "execution_count": 6,
   "id": "845a16e6",
   "metadata": {},
   "outputs": [
    {
     "name": "stdout",
     "output_type": "stream",
     "text": [
      "Max sayı : 9 \n"
     ]
    }
   ],
   "source": [
    "mx=[[1,5,3],[6,2,9],[2,4,7]]\n",
    "Max=0\n",
    "for i in range(len(mx)):\n",
    "    for x in range(len(mx[0])):\n",
    "        if mx[i][x]>Max:\n",
    "            Max=mx[i][x]\n",
    "        \n",
    "print(\"Max sayı : {} \".format(Max))"
   ]
  },
  {
   "cell_type": "code",
   "execution_count": 7,
   "id": "a89a2cb7",
   "metadata": {},
   "outputs": [
    {
     "name": "stdout",
     "output_type": "stream",
     "text": [
      "4\n",
      "4\n",
      "\n"
     ]
    },
    {
     "ename": "ValueError",
     "evalue": "invalid literal for int() with base 10: ''",
     "output_type": "error",
     "traceback": [
      "\u001b[1;31m---------------------------------------------------------------------------\u001b[0m",
      "\u001b[1;31mValueError\u001b[0m                                Traceback (most recent call last)",
      "Input \u001b[1;32mIn [7]\u001b[0m, in \u001b[0;36m<cell line: 4>\u001b[1;34m()\u001b[0m\n\u001b[0;32m      5\u001b[0m m2\u001b[38;5;241m=\u001b[39m[]\n\u001b[0;32m      6\u001b[0m \u001b[38;5;28;01mfor\u001b[39;00m j \u001b[38;5;129;01min\u001b[39;00m \u001b[38;5;28mrange\u001b[39m(b):\n\u001b[1;32m----> 7\u001b[0m     x\u001b[38;5;241m=\u001b[39m\u001b[38;5;28;43mint\u001b[39;49m\u001b[43m(\u001b[49m\u001b[38;5;28;43minput\u001b[39;49m\u001b[43m(\u001b[49m\u001b[43m)\u001b[49m\u001b[43m)\u001b[49m\n\u001b[0;32m      8\u001b[0m     m2\u001b[38;5;241m.\u001b[39mappend(x)\n\u001b[0;32m      9\u001b[0m m1\u001b[38;5;241m.\u001b[39mappend(m2)\n",
      "\u001b[1;31mValueError\u001b[0m: invalid literal for int() with base 10: ''"
     ]
    }
   ],
   "source": [
    "a=int(input())\n",
    "b=int(input())\n",
    "m1=[]\n",
    "for i in range(a):\n",
    "    m2=[]\n",
    "    for j in range(b):\n",
    "        x=int(input())\n",
    "        m2.append(x)\n",
    "    m1.append(m2)\n",
    "print(m1)"
   ]
  },
  {
   "cell_type": "code",
   "execution_count": 1,
   "id": "3b54bd69",
   "metadata": {},
   "outputs": [
    {
     "name": "stdout",
     "output_type": "stream",
     "text": [
      "3\n",
      "5\n",
      "7\n",
      "9\n",
      "11\n",
      "13\n",
      "15\n",
      "17\n",
      "19\n"
     ]
    }
   ],
   "source": [
    "x = range(3, 20, 2)\n",
    "for n in x:\n",
    "    print(n)"
   ]
  },
  {
   "cell_type": "code",
   "execution_count": 3,
   "id": "50d66c74",
   "metadata": {},
   "outputs": [
    {
     "name": "stdout",
     "output_type": "stream",
     "text": [
      "3 5 7 9 11 13 15 17 19 "
     ]
    }
   ],
   "source": [
    "x = range(3, 20, 2)\n",
    "for n in x:\n",
    "  print(n,end=\" \")"
   ]
  },
  {
   "cell_type": "code",
   "execution_count": 12,
   "id": "43236e58",
   "metadata": {},
   "outputs": [
    {
     "name": "stdout",
     "output_type": "stream",
     "text": [
      "ROMA RAKAMINI GİR:XVVIII\n",
      "23\n"
     ]
    }
   ],
   "source": [
    "roma=input(\"ROMA RAKAMINI GİR:\")\n",
    "romaListe=[]\n",
    "for m in range(len(roma)):\n",
    "    romaListe.append(roma[m])\n",
    "    \n",
    "romaRakamlari=[[\"I\",1],[\"V\",5],[\"X\",10]]\n",
    "c=0\n",
    "for i in range(len(romaRakamlari)):\n",
    "    for j in range(len(romaRakamlari[i])-1):\n",
    "        for k in range(len(romaListe)):\n",
    "            if romaRakamlari[i][j]==romaListe[k]:\n",
    "                c+=romaRakamlari[i][j+1]\n",
    "\n",
    "print(c)\n",
    "                \n",
    "        \n",
    "        \n",
    "        "
   ]
  },
  {
   "cell_type": "code",
   "execution_count": 20,
   "id": "ac25719d",
   "metadata": {},
   "outputs": [
    {
     "name": "stdout",
     "output_type": "stream",
     "text": [
      "[1, 1, 1, 1, 1, 1, 2, 2, 3, 3, 4, 4]\n"
     ]
    },
    {
     "ename": "IndexError",
     "evalue": "list index out of range",
     "output_type": "error",
     "traceback": [
      "\u001b[1;31m---------------------------------------------------------------------------\u001b[0m",
      "\u001b[1;31mIndexError\u001b[0m                                Traceback (most recent call last)",
      "Input \u001b[1;32mIn [20]\u001b[0m, in \u001b[0;36m<cell line: 11>\u001b[1;34m()\u001b[0m\n\u001b[0;32m     11\u001b[0m \u001b[38;5;28;01mfor\u001b[39;00m i \u001b[38;5;129;01min\u001b[39;00m \u001b[38;5;28mrange\u001b[39m(\u001b[38;5;28mlen\u001b[39m(AltDizi)):\n\u001b[0;32m     12\u001b[0m     \u001b[38;5;28;01mfor\u001b[39;00m j \u001b[38;5;129;01min\u001b[39;00m \u001b[38;5;28mrange\u001b[39m(i\u001b[38;5;241m+\u001b[39m\u001b[38;5;241m1\u001b[39m,\u001b[38;5;28mlen\u001b[39m(AltDizi)):\n\u001b[1;32m---> 13\u001b[0m         \u001b[38;5;28;01mif\u001b[39;00m AltDizi[i]\u001b[38;5;241m==\u001b[39m\u001b[43mAltDizi\u001b[49m\u001b[43m[\u001b[49m\u001b[43mj\u001b[49m\u001b[43m]\u001b[49m:\n\u001b[0;32m     14\u001b[0m             AltDizi\u001b[38;5;241m.\u001b[39mremove(AltDizi[j])\n\u001b[0;32m     16\u001b[0m \u001b[38;5;28mprint\u001b[39m(AltDizi)\n",
      "\u001b[1;31mIndexError\u001b[0m: list index out of range"
     ]
    }
   ],
   "source": [
    "sayilar = [1, 2, 3, 1, 2, 3, 4, 5, 6, 1, 2]\n",
    "AltDizi = []\n",
    "for i in range(len(sayilar)-2):\n",
    "    for j in range(i+1,i+3):\n",
    "        if i==0 and sayilar[i]<sayilar[j]:\n",
    "            AltDizi.append(sayilar[i])\n",
    "        if sayilar[i]<sayilar[j] and sayilar[i]<sayilar[i+2]:\n",
    "            AltDizi.append(sayilar[i])\n",
    "print(AltDizi)\n",
    "\n",
    "AltDiziDuzen=[]\n",
    "\n",
    "for i in range(len(AltDizi)):\n",
    "    c=0\n",
    "    for j in range(i+1,len(AltDizi)):\n",
    "        d=0\n",
    "        if AltDizi[i]==AltDizi[j]:\n",
    "            d+=1\n",
    "            if d>0:\n",
    "                \n",
    "\n",
    "print(AltDizi)\n",
    "        "
   ]
  },
  {
   "cell_type": "code",
   "execution_count": 10,
   "id": "e0498942",
   "metadata": {},
   "outputs": [
    {
     "name": "stdout",
     "output_type": "stream",
     "text": [
      "1\n"
     ]
    }
   ],
   "source": [
    "romaRakamlari = {\n",
    "    'I': 1,\n",
    "    'V': 5,\n",
    "    'X': 10,\n",
    "    'L': 50,\n",
    "    'C': 100,\n",
    "    'D': 500,\n",
    "    'M': 1000\n",
    "}\n",
    "print(romaRakamlari['I'])"
   ]
  },
  {
   "cell_type": "code",
   "execution_count": 27,
   "id": "14c7a845",
   "metadata": {},
   "outputs": [
    {
     "name": "stdout",
     "output_type": "stream",
     "text": [
      "Bu bir örnek cümle OpenAInin GPT-35 modelini kullanarak oluşturuldu\n",
      "['Bu', 'bir', 'örnek', 'cümle', 'OpenAInin', 'GPT-35', 'modelini', 'kullanarak', 'oluşturuldu']\n",
      "bir\n",
      "örnek\n",
      "OpenAInin\n",
      "kullanarak\n",
      "oluşturuldu\n"
     ]
    }
   ],
   "source": [
    "cumle=\"Bu bir örnek cümle, OpenAI'nin GPT-3.5 modelini kullanarak oluşturuldu!\"\n",
    "noktalama=\",.:;'!\"\n",
    "nktmsız_cumle=\"\"\n",
    "for i in range(len(cumle)):\n",
    "    if not cumle[i] in noktalama:\n",
    "        nktmsız_cumle+=cumle[i]\n",
    "\n",
    "print(nktmsız_cumle)\n",
    "\n",
    "liste=[]\n",
    "baslangic=0\n",
    "for i in range(len(nktmsız_cumle)):\n",
    "    if nktmsız_cumle[i]==\" \":\n",
    "        liste.append(nktmsız_cumle[baslangic:i])\n",
    "        baslangic=i+1\n",
    "        \n",
    "liste.append(nktmsız_cumle[baslangic:])\n",
    "        \n",
    "print(liste)\n",
    "\n",
    "maxi=len(liste[0])\n",
    "for i in range(len(liste)):\n",
    "    for j in range(i+1,len(liste)):\n",
    "        if maxi<len(liste[j]):\n",
    "            maxi=len(liste[j])\n",
    "            print(liste[j])\n",
    "        \n",
    "        \n",
    "# if not cumle[i] in noktalama: ifadesi cumle[i] nin noktalamada herhangi bir karşılıgı bulunup bulunmadığını kontrol eder\n",
    "# if cumle[i] is not noktalama: bu ise "
   ]
  },
  {
   "cell_type": "code",
   "execution_count": 22,
   "id": "5ad2c3c2",
   "metadata": {},
   "outputs": [
    {
     "name": "stdout",
     "output_type": "stream",
     "text": [
      "Bu bir örnek cümle OpenAInin GPT-35 modelini kullanarak oluşturuldu\n",
      "[[2, 'Bu'], [4, ' bir'], [6, ' örnek'], [6, ' cümle'], [10, ' OpenAInin'], [7, ' GPT-35'], [9, ' modelini'], [11, ' kullanarak']]\n"
     ]
    }
   ],
   "source": [
    "cumle=\"Bu bir örnek cümle, OpenAI'nin GPT-3.5 modelini kullanarak oluşturuldu!\"\n",
    "noktalama=\",.:;'!\"\n",
    "nktmsız_cumle=\"\"\n",
    "for i in range(len(cumle)):\n",
    "    if not cumle[i] in noktalama:\n",
    "        nktmsız_cumle+=cumle[i]\n",
    "\n",
    "print(nktmsız_cumle)\n",
    "\n",
    "deger=0\n",
    "baslangic=0\n",
    "boyut_liste=[]\n",
    "for i in range(len(nktmsız_cumle)):\n",
    "    if nktmsız_cumle[i]==\" \":\n",
    "        deger=i-baslangic\n",
    "        boyut_liste.append([deger,nktmsız_cumle[baslangic:i]])\n",
    "        baslangic=i\n",
    "\n",
    "print(boyut_liste)\n",
    "        \n",
    "\n"
   ]
  },
  {
   "cell_type": "code",
   "execution_count": 20,
   "id": "5fdf14ae",
   "metadata": {},
   "outputs": [
    {
     "name": "stdout",
     "output_type": "stream",
     "text": [
      "6\n"
     ]
    }
   ],
   "source": [
    "a=\"dasdsa\"\n",
    "print(len(a))"
   ]
  },
  {
   "cell_type": "code",
   "execution_count": null,
   "id": "a3362c05",
   "metadata": {},
   "outputs": [],
   "source": [
    "# pythonda HashMap dictionary olarak oluşturulur javada ise direkt HashMap bunun amacı anahtar değer cifti oluşturmaktır\n",
    "telefon_rehberi = {}\n",
    "\n",
    "# Anahtar-değer çiftleri eklemek\n",
    "telefon_rehberi[\"Ahmet\"] = \"555-1234\"\n",
    "telefon_rehberi[\"Mehmet\"] = \"555-5678\"\n",
    "telefon_rehberi[\"Ayşe\"] = \"555-9876\"\n",
    "\n",
    "# Değere erişim\n",
    "ahmetin_telefonu = telefon_rehberi[\"Ahmet\"]\n",
    "print(\"Ahmet'in telefonu:\", ahmetin_telefonu)          "
   ]
  },
  {
   "cell_type": "code",
   "execution_count": 1,
   "id": "9e8ad27a",
   "metadata": {},
   "outputs": [
    {
     "name": "stdout",
     "output_type": "stream",
     "text": [
      "20\n"
     ]
    }
   ],
   "source": [
    "A=10\n",
    "B=20\n",
    "TMP=A\n",
    "A=B\n",
    "B=TMP\n",
    "print(A)"
   ]
  },
  {
   "cell_type": "code",
   "execution_count": 2,
   "id": "b90a91a1",
   "metadata": {},
   "outputs": [
    {
     "name": "stdout",
     "output_type": "stream",
     "text": [
      "20\n"
     ]
    }
   ],
   "source": [
    "A=10\n",
    "B=20\n",
    "A,B=B,A\n",
    "print(A)"
   ]
  },
  {
   "cell_type": "code",
   "execution_count": 2,
   "id": "adc7916b",
   "metadata": {},
   "outputs": [
    {
     "name": "stdout",
     "output_type": "stream",
     "text": [
      "Değeri giriniz:1243\n",
      "0001001001000011\n"
     ]
    }
   ],
   "source": [
    "binary_list = [\n",
    "    ['0000', 0],\n",
    "    ['0001', 1],\n",
    "    ['0010', 2],\n",
    "    ['0011', 3],\n",
    "    ['0100', 4],\n",
    "    ['0101', 5],\n",
    "    ['0110', 6],\n",
    "    ['0111', 7],\n",
    "    ['1000', 8],\n",
    "    ['1001', 9]\n",
    "]\n",
    "\n",
    "n = int(input(\"Değeri giriniz:\"))\n",
    "n = str(n)\n",
    "\n",
    "c = \"\"\n",
    "\n",
    "for i in range(len(n)):\n",
    "    for j in range(len(binary_list)):\n",
    "        if int(n[i]) == binary_list[j][1]:\n",
    "            c += binary_list[j][0]\n",
    "\n",
    "print(c)   "
   ]
  },
  {
   "cell_type": "code",
   "execution_count": 5,
   "id": "a4167b01",
   "metadata": {},
   "outputs": [
    {
     "name": "stdout",
     "output_type": "stream",
     "text": [
      "küçük harfi giriniz:a\n",
      "A\n"
     ]
    }
   ],
   "source": [
    "# ASCII ifadelerde Büyük harf ve Küvük harfler arasında 32 sayısal fark vardır\n",
    "karakter=input(\"küçük harfi giriniz:\")\n",
    "c=0\n",
    "if (karakter >= 'a' and karakter <= 'z'):\n",
    "    karakter = ord(karakter)\n",
    "    harfiBuyuk=karakter-32\n",
    "    harfiBuyuk=chr(harfiBuyuk)\n",
    "    print(harfiBuyuk)\n",
    "    \n",
    "#Python'da karakterlerin büyüklük veya küçüklüğü, karakterlerin Unicode veya ASCII değerlerine dayalı olarak karşılaştırılabilir. \n",
    "#Bu, karşılaştırma işlemlerinin karakterlerle de yapılabilmesini sağlar. Karakterler arasındaki büyüklük veya küçüklük, \n",
    "#Unicode veya ASCII değerlerine göre belirlenir.\n",
    "    \n",
    "    "
   ]
  },
  {
   "cell_type": "code",
   "execution_count": 11,
   "id": "a0c112f8",
   "metadata": {},
   "outputs": [
    {
     "name": "stdout",
     "output_type": "stream",
     "text": [
      "Pozitif bir sayı giriniz: 0\n",
      "Lütfen pozitif bir sayı girin.\n",
      "Pozitif bir sayı giriniz: 1\n",
      "1'nin karesi: 1\n"
     ]
    }
   ],
   "source": [
    "while True:\n",
    "    sayi = int(input(\"Pozitif bir sayı giriniz: \"))\n",
    "    if sayi > 0:\n",
    "        kare = sayi ** 2\n",
    "        print(f\"{sayi}'nin karesi: {kare}\")\n",
    "        break  # Pozitif bir sayı girildi, döngüyü sonlandır.\n",
    "    else:\n",
    "        print(\"Lütfen pozitif bir sayı girin.\")\n",
    "        \n",
    "# ÖNEMLİİİİ while True sonlandırmak için şart bloğuna break koymalisiniz"
   ]
  },
  {
   "cell_type": "code",
   "execution_count": 10,
   "id": "86fde769",
   "metadata": {},
   "outputs": [],
   "source": [
    "while sayi>0:\n",
    "    sayi=int(input(\"sayi:\"))\n",
    "    if sayi>0:\n",
    "        kare = sayi ** 2\n",
    "        print(f\"{sayi}'nin karesi: {kare}\")\n",
    "    else:\n",
    "        print(\"Lütfen pozitif bir sayı girin.\")\n",
    "        \n",
    "        "
   ]
  },
  {
   "cell_type": "code",
   "execution_count": 3,
   "id": "c0c0fe1a",
   "metadata": {},
   "outputs": [
    {
     "name": "stdout",
     "output_type": "stream",
     "text": [
      "1\n",
      "2\n"
     ]
    }
   ],
   "source": [
    "Alice = [17,28,30]\n",
    "Bob = [99,16,8]\n",
    "AliceSayi=0\n",
    "BobSayi=0\n",
    "for i in range(len(Alice)):\n",
    "    if Alice[i]<Bob[i]:\n",
    "        BobSayi+=1\n",
    "    if Alice[i]>Bob[i]:\n",
    "        AliceSayi+=1      \n",
    "\n",
    "print(BobSayi)\n",
    "print(AliceSayi)         "
   ]
  },
  {
   "cell_type": "code",
   "execution_count": 6,
   "id": "242e6969",
   "metadata": {},
   "outputs": [
    {
     "data": {
      "text/plain": [
       "2"
      ]
     },
     "execution_count": 6,
     "metadata": {},
     "output_type": "execute_result"
    }
   ],
   "source": [
    "def birthdayCakeCandles(candles):\n",
    "    maxi = candles[0]\n",
    "    index=0\n",
    "    for i in range(len(candles)):\n",
    "        for j in range(i+1,len(candles)):\n",
    "            if maxi<candles[j]:\n",
    "                maxi=candles[j]\n",
    "                index=j\n",
    "    c=0            \n",
    "    for i in range(len(candles)):\n",
    "        if candles[i]==maxi and i!=index:\n",
    "            c+=1\n",
    "    return c + 1\n",
    "\n",
    "birthdayCakeCandles([4, 4, 1, 3])\n",
    "            \n",
    "        "
   ]
  },
  {
   "cell_type": "code",
   "execution_count": 7,
   "id": "87a38454",
   "metadata": {},
   "outputs": [
    {
     "data": {
      "text/plain": [
       "[75, 65, 38, 33]"
      ]
     },
     "execution_count": 7,
     "metadata": {},
     "output_type": "execute_result"
    }
   ],
   "source": [
    "def gradingStudents(grades):\n",
    "    c=0\n",
    "    for i in range(len(grades)):\n",
    "        if grades[i]%5>2 and grades[i]>40:\n",
    "            c=grades[i]%5\n",
    "            grades[i]=grades[i]+c\n",
    "        \n",
    "        if grades[i]%5<=2 and grades[i]>40:\n",
    "            c=grades[i]%5\n",
    "            grades[i]=grades[i]-c\n",
    "            \n",
    "        if grades[i]<40 or grades[i]%5==0:\n",
    "            pass # herhangi bir işlem yapmadan geçmeyi sağlar !\n",
    "        \n",
    "    return grades\n",
    "\n",
    "gradingStudents([73, 67, 38, 33])\n",
    "            \n",
    "        \n",
    "            "
   ]
  },
  {
   "cell_type": "code",
   "execution_count": 13,
   "id": "d4a8b9d9",
   "metadata": {},
   "outputs": [
    {
     "data": {
      "text/plain": [
       "'YES'"
      ]
     },
     "execution_count": 13,
     "metadata": {},
     "output_type": "execute_result"
    }
   ],
   "source": [
    "def kangaroo(x1, v1, x2, v2):\n",
    "    c=0\n",
    "    t=0\n",
    "    while True:\n",
    "        x1,x2=x1+v1,x2+v2\n",
    "        t+=1\n",
    "        if x1==x2:\n",
    "            return \"YES\"\n",
    "        if (x1 > x2 and v1 >= v2) or (x2 > x1 and v2 >= v1): # # Kangurular birbirini geçerse ve bir daha kesişmezlerse, \"NO\" yazdır ve fonksiyondan çık\n",
    "            return \"NO\"\n",
    "\n",
    "            \n",
    "kangaroo(0, 3, 4, 2)"
   ]
  },
  {
   "cell_type": "code",
   "execution_count": 19,
   "id": "7c5bfc62",
   "metadata": {},
   "outputs": [
    {
     "data": {
      "text/plain": [
       "5"
      ]
     },
     "execution_count": 19,
     "metadata": {},
     "output_type": "execute_result"
    }
   ],
   "source": [
    "def sockMerchant(ar):\n",
    "    k=0\n",
    "    c=0\n",
    "    index=0\n",
    "    for i in range(len(ar)-1):\n",
    "        for j in range(i+1,len(ar)):\n",
    "            \n",
    "            if ar[i]==ar[j] and c<1:\n",
    "                k+=1\n",
    "                c+=1\n",
    "                index=j\n",
    "                break\n",
    "            \n",
    "            if ar[i]==ar[j] and index!=j:\n",
    "                k+=1\n",
    "                index=j\n",
    "                break\n",
    "    \n",
    "    return k\n",
    "\n",
    "sockMerchant([10, 20, 20, 10, 10, 30, 50, 10, 20])"
   ]
  },
  {
   "cell_type": "code",
   "execution_count": 4,
   "id": "8e717501",
   "metadata": {},
   "outputs": [],
   "source": [
    "def timeInWords(h, m):\n",
    "    numbers_to_words = [\"zero\", \"one\", \"two\", \"three\", \"four\", \"five\", \"six\", \"seven\", \"eight\", \"nine\", \"ten\", \"eleven\", \"twelve\", \"thirteen\", \"fourteen\", \"quarter\", \"sixteen\", \"seventeen\", \"eighteen\", \"nineteen\", \"twenty\"]\n",
    "    \n",
    "    if m<45:\n",
    "        return f\"{numbers_to_words[h]} yi {m} geçiyor\"\n",
    "    else:\n",
    "        return f\"{numbers_to_words[h+1]} ye {60-m} var\"\n",
    "\n",
    "h, m = 5, 47\n",
    "result = timeInWords(h, m)"
   ]
  },
  {
   "cell_type": "code",
   "execution_count": 6,
   "id": "e4f34a64",
   "metadata": {},
   "outputs": [
    {
     "data": {
      "text/plain": [
       "1"
      ]
     },
     "execution_count": 6,
     "metadata": {},
     "output_type": "execute_result"
    }
   ],
   "source": [
    "def saveThePrisoner(n, m, s):\n",
    "    while m>0:\n",
    "        s+=1\n",
    "        if n==s:\n",
    "            s=1\n",
    "            m-=1\n",
    "    \n",
    "    return s\n",
    "\n",
    "saveThePrisoner(7,19,2)"
   ]
  },
  {
   "cell_type": "code",
   "execution_count": 7,
   "id": "9c6fc898",
   "metadata": {},
   "outputs": [
    {
     "name": "stdout",
     "output_type": "stream",
     "text": [
      "24\n"
     ]
    }
   ],
   "source": [
    "arr = [1, 3, 5, 7, 9]\n",
    "c=0\n",
    "for i in range(len(arr)-1,len(arr)-5,-1):\n",
    "    c+=arr[i]\n",
    "print(c)"
   ]
  },
  {
   "cell_type": "code",
   "execution_count": 17,
   "id": "a86a78ad",
   "metadata": {},
   "outputs": [
    {
     "data": {
      "text/plain": [
       "'abba'"
      ]
     },
     "execution_count": 17,
     "metadata": {},
     "output_type": "execute_result"
    }
   ],
   "source": [
    "def theLoveLetterMystery(s): # BU SORURUN BAŞKA BİR ÇÖZÜMÜ AŞAĞIDA DAHA İYİ ! (o daha okunaklı)\n",
    "    new_s=[]\n",
    "    for i in range(len(s)):\n",
    "        new_s.append(s[i])\n",
    "        \n",
    "    for i in range(len(new_s)//2):\n",
    "        for j in range(len(new_s)-1-i,(len(new_s)//2)-1,-1): # break deyince döngüden çıkar ve ilk döngüye döner ama 2. döngüde j değerini değiştirme yapmaz !\n",
    "            if new_s[i]!=new_s[j]:\n",
    "                new_s[j]=new_s[i]\n",
    "                break\n",
    "            else:\n",
    "                break\n",
    "    s=\"\"\n",
    "    for i in range(len(new_s)):\n",
    "        s+=new_s[i]\n",
    "        \n",
    "    return s\n",
    "        \n",
    "\n",
    "theLoveLetterMystery(\"abcd\")\n",
    "\n",
    "# Python'da karakter dizileri (stringler) üzerinde doğrudan değişiklik yapmak mümkün değildir \n",
    "# çünkü stringler değiştirilemez (immutable) veri tipleridir\n",
    "# bu yüzden listeye çevirmek gereklidir !"
   ]
  },
  {
   "cell_type": "code",
   "execution_count": 7,
   "id": "40a01720",
   "metadata": {},
   "outputs": [
    {
     "name": "stdout",
     "output_type": "stream",
     "text": [
      "7\n",
      "6\n",
      "5\n",
      "4\n"
     ]
    }
   ],
   "source": [
    "new_s=[1,2,3,3,4,5,10]\n",
    "for j in range(len(new_s),len(new_s)//2,-1):\n",
    "    print(j)"
   ]
  },
  {
   "cell_type": "code",
   "execution_count": 10,
   "id": "211205fa",
   "metadata": {},
   "outputs": [
    {
     "name": "stdout",
     "output_type": "stream",
     "text": [
      "10\n",
      "5\n",
      "4\n"
     ]
    }
   ],
   "source": [
    "new_s=[1,2,3,3,4,5,10]\n",
    "for j in range(len(new_s)-1,len(new_s)//2,-1):\n",
    "    print(new_s[j])"
   ]
  },
  {
   "cell_type": "code",
   "execution_count": 16,
   "id": "a668dbdc",
   "metadata": {},
   "outputs": [
    {
     "data": {
      "text/plain": [
       "'abba'"
      ]
     },
     "execution_count": 16,
     "metadata": {},
     "output_type": "execute_result"
    }
   ],
   "source": [
    "def theLoveLetterMystery(s):\n",
    "    new_s=[]\n",
    "    for i in range(len(s)):\n",
    "        new_s.append(s[i])\n",
    "    \n",
    "    for i in range(len(new_s) // 2):\n",
    "        j = len(new_s) - 1 - i\n",
    "        if new_s[i] != new_s[j]:\n",
    "            new_s[j] = new_s[i]\n",
    "    \n",
    "    s=\"\"\n",
    "    for i in range(len(new_s)):\n",
    "        s+=new_s[i]\n",
    "        \n",
    "    return s\n",
    "\n",
    "theLoveLetterMystery(\"abcd\")"
   ]
  },
  {
   "cell_type": "code",
   "execution_count": 9,
   "id": "52c1d8a4",
   "metadata": {},
   "outputs": [
    {
     "name": "stdout",
     "output_type": "stream",
     "text": [
      "[['h', 'a', 'v'], ['e', 'a', 'n'], ['i', 'c', 'e']]\n",
      "heiaacvne"
     ]
    }
   ],
   "source": [
    "k = \"haveanice\"\n",
    "p = len(k)\n",
    "t = 0\n",
    "m = 0\n",
    "\n",
    "for i in range(1, p):\n",
    "    if i * (i + 1) == p:\n",
    "        t, m = i, i + 1\n",
    "    if i * i == p:\n",
    "        t, m = i, i\n",
    "\n",
    "matris = []\n",
    "p = 0\n",
    "\n",
    "for l in range(t):\n",
    "    row = []\n",
    "    for j in range(p, p + m):\n",
    "        row.append(k[j])\n",
    "    matris.append(row)\n",
    "    p += m\n",
    "\n",
    "print(matris)\n",
    "\n",
    "\n",
    "for i in range(len(matris)):\n",
    "    for j in range(len(matris[0])):\n",
    "         print(matris[j][i],end=\"\")"
   ]
  },
  {
   "cell_type": "code",
   "execution_count": 7,
   "id": "bcbb4ce9",
   "metadata": {},
   "outputs": [
    {
     "data": {
      "text/plain": [
       "(2, 3)"
      ]
     },
     "execution_count": 7,
     "metadata": {},
     "output_type": "execute_result"
    }
   ],
   "source": [
    "def countingValleys(steps, path):\n",
    "    c = 0\n",
    "    vadi = 0\n",
    "    tepe = 0\n",
    "    t = 0\n",
    "    k = 0\n",
    "    \n",
    "    for i in range(len(path)):\n",
    "        if path[i] == \"D\":\n",
    "            c -= 1\n",
    "            if path[0] == \"D\" and k < 1:\n",
    "                vadi += 1\n",
    "                t = 1\n",
    "                k += 1\n",
    "\n",
    "            if (c < 0 and t == -1) or c==0:\n",
    "                vadi += 1\n",
    "                t = 1\n",
    "            elif (c > 0 and t == 1) or c==0:\n",
    "                tepe += 1\n",
    "                t = -1\n",
    "            else:\n",
    "                pass\n",
    "                \n",
    "        if path[i] == \"U\":\n",
    "            c += 1\n",
    "            if path[0] == \"U\" and k < 1:\n",
    "                tepe += 1\n",
    "                t = -1\n",
    "                k += 1\n",
    "            if (c > 0 and t == 1) or c==0:\n",
    "                tepe += 1\n",
    "                t = -1\n",
    "            elif (c < 0 and t == -1) or c==0:\n",
    "                vadi += 1\n",
    "                t = 1\n",
    "            else:\n",
    "                pass\n",
    "            \n",
    "    return tepe, vadi\n",
    "\n",
    "countingValleys(12, \"DDUUDDUDUUUD\")"
   ]
  },
  {
   "cell_type": "code",
   "execution_count": 3,
   "id": "6d945075",
   "metadata": {},
   "outputs": [
    {
     "data": {
      "text/plain": [
       "[1, 4]"
      ]
     },
     "execution_count": 3,
     "metadata": {},
     "output_type": "execute_result"
    }
   ],
   "source": [
    "def icecreamParlor(m, arr):\n",
    "    Alinabilecek=0\n",
    "    index=[]\n",
    "    for i in range(len(arr)-1):\n",
    "        for j in range(i+1,len(arr)):\n",
    "            if arr[i]+arr[j]<=m and arr[i]+arr[j]>=Alinabilecek:\n",
    "                Alinabilecek=arr[i]+arr[j]\n",
    "                index=[i+1,j+1]\n",
    "    \n",
    "    return index\n",
    "\n",
    "icecreamParlor(4,[1, 4, 5, 3, 2])\n",
    "                "
   ]
  },
  {
   "cell_type": "code",
   "execution_count": 5,
   "id": "0456bff8",
   "metadata": {},
   "outputs": [
    {
     "name": "stdout",
     "output_type": "stream",
     "text": [
      "4\n",
      "9\n"
     ]
    }
   ],
   "source": [
    "a = 3\n",
    "b = 9\n",
    "\n",
    "for x in range(a, b + 1):\n",
    "    if x ** (1/2) == int(x ** (1/2)):\n",
    "        print(x)"
   ]
  },
  {
   "cell_type": "code",
   "execution_count": 13,
   "id": "d06326c9",
   "metadata": {},
   "outputs": [
    {
     "name": "stdout",
     "output_type": "stream",
     "text": [
      "7\n"
     ]
    }
   ],
   "source": [
    "def migratoryBirds(arr):\n",
    "    bird_counts = [0] * (max(arr)+1) \n",
    "    max_count = 0  # En fazla kuş sayısını saklayacak değişken\n",
    "    most_common_bird = 0  # En yaygın kuş türünü saklayacak değişken\n",
    "\n",
    "    for bird in arr:\n",
    "        bird_counts[bird] += 1  # Kuş türlerini say\n",
    "\n",
    "    for i in range(0, len(bird_counts)):\n",
    "        if bird_counts[i] > max_count:\n",
    "            max_count = bird_counts[i]\n",
    "            most_common_bird = i\n",
    "\n",
    "    return most_common_bird\n",
    "\n",
    "arr = [1, 7, 7, 7, 5, 3]\n",
    "result = migratoryBirds(arr)\n",
    "print(result)             "
   ]
  },
  {
   "cell_type": "code",
   "execution_count": 15,
   "id": "5d889db0",
   "metadata": {},
   "outputs": [
    {
     "data": {
      "text/plain": [
       "0"
      ]
     },
     "execution_count": 15,
     "metadata": {},
     "output_type": "execute_result"
    }
   ],
   "source": [
    "def pageCount(n, p):\n",
    "    c=0\n",
    "    for i in range(1,n+1,1):\n",
    "        for j in range(i+4,n+1,1):\n",
    "            if i<=p<=j:\n",
    "                return c\n",
    "        c+=1\n",
    "        \n",
    "pageCount(5,4)"
   ]
  },
  {
   "cell_type": "code",
   "execution_count": 7,
   "id": "78e5339a",
   "metadata": {},
   "outputs": [
    {
     "name": "stdout",
     "output_type": "stream",
     "text": [
      "5\n"
     ]
    }
   ],
   "source": [
    "h = [1, 3, 1, 3, 1, 4, 1, 3, 2, 5, 1, 1, 3, 1, 5, 4, 1, 2, 2, 1, 3, 1, 4, 1, 3, 2]\n",
    "alfabe = ['a', 'b', 'c', 'd', 'e', 'f', 'g', 'h', 'i', 'j', 'k', 'l', 'm', 'n', 'o', 'p', 'q', 'r', 's', 't', 'u', 'v', 'w', 'x', 'y', 'z']\n",
    "word = \"abc\"\n",
    "c=0\n",
    "k=0\n",
    "i=0\n",
    "while len(word)>k:\n",
    "    if alfabe[i]==word[k]:\n",
    "        k+=1\n",
    "        c+=h[i]\n",
    "        i+=1\n",
    "    \n",
    "    else:\n",
    "        i+=1\n",
    "    \n",
    "\n",
    "print(c)\n",
    "                "
   ]
  },
  {
   "cell_type": "code",
   "execution_count": 8,
   "id": "bfd18838",
   "metadata": {},
   "outputs": [
    {
     "data": {
      "text/plain": [
       "63"
      ]
     },
     "execution_count": 8,
     "metadata": {},
     "output_type": "execute_result"
    }
   ],
   "source": [
    "def utopianTree(n):\n",
    "    baslangic=1\n",
    "    bahar=2\n",
    "    yaz=1\n",
    "    for i in range(n):\n",
    "        baslangic*=2\n",
    "        baslangic+=1\n",
    "        \n",
    "    return baslangic\n",
    "\n",
    "utopianTree(5)\n",
    "        \n",
    "    \n",
    "        "
   ]
  },
  {
   "cell_type": "code",
   "execution_count": 2,
   "id": "850ee049",
   "metadata": {},
   "outputs": [
    {
     "data": {
      "text/plain": [
       "58"
      ]
     },
     "execution_count": 2,
     "metadata": {},
     "output_type": "execute_result"
    }
   ],
   "source": [
    "def getMoneySpent(keyboards, drives, budget):\n",
    "    alinabilecekMaxi=0\n",
    "    for i in range(len(keyboards)):\n",
    "        for j in range(len(drives)):\n",
    "            if keyboards[i]+drives[j]<=budget and keyboards[i]+drives[j]>=alinabilecekMaxi:\n",
    "                alinabilecekMaxi=keyboards[i]+drives[j]\n",
    "    \n",
    "    if alinabilecekMaxi==0:\n",
    "        return -1\n",
    "    else:\n",
    "        return alinabilecekMaxi\n",
    "    \n",
    "getMoneySpent([40, 50, 60],[5, 8, 12],60)"
   ]
  },
  {
   "cell_type": "code",
   "execution_count": 21,
   "id": "5696af3b",
   "metadata": {},
   "outputs": [
    {
     "data": {
      "text/plain": [
       "[2, 3, 2]"
      ]
     },
     "execution_count": 21,
     "metadata": {},
     "output_type": "execute_result"
    }
   ],
   "source": [
    "def climbingLeaderboard(ranked, player):\n",
    "    siralama=[]\n",
    "    new=[]\n",
    "    for i in range(len(ranked)-1):\n",
    "        for j in range(i+1,i+2):\n",
    "            \n",
    "            if i==0:\n",
    "                new.append(ranked[i])\n",
    "            if ranked[i]!=ranked[j]:\n",
    "                new.append(ranked[j])\n",
    "                \n",
    "    k=0\n",
    "    for i in range(len(player)):\n",
    "        for j in range(len(new)-1):\n",
    "            \n",
    "            if player[i]<player[j]:\n",
    "                k=j+1\n",
    "            if player[i]>=player[j]:\n",
    "                k=j\n",
    "            \n",
    "        \n",
    "        siralama.append(k)\n",
    "                \n",
    "    return siralama\n",
    "                               \n",
    "climbingLeaderboard([100, 90, 90, 85, 80],[90, 85, 90])"
   ]
  },
  {
   "cell_type": "code",
   "execution_count": 22,
   "id": "47c7a2cb",
   "metadata": {},
   "outputs": [
    {
     "name": "stdout",
     "output_type": "stream",
     "text": [
      "2\n"
     ]
    }
   ],
   "source": [
    "def alt_liste_sayisi(liste, hedef):\n",
    "    alt_liste_sayisi = 0\n",
    "    toplam = 0\n",
    "    alt_liste_baslangic = 0\n",
    "\n",
    "    for i in range(len(liste)):\n",
    "        toplam += liste[i]\n",
    "\n",
    "        while toplam > hedef:\n",
    "            toplam -= liste[alt_liste_baslangic]\n",
    "            alt_liste_baslangic += 1\n",
    "\n",
    "        if toplam == hedef:\n",
    "            alt_liste_sayisi += 1\n",
    "\n",
    "    return alt_liste_sayisi\n",
    "\n",
    "liste = [1, 2, 3, 4, 5]\n",
    "hedef = 9\n",
    "sonuc = alt_liste_sayisi(liste, hedef)\n",
    "print(sonuc)"
   ]
  },
  {
   "cell_type": "code",
   "execution_count": 25,
   "id": "bde110d3",
   "metadata": {},
   "outputs": [
    {
     "name": "stdout",
     "output_type": "stream",
     "text": [
      "5 1\n"
     ]
    }
   ],
   "source": [
    "liste=[1, 2, 3, 4, 5]\n",
    "mini = liste[0]\n",
    "maxi = liste[0]\n",
    "for i in range(1,len(liste)):\n",
    "    if liste[i]>maxi:\n",
    "        maxi=liste[i]\n",
    "    if liste[i]<mini:\n",
    "        mini=liste[i]\n",
    "\n",
    "print(maxi,mini)"
   ]
  },
  {
   "cell_type": "code",
   "execution_count": 5,
   "id": "b08e2f4e",
   "metadata": {},
   "outputs": [
    {
     "name": "stdout",
     "output_type": "stream",
     "text": [
      "2\n"
     ]
    }
   ],
   "source": [
    "dize=\"ABCDCDC\"\n",
    "altDize=\"CDC\"\n",
    "c=0\n",
    "for i in range(len(dize)-len(altDize)+1):\n",
    "    if altDize[0:len(altDize)]==dize[i:i+len(altDize)]:\n",
    "            c+=1\n",
    "print(c)"
   ]
  },
  {
   "cell_type": "code",
   "execution_count": 1,
   "id": "f71e0e1c",
   "metadata": {},
   "outputs": [
    {
     "data": {
      "text/plain": [
       "(1, [2, 1, 1, 3, 1])"
      ]
     },
     "execution_count": 1,
     "metadata": {},
     "output_type": "execute_result"
    }
   ],
   "source": [
    "def find_max_repeating_substring(s):\n",
    "    max_repeating = \"\"\n",
    "    current_repeating = s[0]\n",
    "    count = 1\n",
    "    liste=[]\n",
    "\n",
    "    for i in range(1, len(s)):\n",
    "        if s[i] == s[i - 1]:\n",
    "            current_repeating += s[i]\n",
    "            count += 1\n",
    "        else:\n",
    "            liste.append(count)\n",
    "            current_repeating = s[i]\n",
    "            count = 1\n",
    "            \n",
    "    return count,liste\n",
    "            \n",
    "original_string = \"AABCAAADA\"\n",
    "find_max_repeating_substring(original_string)"
   ]
  },
  {
   "cell_type": "code",
   "execution_count": 15,
   "id": "294c0497",
   "metadata": {},
   "outputs": [
    {
     "name": "stdout",
     "output_type": "stream",
     "text": [
      "[3, 4, 6]\n"
     ]
    }
   ],
   "source": [
    "matris = [ \n",
    "    [3, 3, 0],\n",
    "    [1, 3, 1],\n",
    "    [1, 4, 6],\n",
    "    [2, 2, 2]\n",
    "]\n",
    "\n",
    "liste = []\n",
    "\n",
    "for i in range(len(matris[0])):\n",
    "    maxi = matris[0][i]  \n",
    "    for j in range(len(matris)):\n",
    "        if matris[j][i] > maxi:\n",
    "            maxi = matris[j][i]  \n",
    "    liste.append(maxi)\n",
    "\n",
    "print(liste)"
   ]
  },
  {
   "cell_type": "code",
   "execution_count": 16,
   "id": "eabdb628",
   "metadata": {},
   "outputs": [
    {
     "name": "stdout",
     "output_type": "stream",
     "text": [
      "2\n"
     ]
    }
   ],
   "source": [
    "matris = [\n",
    "    [3, 3, 0],\n",
    "    [1, 3, 1],\n",
    "    [1, 4, 6],\n",
    "    [2, 2, 2]\n",
    "]\n",
    "print(matris[3][2])"
   ]
  },
  {
   "cell_type": "code",
   "execution_count": 4,
   "id": "183d6a7d",
   "metadata": {},
   "outputs": [
    {
     "name": "stdout",
     "output_type": "stream",
     "text": [
      "[12, 8, 4]\n",
      "[11, 7, 3]\n",
      "[10, 6, 2]\n",
      "[9, 5, 1]\n"
     ]
    }
   ],
   "source": [
    "matris = [\n",
    "    [1, 2, 3, 4],\n",
    "    [5, 6, 7, 8],\n",
    "    [9, 10, 11, 12]\n",
    "]\n",
    "\n",
    "saat=[]\n",
    "for i in range(len(matris[0])-1,-1,-1):\n",
    "    satir=[]\n",
    "    for j in range(len(matris)-1,-1,-1):\n",
    "        satir.append(matris[j][i])\n",
    "    saat.append(satir)\n",
    "\n",
    "for row in saat:\n",
    "    print(row)\n",
    "        "
   ]
  },
  {
   "cell_type": "code",
   "execution_count": 1,
   "id": "3d4c0c9d",
   "metadata": {},
   "outputs": [
    {
     "name": "stdout",
     "output_type": "stream",
     "text": [
      "[[1, 2, 3], [4, 5, 6], [7, 8, 9]]\n"
     ]
    }
   ],
   "source": [
    "matris = [[1, 4, 7],\n",
    "    [2, 5, 8],\n",
    "    [3, 6, 9]\n",
    "]\n",
    "transpoze=[]\n",
    "for i in range(len(matris[0])):\n",
    "    satir=[]\n",
    "    for j in range(len(matris)):\n",
    "        satir.append(matris[j][i])\n",
    "    \n",
    "    transpoze.append(satir)\n",
    "    \n",
    "print(transpoze)\n",
    "        \n",
    "    \n",
    "        "
   ]
  },
  {
   "cell_type": "code",
   "execution_count": 12,
   "id": "3843d713",
   "metadata": {},
   "outputs": [
    {
     "name": "stdout",
     "output_type": "stream",
     "text": [
      "{1: 4, 2: 3}\n"
     ]
    }
   ],
   "source": [
    "matris = [\n",
    "    [1, 1, 0, 0],\n",
    "    [1, 1, 0, 0],\n",
    "    [0, 0, 0, 1],\n",
    "    [0, 0, 1, 1]\n",
    "]\n",
    "\n",
    "def grupla_matris(matris):\n",
    "    gruplar = {}\n",
    "    grup_sayac = 0\n",
    "    for i in range(len(matris)):\n",
    "        for j in range(len(matris[i])):\n",
    "            if matris[i][j] == 1:\n",
    "                "
   ]
  },
  {
   "cell_type": "code",
   "execution_count": 1,
   "id": "f2a2aa46",
   "metadata": {},
   "outputs": [
    {
     "data": {
      "text/plain": [
       "(5.0, 10.0)"
      ]
     },
     "execution_count": 1,
     "metadata": {},
     "output_type": "execute_result"
    }
   ],
   "source": [
    "def isTamamlama(t,s,x,y):\n",
    "    A=0\n",
    "    B=0\n",
    "    B=(s*y)/100\n",
    "    A=(t*x)/100\n",
    "    \n",
    "    return A,B\n",
    "\n",
    "isTamamlama(10,20,50,50)"
   ]
  },
  {
   "cell_type": "code",
   "execution_count": 4,
   "id": "b3b1bc85",
   "metadata": {},
   "outputs": [
    {
     "name": "stdout",
     "output_type": "stream",
     "text": [
      "Python biliyorsanız (Evet/Hayır): Evet\n",
      "Java biliyorsanız (Evet/Hayır): Evet\n",
      "İngilizce biliyorsanız (Evet/Hayır): Hayir\n",
      "Alınmadın.\n"
     ]
    }
   ],
   "source": [
    "a = input(\"Python biliyorsanız (Evet/Hayır): \")\n",
    "b = input(\"Java biliyorsanız (Evet/Hayır): \")\n",
    "c = input(\"İngilizce biliyorsanız (Evet/Hayır): \")\n",
    "\n",
    "if (a == \"Evet\" or b == \"Evet\") and c == \"Evet\":\n",
    "    print(\"İşe alındın.\")\n",
    "else:\n",
    "    print(\"Alınmadın.\")"
   ]
  },
  {
   "cell_type": "code",
   "execution_count": 13,
   "id": "40aeb223",
   "metadata": {},
   "outputs": [
    {
     "name": "stdout",
     "output_type": "stream",
     "text": [
      "[(1, 1), (1, 1), (2, 2), (3, 3), (1, 1)]\n",
      "[(1, 1), (2, 2), (3, 3)]\n"
     ]
    }
   ],
   "source": [
    "liste=[1, 2, 3, 1, 2, 3, 6, 1]\n",
    "ciftler=[]\n",
    "for i in range(len(liste)-1):\n",
    "    for j in range(i+1,len(liste)):\n",
    "        if liste[i]==liste[j]:\n",
    "            ciftler.append((liste[i],liste[j]))\n",
    "\n",
    "print(ciftler)\n",
    "\n",
    "sadelesmis=[]\n",
    "sadelesmis.append(ciftler[0])\n",
    "for i in range(1,len(ciftler)):\n",
    "    if ciftler[0]!=ciftler[i]:\n",
    "        sadelesmis.append(ciftler[i])\n",
    "    \n",
    "print(sadelesmis)\n",
    "        \n",
    "            "
   ]
  },
  {
   "cell_type": "code",
   "execution_count": 8,
   "id": "69872984",
   "metadata": {},
   "outputs": [
    {
     "data": {
      "text/plain": [
       "[('r', 2), ('a', 3), ('m', 2)]"
      ]
     },
     "execution_count": 8,
     "metadata": {},
     "output_type": "execute_result"
    }
   ],
   "source": [
    "def benzersiz_karakterlerin_sayisi(dizi):\n",
    "    \n",
    "    string=\"\"\n",
    "    liste=[]\n",
    "    for i in range(len(dizi)-1):\n",
    "        c=1\n",
    "        for j in range(i+1,len(dizi)):\n",
    "            if dizi[i] not in string and dizi[i]==dizi[j]:\n",
    "                c+=1\n",
    "        \n",
    "        if c==1:\n",
    "            string+=dizi[i]\n",
    "        else:\n",
    "            string+=dizi[i]\n",
    "            liste.append((dizi[i],c))\n",
    "        \n",
    "    return liste\n",
    "\n",
    "dizi = \"programlama\"\n",
    "benzersiz_karakterlerin_sayisi(dizi)\n",
    "    "
   ]
  },
  {
   "cell_type": "code",
   "execution_count": 3,
   "id": "28dc88db",
   "metadata": {},
   "outputs": [
    {
     "data": {
      "text/plain": [
       "[4, 10, 20, 35, 45, 99, 100]"
      ]
     },
     "execution_count": 3,
     "metadata": {},
     "output_type": "execute_result"
    }
   ],
   "source": [
    "def ikinci_en_buyuk(sayilar):\n",
    "    for i in range(len(sayilar)-1):\n",
    "        for j in range(i+1,len(sayilar)):\n",
    "            \n",
    "            if sayilar[i]>sayilar[j]:\n",
    "                sayilar[i],sayilar[j]=sayilar[j],sayilar[i]\n",
    "                \n",
    "            if sayilar[i]==sayilar[j]:\n",
    "                sayilar[i+1],sayilar[j]=sayilar[j],sayilar[i+1]\n",
    "                \n",
    "    return sayilar\n",
    "\n",
    "ikinci_en_buyuk([10, 20, 4, 45, 99, 100, 35])"
   ]
  },
  {
   "cell_type": "code",
   "execution_count": null,
   "id": "3db92605",
   "metadata": {},
   "outputs": [],
   "source": [
    "metin = \"Merhaba dünya. Dünya güzel\"\n",
    "metin2 = \"\"\n",
    "liste = []\n",
    "\n",
    "for k in range(len(metin)):\n",
    "    if metin[k] not in \".,:\":\n",
    "        metin2 += metin[k]\n",
    "\n",
    "i = 0\n",
    "j = 0\n",
    "\n",
    "while j <= len(metin2)-1:\n",
    "    j += 1\n",
    "    if j == len(metin2) or metin2[j] == \" \":\n",
    "        liste.append(metin2[i:j])\n",
    "        i = j + 1\n",
    "\n",
    "kontrol=[]\n",
    "sayma=[]\n",
    "i=0\n",
    "j=0\n",
    "\n",
    "for i in range(len(liste)-1):\n",
    "    c=1\n",
    "    for j in range(i+1,len(liste)):\n",
    "        if liste[i] not in kontrol and liste[i]==liste[j]:\n",
    "            c+=1\n",
    "    if c>1:\n",
    "        kontrol.append(liste[i])\n",
    "        sayma.append([liste[i],c])\n",
    "        \n",
    "    if i==len(liste)-2:\n",
    "        sayma.append([liste[i+1],c])\n",
    "        \n",
    "    if c==1:\n",
    "        sayma.append([liste[i],c])\n",
    "\n",
    "print(sayma)"
   ]
  },
  {
   "cell_type": "code",
   "execution_count": null,
   "id": "aeb6045e",
   "metadata": {},
   "outputs": [],
   "source": [
    "metin=\"Merhaba dünya Dünya güzel\"\n",
    "print(len(metin))"
   ]
  },
  {
   "cell_type": "code",
   "execution_count": 3,
   "id": "d3c1ba0a",
   "metadata": {},
   "outputs": [
    {
     "name": "stdout",
     "output_type": "stream",
     "text": [
      "[100, 99]\n"
     ]
    }
   ],
   "source": [
    "myList=[10, 20, 4, 45, 99, 100, 35]\n",
    "liste=[]\n",
    "maxi=myList[0]\n",
    "indexMaxi=0\n",
    "for i in range(1,len(myList)):\n",
    "    if maxi<myList[i]:\n",
    "        maxi=myList[i]\n",
    "        indexMaxi=i\n",
    "\n",
    "liste.append(maxi)        \n",
    "myList.remove(myList[indexMaxi])\n",
    "\n",
    "newMaxi=myList[0]\n",
    "for i in range(len(myList)):\n",
    "    indexMaxi=0\n",
    "    if newMaxi<myList[i]:\n",
    "        newMaxi=myList[i]\n",
    "        indexMaxi=i\n",
    "        \n",
    "liste.append(newMaxi)\n",
    "\n",
    "print(liste)        "
   ]
  },
  {
   "cell_type": "code",
   "execution_count": 12,
   "id": "3432ea62",
   "metadata": {},
   "outputs": [
    {
     "name": "stdout",
     "output_type": "stream",
     "text": [
      "Maksimum Fiyat: 10\n",
      "Seçilen Yemekler:\n",
      "Yemek 5\n",
      "Yemek 4\n"
     ]
    }
   ],
   "source": [
    "def knapsack(menu, maksimum_kalori):\n",
    "    # Menüyü fiyat ve kalori toplamına göre büyükten küçüğe sırala\n",
    "    menu.sort(key=lambda x: (x['fiyat'] + x['kalori']), reverse=True)\n",
    "    \n",
    "    secilen_yemekler = []\n",
    "    toplam_fiyat = 0\n",
    "    toplam_kalori = 0\n",
    "    \n",
    "    for yemek in menu:\n",
    "        if toplam_kalori + yemek['kalori'] <= maksimum_kalori:\n",
    "            secilen_yemekler.append(yemek)\n",
    "            toplam_fiyat += yemek['fiyat']\n",
    "            toplam_kalori += yemek['kalori']\n",
    "    \n",
    "    return toplam_fiyat, secilen_yemekler\n",
    "\n",
    "menu = [\n",
    "    {'isim': 'Yemek 1', 'fiyat': 2, 'kalori': 2},\n",
    "    {'isim': 'Yemek 2', 'fiyat': 3, 'kalori': 4},\n",
    "    {'isim': 'Yemek 3', 'fiyat': 1, 'kalori': 1},\n",
    "    {'isim': 'Yemek 4', 'fiyat': 4, 'kalori': 3},\n",
    "    {'isim': 'Yemek 5', 'fiyat': 6, 'kalori': 5}\n",
    "]\n",
    "\n",
    "maksimum_kalori = 8\n",
    "\n",
    "max_fiyat, secilen_yemekler = knapsack(menu, maksimum_kalori)\n",
    "\n",
    "print(\"Maksimum Fiyat:\", max_fiyat)\n",
    "print(\"Seçilen Yemekler:\")\n",
    "for yemek in secilen_yemekler:\n",
    "    print(yemek['isim'])"
   ]
  },
  {
   "cell_type": "code",
   "execution_count": 20,
   "id": "45e41bf3",
   "metadata": {},
   "outputs": [
    {
     "name": "stdout",
     "output_type": "stream",
     "text": [
      "[[1, 1], [2, 2], [3, 4], [4, 3], [6, 5]]\n",
      "7\n",
      "6\n",
      "[[1, 1], [2, 2], [3, 4]]\n"
     ]
    }
   ],
   "source": [
    "fiyatlar = [2, 3, 1, 4, 6]\n",
    "kaloriler = [2, 4, 1, 3, 5]\n",
    "FiyatVeKaloriler = []\n",
    "maksimum_kalori = 8\n",
    "alinan_kalori = 0\n",
    "toplam_maliye=0\n",
    "secilen_yemekler=[]\n",
    "for i in range(len(fiyatlar)):\n",
    "    FiyatVeKaloriler.append([fiyatlar[i],kaloriler[i]])\n",
    "\n",
    "\n",
    "for i in range(len(FiyatVeKaloriler)-1):\n",
    "    for j in range(i+1,len(FiyatVeKaloriler)):\n",
    "        if sum(FiyatVeKaloriler[i])>sum(FiyatVeKaloriler[j]):\n",
    "            FiyatVeKaloriler[i],FiyatVeKaloriler[j]=FiyatVeKaloriler[j],FiyatVeKaloriler[i]\n",
    "            \n",
    "print(FiyatVeKaloriler)\n",
    "\n",
    "for i in range(len(FiyatVeKaloriler)):\n",
    "    for j in range(len(FiyatVeKaloriler[i])-1,len(FiyatVeKaloriler[i]),1):\n",
    "        if maksimum_kalori>=alinan_kalori:\n",
    "            alinan_kalori+=FiyatVeKaloriler[i][j]\n",
    "            toplam_maliye+=FiyatVeKaloriler[i][j-1]\n",
    "            secilen_yemekler.append(FiyatVeKaloriler[i])\n",
    "            if alinan_kalori>=maksimum_kalori:\n",
    "                alinan_kalori-=FiyatVeKaloriler[i][j]\n",
    "                toplam_maliye-=FiyatVeKaloriler[i][j-1]\n",
    "                secilen_yemekler.remove(FiyatVeKaloriler[i])\n",
    "            \n",
    "            \n",
    "print(alinan_kalori)\n",
    "print(toplam_maliye)\n",
    "print(secilen_yemekler)"
   ]
  },
  {
   "cell_type": "code",
   "execution_count": 5,
   "id": "988a90b9",
   "metadata": {},
   "outputs": [
    {
     "name": "stdout",
     "output_type": "stream",
     "text": [
      "1\n"
     ]
    }
   ],
   "source": [
    "liste = [2, 2, 1, 2, 2]\n",
    "kontrol=[]\n",
    "for i in range(len(liste)):\n",
    "    if liste[i] not in kontrol:\n",
    "        kontrol.append(liste[i])\n",
    "        \n",
    "\n",
    "for i in range(len(kontrol)):\n",
    "    c=0\n",
    "    for j in range(len(liste)):\n",
    "        if kontrol[i]==liste[j]:\n",
    "            c+=1\n",
    "            \n",
    "    if c==1:\n",
    "        print(kontrol[i])           "
   ]
  },
  {
   "cell_type": "code",
   "execution_count": null,
   "id": "c25b5974",
   "metadata": {},
   "outputs": [],
   "source": [
    "string= \"Merhaba dünya, Python programlama dili hakkında harika bilgiler sunuyor!\"\n",
    "newString=\"\"\n",
    "noktalama=\",!.\"\n",
    "for i in range(len(string)):\n",
    "    if string[i] not in noktalama:\n",
    "        newString+=string[i]\n",
    "\n",
    "liste=[]\n",
    "k=0\n",
    "for j in range(len(newString)):\n",
    "    if newString[j]==\" \":\n",
    "        liste.append(newString[k:j])\n",
    "        k=j\n",
    "\n",
    "liste.append(newString[k:len(newString)])\n",
    "\n",
    "maxi=len(liste[0])\n",
    "maxiHali=liste[0]\n",
    "for t in range(1,len(liste)):\n",
    "    if len(liste[t])>maxi:\n",
    "        maxi=len(liste[t])\n",
    "        maxiHali=liste[t]\n",
    "        \n",
    "print(maxiHali)"
   ]
  },
  {
   "cell_type": "code",
   "execution_count": 24,
   "id": "9c2447f7",
   "metadata": {},
   "outputs": [
    {
     "name": "stdout",
     "output_type": "stream",
     "text": [
      "merhaba dĜnya dĜnya gerćekten harika dĜnya\n",
      "['merhaba', 1, 'dĜnya', 3, 'gerćekten', 1, 'harika', 1]\n"
     ]
    }
   ],
   "source": [
    "string= \"Merhaba dünya. Dünya gerçekten harika dünya!\"\n",
    "newString=\"\"\n",
    "noktalama=\",!.\"\n",
    "for i in range(len(string)):\n",
    "    if string[i] not in noktalama:\n",
    "        newString+=string[i]\n",
    "\n",
    "liste=[]\n",
    "k=0\n",
    "yeni=\"\"\n",
    "for j in range(len(newString)):\n",
    "    if newString[j] in 'abcdefghijklmnopqrstuvwxyz' and newString[j]!=\" \":\n",
    "        yeni+=newString[j]\n",
    "    if newString[j] not in 'abcdefghijklmnopqrstuvwxyz' and newString[j]!=\" \":\n",
    "            yeni+=chr(ord(newString[j])+32)\n",
    "    if newString[j]==\" \":\n",
    "        yeni+=\" \"\n",
    "print(yeni)\n",
    "\n",
    "for p in range(len(yeni)):\n",
    "    if yeni[p] == \" \":\n",
    "        liste.append(yeni[k:p])\n",
    "        k = p + 1\n",
    "\n",
    "liste.append(yeni[k:len(yeni)])\n",
    "\n",
    "My=[]\n",
    "for r in range(len(liste)-1):\n",
    "    c=1\n",
    "    for m in range(r+1,len(liste)):\n",
    "        if liste[r] not in My and liste[r]==liste[m]:\n",
    "            c+=1\n",
    "\n",
    "    if liste[r] not in My:\n",
    "        My.append(liste[r])\n",
    "        My.append(c)\n",
    "\n",
    "print(My)\n",
    "        "
   ]
  },
  {
   "cell_type": "code",
   "execution_count": 7,
   "id": "3135bf7d",
   "metadata": {},
   "outputs": [
    {
     "name": "stdout",
     "output_type": "stream",
     "text": [
      "r\n"
     ]
    },
    {
     "ename": "TypeError",
     "evalue": "'str' object does not support item assignment",
     "output_type": "error",
     "traceback": [
      "\u001b[1;31m---------------------------------------------------------------------------\u001b[0m",
      "\u001b[1;31mTypeError\u001b[0m                                 Traceback (most recent call last)",
      "Input \u001b[1;32mIn [7]\u001b[0m, in \u001b[0;36m<cell line: 3>\u001b[1;34m()\u001b[0m\n\u001b[0;32m      1\u001b[0m a\u001b[38;5;241m=\u001b[39m[\u001b[38;5;124m\"\u001b[39m\u001b[38;5;124mprogramlama\u001b[39m\u001b[38;5;124m\"\u001b[39m]\n\u001b[0;32m      2\u001b[0m \u001b[38;5;28mprint\u001b[39m(a[\u001b[38;5;241m0\u001b[39m][\u001b[38;5;241m1\u001b[39m])\n\u001b[1;32m----> 3\u001b[0m a[\u001b[38;5;241m0\u001b[39m][\u001b[38;5;241m1\u001b[39m]\u001b[38;5;241m=\u001b[39m\u001b[38;5;124m\"\u001b[39m\u001b[38;5;124ms\u001b[39m\u001b[38;5;124m\"\u001b[39m\n\u001b[0;32m      4\u001b[0m \u001b[38;5;28mprint\u001b[39m(a)\n",
      "\u001b[1;31mTypeError\u001b[0m: 'str' object does not support item assignment"
     ]
    }
   ],
   "source": [
    "a=[\"programlama\"]\n",
    "print(a[0][1])\n",
    "a[0][1]=\"s\"\n",
    "print(a)\n",
    "# string değiştirilemez"
   ]
  },
  {
   "cell_type": "code",
   "execution_count": 10,
   "id": "8bf90242",
   "metadata": {},
   "outputs": [
    {
     "name": "stdout",
     "output_type": "stream",
     "text": [
      "[2]\n"
     ]
    }
   ],
   "source": [
    "a=[1]\n",
    "a[0]=2\n",
    "print(a)"
   ]
  },
  {
   "cell_type": "code",
   "execution_count": 1,
   "id": "2e67ff0c",
   "metadata": {},
   "outputs": [
    {
     "name": "stdout",
     "output_type": "stream",
     "text": [
      "[(2, 2), (3, 3), (3, 3), (4, 4), (4, 4), (4, 4)]\n"
     ]
    }
   ],
   "source": [
    "liste = [1, 2, 2, 3, 3, 3, 4, 4, 4, 4]\n",
    "varmi=[]\n",
    "kayit=[]\n",
    "for i in range(len(liste)):\n",
    "    c=0\n",
    "    for j in range(i+1,len(liste)):\n",
    "        if liste[i] not in varmi and liste[i]==liste[j]:\n",
    "            kayit.append((liste[i],liste[j]))\n",
    "            c+=1\n",
    "    \n",
    "    if c>0:\n",
    "        varmi.append(liste[i])\n",
    "\n",
    "print(kayit)\n",
    "        \n",
    "    "
   ]
  },
  {
   "cell_type": "code",
   "execution_count": 5,
   "id": "0014ed27",
   "metadata": {},
   "outputs": [
    {
     "name": "stdout",
     "output_type": "stream",
     "text": [
      "[3, 5, 7, 9, 11]\n"
     ]
    }
   ],
   "source": [
    "my=[1, 2, 3, 4, 5, 6]\n",
    "new=[]\n",
    "i=0\n",
    "j=0\n",
    "while True: # while şartlarında indexlerde aşma proplemi olabilir bu tarz index sorularında while True daha mantıklıdır\n",
    "    c=0\n",
    "    j+=1\n",
    "    if j==len(my):\n",
    "        break\n",
    "    c=my[i]+my[j]\n",
    "    new.append(c)\n",
    "    i+=1\n",
    "\n",
    "print(new)\n",
    "    "
   ]
  },
  {
   "cell_type": "code",
   "execution_count": 6,
   "id": "59b2a061",
   "metadata": {},
   "outputs": [
    {
     "ename": "IndexError",
     "evalue": "list index out of range",
     "output_type": "error",
     "traceback": [
      "\u001b[1;31m---------------------------------------------------------------------------\u001b[0m",
      "\u001b[1;31mIndexError\u001b[0m                                Traceback (most recent call last)",
      "Input \u001b[1;32mIn [6]\u001b[0m, in \u001b[0;36m<cell line: 4>\u001b[1;34m()\u001b[0m\n\u001b[0;32m      4\u001b[0m \u001b[38;5;28;01mfor\u001b[39;00m i \u001b[38;5;129;01min\u001b[39;00m \u001b[38;5;28mrange\u001b[39m(\u001b[38;5;28mlen\u001b[39m(dizi)\u001b[38;5;241m-\u001b[39m\u001b[38;5;241m1\u001b[39m):\n\u001b[0;32m      5\u001b[0m     \u001b[38;5;28;01mfor\u001b[39;00m j \u001b[38;5;129;01min\u001b[39;00m \u001b[38;5;28mrange\u001b[39m(i\u001b[38;5;241m+\u001b[39m\u001b[38;5;241m1\u001b[39m,\u001b[38;5;28mlen\u001b[39m(dizi)):\n\u001b[1;32m----> 6\u001b[0m         \u001b[38;5;28;01mif\u001b[39;00m dizi[i]\u001b[38;5;241m==\u001b[39m\u001b[43mdizi\u001b[49m\u001b[43m[\u001b[49m\u001b[43mj\u001b[49m\u001b[43m]\u001b[49m:\n\u001b[0;32m      7\u001b[0m             dizi\u001b[38;5;241m.\u001b[39mremove(dizi[j])\n\u001b[0;32m      9\u001b[0m \u001b[38;5;28mprint\u001b[39m(dizi)\n",
      "\u001b[1;31mIndexError\u001b[0m: list index out of range"
     ]
    }
   ],
   "source": [
    "dizi = [1, 2, 2, 3, 4, 4, 4, 5, 6, 6]\n",
    "kontrol=[]\n",
    "sade=[]\n",
    "for i in range(len(dizi)-1):\n",
    "    for j in range(i+1,len(dizi)):\n",
    "        if dizi[i]==dizi[j]:\n",
    "            dizi.remove(dizi[j]) # remove işlemini yaparsan döngüler bunu çıkardığını anlamaz ve hata verir\n",
    "\n",
    "print(dizi)\n",
    "            "
   ]
  },
  {
   "cell_type": "code",
   "execution_count": 8,
   "id": "9e19b6da",
   "metadata": {},
   "outputs": [
    {
     "name": "stdout",
     "output_type": "stream",
     "text": [
      "[1, 2, 3, 4, 5, 6]\n"
     ]
    }
   ],
   "source": [
    "dizi = [1, 2, 2, 3, 4, 4, 4, 5, 6, 6]\n",
    "kontrol=[]\n",
    "sade=[]\n",
    "for i in range(len(dizi)-1):\n",
    "    for j in range(i+1,len(dizi)):\n",
    "        if dizi[i] not in kontrol and dizi[i]==dizi[j]:\n",
    "            sade.append(dizi[i])\n",
    "            kontrol.append(dizi[i])\n",
    "            \n",
    "        if dizi[i] not in kontrol and dizi[i]!=dizi[j]:\n",
    "            sade.append(dizi[i])\n",
    "            kontrol.append(dizi[i])\n",
    "            \n",
    "\n",
    "print(sade)"
   ]
  },
  {
   "cell_type": "code",
   "execution_count": 3,
   "id": "0fabc7db",
   "metadata": {},
   "outputs": [
    {
     "name": "stdout",
     "output_type": "stream",
     "text": [
      "[[1, 2, 3], [5, 6], [8], [10, 11]]\n"
     ]
    }
   ],
   "source": [
    "def ardışık_sayıları_bul(liste):\n",
    "    ardışık_diziler = []\n",
    "    ardışık_dizi = [liste[0]]\n",
    "\n",
    "    for i in range(1, len(liste)):\n",
    "        if liste[i] == liste[i - 1] + 1:\n",
    "            ardışık_dizi.append(liste[i])\n",
    "        else:\n",
    "            ardışık_diziler.append(ardışık_dizi)\n",
    "            ardışık_dizi = [liste[i]]\n",
    "\n",
    "    ardışık_diziler.append(ardışık_dizi)  # Son dizi eklenmeli\n",
    "\n",
    "    return ardışık_diziler\n",
    "\n",
    "# Örnek kullanım:\n",
    "liste = [1, 2, 3, 5, 6, 8, 10, 11]\n",
    "sonuç = ardışık_sayıları_bul(liste)\n",
    "print(sonuç)"
   ]
  },
  {
   "cell_type": "code",
   "execution_count": 7,
   "id": "2aae9bff",
   "metadata": {},
   "outputs": [
    {
     "name": "stdout",
     "output_type": "stream",
     "text": [
      "[[2, 3], [6, 2], [7, 3]]\n",
      "2\n"
     ]
    }
   ],
   "source": [
    "liste=[2, 3, 2, 5, 6, 7, 2, 6, 8, 7, 7]\n",
    "tekrar=[]\n",
    "tekrarIndexVeSayisi=[]\n",
    "for i in range(len(liste)-1):\n",
    "    c=1\n",
    "    for j in range(i+1,len(liste)):\n",
    "        if liste[i] not in tekrar and liste[i]==liste[j]:\n",
    "            c+=1\n",
    "            \n",
    "    if c>1:\n",
    "        tekrar.append(liste[i])\n",
    "        tekrarIndexVeSayisi.append([liste[i],c])\n",
    "    \n",
    "print(tekrarIndexVeSayisi)\n",
    "\n",
    "tekrarMax=tekrarIndexVeSayisi[0][1]\n",
    "tekrarMaxSayi=tekrarIndexVeSayisi[0][0]\n",
    "for i in range(1,len(tekrarIndexVeSayisi)):\n",
    "    if tekrarIndexVeSayisi[i][1]>tekrarMax:\n",
    "        tekrarMax=tekrarIndexVeSayisi[i][1]\n",
    "        tekrarMaxSayi=tekrarIndexVeSayisi[i][0]\n",
    "\n",
    "print(tekrarMaxSayi)\n",
    "        \n",
    "            "
   ]
  },
  {
   "cell_type": "code",
   "execution_count": 17,
   "id": "00c127c4",
   "metadata": {},
   "outputs": [
    {
     "name": "stdout",
     "output_type": "stream",
     "text": [
      "",
      "\n"
     ]
    }
   ],
   "source": [
    "string=\"merhaba dünya, python öğreniyorum\"\n",
    "yeni=\"\"\n",
    "ilk=string[0]\n",
    "c=0\n",
    "j=1\n",
    "while True:\n",
    "    j+=1\n",
    "    if j>=len(string):\n",
    "        break\n",
    "    if \"a\"<=ilk<=\"z\" and c<1:\n",
    "        yeni+=chr(ord(ilk)+32)\n",
    "        c+=1\n",
    "        \n",
    "    if \"a\"<=string[j]<=\"z\" and string[j]!=ilk and string[j-1]==\" \":\n",
    "        yeni+=chr(ord(string[j])+32)\n",
    "    \n",
    "    if \"a\"<=string[j]<=\"z\" and string[j-1]!=\" \":\n",
    "        yeni+=chr(ord(string[j])+32)\n",
    "        \n",
    "print(yeni)\n",
    "    \n",
    "    \n",
    "        "
   ]
  },
  {
   "cell_type": "code",
   "execution_count": 12,
   "id": "a9a8ae40",
   "metadata": {},
   "outputs": [
    {
     "name": "stdout",
     "output_type": "stream",
     "text": [
      "\n"
     ]
    }
   ],
   "source": [
    "string=\"merhaba dünya, python öğreniyorum\"\n",
    "yeni=\"\"\n",
    "ilk=string[0]\n",
    "a=chr(ord(ilk)+32)\n",
    "print(a)"
   ]
  },
  {
   "cell_type": "code",
   "execution_count": null,
   "id": "7fbeaa4a",
   "metadata": {},
   "outputs": [],
   "source": []
  },
  {
   "cell_type": "code",
   "execution_count": 22,
   "id": "df66e49b",
   "metadata": {},
   "outputs": [
    {
     "name": "stdout",
     "output_type": "stream",
     "text": [
      "[1, 2, 3, 4]\n"
     ]
    }
   ],
   "source": [
    "# en uzun alt dizi bulma !\n",
    "def alt_dizi_bul(liste):\n",
    "    alt_diziler = []\n",
    "    c = 0\n",
    "    a=0\n",
    "    for i in range(len(liste) - 1):\n",
    "        alt_dizi = [liste[i]]\n",
    "        d = 0\n",
    "        k=0\n",
    "        for j in range(i + 1, len(liste)):\n",
    "            if (abs(liste[j] - liste[j - 1]) == a  and liste[j] > liste[j - 1]) or (k==0 and liste[j] > liste[j - 1]):\n",
    "                a=abs(liste[j] - liste[j - 1])\n",
    "                alt_dizi.append(liste[j])\n",
    "                d += 1\n",
    "            else:\n",
    "                break\n",
    "        \n",
    "        if len(alt_dizi)>0:\n",
    "            k=1\n",
    "        if d > c:\n",
    "            alt_diziler = alt_dizi\n",
    "            c = d\n",
    "\n",
    "    return alt_diziler\n",
    "\n",
    "alt_diziler = alt_dizi_bul([1, 2, 3, 1, 2, 3, 4])\n",
    "print(alt_diziler)"
   ]
  },
  {
   "cell_type": "code",
   "execution_count": 3,
   "id": "68f4f4f2",
   "metadata": {},
   "outputs": [
    {
     "name": "stdout",
     "output_type": "stream",
     "text": [
      "p:abcş123\n",
      "parolanin söz dizimi hatalı!\n"
     ]
    }
   ],
   "source": [
    "parola=input(\"p:\")\n",
    "i=0\n",
    "c=0\n",
    "while True:\n",
    "    if parola[i] in \"üğşıuçö\":\n",
    "        c+=1\n",
    "        break\n",
    "    i+=1\n",
    "    if i==len(parola):\n",
    "        break\n",
    "\n",
    "if c>0:\n",
    "    print(\"parolanin söz dizimi hatalı!\")\n",
    "else:\n",
    "    print(parola)\n",
    "        "
   ]
  },
  {
   "cell_type": "code",
   "execution_count": 7,
   "id": "3c300f6d",
   "metadata": {},
   "outputs": [
    {
     "name": "stdout",
     "output_type": "stream",
     "text": [
      "['r', 'a', 'e', 's', 'i', 'd', 'a', 'k', 'r', 'a', ' ', 'a', 'b', 'a', 'h', 'r', 'e', 'm']\n"
     ]
    }
   ],
   "source": [
    "metin = \"merhaba arkadisear\"\n",
    "new = []\n",
    "i = len(metin) - 1\n",
    "j = len(metin) - 2\n",
    "k = len(metin) - 3\n",
    "metinListe = []\n",
    "\n",
    "for _ in range(len(metin)):\n",
    "    metinListe.append(0)\n",
    "\n",
    "ibas=0\n",
    "jbas=0\n",
    "kbas=0\n",
    "while True:\n",
    "    if metin[i] in \"aeiou\" and metin[j] in \"aeiou\" and metin[k] in \"aeiou\":\n",
    "        ibas=(len(metin)-1)-i\n",
    "        jbas=(len(metin)-1)-j\n",
    "        kbas=(len(metin)-1)-k\n",
    "        metinListe[(len(metin)-1)-i]=metin[i]\n",
    "        metinListe[(len(metin)-1)-j]=metin[j]\n",
    "        metinListe[(len(metin)-1)-k]=metin[k]\n",
    "        i -= 1\n",
    "        j -= 1\n",
    "        k -= 1\n",
    "    \n",
    "    if metin[i] not in \"aeiou\" or metin[j] not in \"aeiou\" or metin[k] not in \"aeiou\" and metin[]:\n",
    "        metinListe[(len(metin)-1)-i]=metin[i]\n",
    "        metinListe[(len(metin)-1)-j]=metin[j]\n",
    "        metinListe[(len(metin)-1)-k]=metin[k]\n",
    "        i -= 1\n",
    "        j -= 1\n",
    "        k -= 1\n",
    "\n",
    "    if k < 0:\n",
    "        break\n",
    "\n",
    "print(metinListe)\n",
    "        \n",
    "        "
   ]
  },
  {
   "cell_type": "code",
   "execution_count": 22,
   "id": "6a386201",
   "metadata": {},
   "outputs": [
    {
     "name": "stdout",
     "output_type": "stream",
     "text": [
      "1 nolu sepete 3 adet top eklendi   [[1, 1, 1], [], []]\n",
      "2 nolu sepetten 0 adet top çıkarıldı   [[1, 1, 1], [], []]\n",
      "1 nolu sepetten 2 adet top çıkarıldı   [[1], [], []]\n",
      "3 nolu sepetten 0 adet top çıkarıldı   [[1], [], []]\n",
      "3 nolu sepetten 0 adet top çıkarıldı   [[1], [], []]\n",
      "3 nolu sepetten 0 adet top çıkarıldı   [[1], [], []]\n",
      "3 nolu sepetten 0 adet top çıkarıldı   [[1], [], []]\n",
      "2 nolu sepetten 0 adet top çıkarıldı   [[1], [], []]\n",
      "3 nolu sepetten 0 adet top çıkarıldı   [[1], [], []]\n",
      "3 nolu sepete 2 adet top eklendi   [[1], [], [1, 1]]\n",
      "3 nolu sepetten 2 adet top çıkarıldı   [[1], [], [1, 1]]\n",
      "3 nolu sepete 1 adet top eklendi   [[1], [], [1, 1, 1]]\n",
      "1 nolu sepetten 1 adet top çıkarıldı   [[1], [], [1, 1, 1]]\n",
      "2 nolu sepetten 0 adet top çıkarıldı   [[1], [], [1, 1, 1]]\n",
      "3 nolu sepete 1 adet top eklendi   [[1], [], [1, 1, 1, 1]]\n",
      "2 nolu sepete 2 adet top eklendi   [[1], [1, 1], [1, 1, 1, 1]]\n",
      "2 nolu sepetten 2 adet top çıkarıldı   [[1], [], [1, 1, 1, 1]]\n",
      "1 nolu sepetten 1 adet top çıkarıldı   [[1], [], [1, 1, 1, 1]]\n",
      "1 nolu sepetten 1 adet top çıkarıldı   [[], [], [1, 1, 1, 1]]\n",
      "1 nolu sepete 2 adet top eklendi   [[1, 1], [], [1, 1, 1, 1]]\n",
      "1 nolu sepetten 1 adet top çıkarıldı   [[1], [], [1, 1, 1, 1]]\n",
      "3 nolu sepetten 3 adet top çıkarıldı   [[1], [], [1]]\n",
      "1 nolu sepetten 1 adet top çıkarıldı   [[], [], [1]]\n",
      "2 nolu sepetten 0 adet top çıkarıldı   [[], [], [1]]\n",
      "1 nolu sepete 1 adet top eklendi   [[1], [], [1]]\n",
      "3 nolu sepete 3 adet top eklendi   [[1], [], [1, 1, 1, 1]]\n",
      "1 nolu sepetten 1 adet top çıkarıldı   [[1], [], [1, 1, 1, 1]]\n",
      "2 nolu sepetten 0 adet top çıkarıldı   [[1], [], [1, 1, 1, 1]]\n",
      "1 nolu sepete 3 adet top eklendi   [[1, 1, 1, 1], [], [1, 1, 1, 1]]\n",
      "2 nolu sepete 1 adet top eklendi   [[1, 1, 1, 1], [1], [1, 1, 1, 1]]\n",
      "2 nolu sepetten 1 adet top çıkarıldı   [[1, 1, 1, 1], [1], [1, 1, 1, 1]]\n",
      "1 nolu sepete 1 adet top eklendi   [[1, 1, 1, 1, 1], [1], [1, 1, 1, 1]]\n",
      "Program sonlandı. Bir sepette 5 veya daha fazla top birikti.\n"
     ]
    }
   ],
   "source": [
    "import random\n",
    "\n",
    "def top_sepeti_simulasyonu():\n",
    "    sepetler = [[], [], []]\n",
    "    adim = 0\n",
    "\n",
    "    while True:\n",
    "        adim += 1\n",
    "        secilen_sepet = random.randint(0, 2)\n",
    "        k = random.randint(1, 3)\n",
    "        ekleme_mi = random.choice([True, False])\n",
    "\n",
    "        if ekleme_mi:\n",
    "            sepetler[secilen_sepet] += [1] * k\n",
    "            print(f\"{secilen_sepet + 1} nolu sepete {k} adet top eklendi   {sepetler}\")\n",
    "        else:\n",
    "            if len(sepetler[secilen_sepet]) >= k:\n",
    "                sepetler[secilen_sepet] = sepetler[secilen_sepet][:-k]\n",
    "                print(f\"{secilen_sepet + 1} nolu sepetten {k} adet top çıkarıldı   {sepetler}\")\n",
    "            else:\n",
    "                print(f\"{secilen_sepet + 1} nolu sepetten {len(sepetler[secilen_sepet])} adet top çıkarıldı   {sepetler}\")\n",
    "\n",
    "        if any(len(sepet) >= 5 for sepet in sepetler):\n",
    "            print(\"Program sonlandı. Bir sepette 5 veya daha fazla top birikti.\")\n",
    "            break\n",
    "\n",
    "top_sepeti_simulasyonu()"
   ]
  },
  {
   "cell_type": "code",
   "execution_count": 21,
   "id": "4de94e77",
   "metadata": {},
   "outputs": [
    {
     "ename": "IndexError",
     "evalue": "list index out of range",
     "output_type": "error",
     "traceback": [
      "\u001b[1;31m---------------------------------------------------------------------------\u001b[0m",
      "\u001b[1;31mIndexError\u001b[0m                                Traceback (most recent call last)",
      "Input \u001b[1;32mIn [21]\u001b[0m, in \u001b[0;36m<cell line: 5>\u001b[1;34m()\u001b[0m\n\u001b[0;32m      3\u001b[0m eklenecek\u001b[38;5;241m=\u001b[39mk\u001b[38;5;241m*\u001b[39m[\u001b[38;5;241m1\u001b[39m]\n\u001b[0;32m      4\u001b[0m ekleme\u001b[38;5;241m=\u001b[39mk\u001b[38;5;241m*\u001b[39m[\u001b[38;5;241m1\u001b[39m]\n\u001b[1;32m----> 5\u001b[0m \u001b[43mSepet\u001b[49m\u001b[43m[\u001b[49m\u001b[38;5;241;43m0\u001b[39;49m\u001b[43m]\u001b[49m\u001b[43m[\u001b[49m\u001b[38;5;241;43m0\u001b[39;49m\u001b[43m]\u001b[49m\u001b[38;5;241m.\u001b[39mappend(eklenecek)\n\u001b[0;32m      6\u001b[0m Sepet[\u001b[38;5;241m0\u001b[39m][\u001b[38;5;241m0\u001b[39m]\u001b[38;5;241m.\u001b[39mappend(ekleme)\n\u001b[0;32m      7\u001b[0m \u001b[38;5;28mprint\u001b[39m(Sepet)\n",
      "\u001b[1;31mIndexError\u001b[0m: list index out of range"
     ]
    }
   ],
   "source": [
    "Sepet = [[], [], []]\n",
    "k=2\n",
    "eklenecek=k*[1]\n",
    "ekleme=k*[1]\n",
    "Sepet[0][0].append(eklenecek)\n",
    "Sepet[0][0].append(ekleme)\n",
    "print(Sepet)"
   ]
  },
  {
   "cell_type": "code",
   "execution_count": 26,
   "id": "772a87f8",
   "metadata": {},
   "outputs": [
    {
     "name": "stdout",
     "output_type": "stream",
     "text": [
      "1  nolu sepete  1  adet top eklendi.  Sepet= [[1], [], []]\n",
      "2  nolu sepetten  2  adet top cikarildi.  Sepet= [[1], [], []]\n",
      "3  nolu sepetten  2  adet top cikarildi.  Sepet= [[1], [], []]\n",
      "1  nolu sepete  2  adet top eklendi.  Sepet= [[1, 1, 1], [], []]\n",
      "2  nolu sepete  3  adet top eklendi.  Sepet= [[1, 1, 1], [1, 1, 1], []]\n",
      "3  nolu sepete  3  adet top eklendi.  Sepet= [[1, 1, 1], [1, 1, 1], [1, 1, 1]]\n",
      "1  nolu sepete  2  adet top eklendi.  Sepet= [[1, 1, 1, 1, 1], [1, 1, 1], [1, 1, 1]]\n"
     ]
    }
   ],
   "source": [
    "import random\n",
    "Sepet =[[],[],[]]\n",
    "Ind = 0\n",
    "while 1:\n",
    "    k = round(2*random.random())+1\n",
    "    s = Ind%3\n",
    "    ec = random.random()<0.5\n",
    "    if ec:                #ekle\n",
    "        Sepet[s] = Sepet[s] + k*[1]\n",
    "        print(s+1,\" nolu sepete \",k,\" adet top eklendi.  Sepet=\",Sepet)\n",
    "    else:                                  #cikar\n",
    "        if len(Sepet[s])-k<0:\n",
    "            Sepet[s]=[]\n",
    "        else:\n",
    "            l = Sepet[s]\n",
    "            Sepet[s] = l[0:len(l)-k]\n",
    "        print(s+1,\" nolu sepetten \",k,\" adet top cikarildi.  Sepet=\",Sepet)\n",
    "    \n",
    "    if len(Sepet[s])>=5: break\n",
    "    Ind += 1"
   ]
  },
  {
   "cell_type": "code",
   "execution_count": 7,
   "id": "b7aa7d7b",
   "metadata": {},
   "outputs": [
    {
     "data": {
      "text/plain": [
       "[[1, 1, 1, 1, 1, 1], [1, 1], []]"
      ]
     },
     "execution_count": 7,
     "metadata": {},
     "output_type": "execute_result"
    }
   ],
   "source": [
    "import random\n",
    "def top_sepeti_simulasyonu():\n",
    "    sepet =[[],[],[]]\n",
    "    adim=0\n",
    "    while True:\n",
    "        k=random.choice([1,2,3])\n",
    "        eklenecekmi=random.choice([True,False])\n",
    "        if eklenecekmi:\n",
    "            if adim<len(sepet):\n",
    "                for i in range(k):\n",
    "                    sepet[adim].append(1)\n",
    "                if adim>=len(sepet):\n",
    "                    adim=0\n",
    "    \n",
    "            else:\n",
    "                adim+=1\n",
    "        else:\n",
    "            if adim<len(sepet) and len(sepet[adim])>=k:\n",
    "                sepet[adim]=sepet[adim][0:len(sepet[adim])-k]\n",
    "                if adim>=len(sepet):\n",
    "                    adim=0\n",
    "        \n",
    "            else:\n",
    "                adim+=1\n",
    "            \n",
    "        if adim>=len(sepet):\n",
    "                adim=0\n",
    "    \n",
    "        if len(sepet[adim])>=5:\n",
    "            break\n",
    "            \n",
    "    return sepet\n",
    "            \n",
    "        \n",
    "top_sepeti_simulasyonu()"
   ]
  },
  {
   "cell_type": "code",
   "execution_count": 4,
   "id": "7cbe31f7",
   "metadata": {},
   "outputs": [
    {
     "name": "stdout",
     "output_type": "stream",
     "text": [
      "[[[1, 1, 1, 1], []], [], []]\n"
     ]
    }
   ],
   "source": [
    "sepet =[[1,1,1,1],[],[]]\n",
    "k=2\n",
    "sepet[0]=sepet[0][0:len(sepet[0])-k]\n",
    "print(sepet)"
   ]
  },
  {
   "cell_type": "code",
   "execution_count": 4,
   "id": "b8e6b20e",
   "metadata": {},
   "outputs": [
    {
     "name": "stdout",
     "output_type": "stream",
     "text": [
      "Matris boyutu (NxN): 4\n",
      "Küçültme faktörü (k): 2\n",
      "Orijinal Matris:\n",
      "[12, 54, 40, 58]\n",
      "[35, 46, 81, 52]\n",
      "[47, 15, 61, 71]\n",
      "[54, 58, 98, 70]\n",
      "2 kat küçültülmüş Matris:\n",
      "[12, 40]\n",
      "[47, 61]\n"
     ]
    }
   ],
   "source": [
    "import random\n",
    "\n",
    "def matris_kucult(N, k):\n",
    "    matris = [[random.randint(0, 100) for _ in range(N)] for _ in range(N)]\n",
    "    \n",
    "    print(\"Orijinal Matris:\")\n",
    "    for row in matris:\n",
    "        print(row)\n",
    "    \n",
    "    # k kat küçült\n",
    "    kucuk_matris = []\n",
    "    for i in range(0, N, k):\n",
    "        row = []\n",
    "        for j in range(0, N, k):\n",
    "            row.append(matris[i][j])\n",
    "        kucuk_matris.append(row)\n",
    "    \n",
    "    print(f\"{k} kat küçültülmüş Matris:\")\n",
    "    for row in kucuk_matris:\n",
    "        print(row)\n",
    "\n",
    "N = int(input(\"Matris boyutu (NxN): \"))\n",
    "k = int(input(\"Küçültme faktörü (k): \"))\n",
    "\n",
    "matris_kucult(N, k)\n"
   ]
  },
  {
   "cell_type": "code",
   "execution_count": 1,
   "id": "2a4c9b94",
   "metadata": {},
   "outputs": [],
   "source": [
    "def eleman_ekleyici(eleman,myList,i):\n",
    "    if i<len(myList):\n",
    "        myList[i].append(eleman)\n",
    "        return eleman_ekleyici(eleman,myList,i+1)\n",
    "    if i==len(myList)-1:\n",
    "        return myList\n",
    "    \n",
    "eleman_ekleyici(10,[[1,2],[3,4],[5,6]],0)    "
   ]
  },
  {
   "cell_type": "code",
   "execution_count": 10,
   "id": "a6e070c5",
   "metadata": {},
   "outputs": [
    {
     "name": "stdout",
     "output_type": "stream",
     "text": [
      "3, 4, 5 Dik Üçgen\n",
      "5, 12, 13 Dik Üçgen\n",
      "2, 15, 17 Genel Üçgen\n",
      "5, 5, 5 Eşkenar Üçgen\n",
      "5, 5, 8 İkizkenar Üçgen\n",
      "1, 24, 25 Genel Üçgen\n"
     ]
    }
   ],
   "source": [
    "def ucgen_tipi(edges):\n",
    "    for edge in edges:\n",
    "        a, b, c = edge\n",
    "        \n",
    "        if a == b == c:\n",
    "            print(f\"{a}, {b}, {c} Eşkenar Üçgen\")\n",
    "        elif a == b or a == c or b == c:\n",
    "            print(f\"{a}, {b}, {c} İkizkenar Üçgen\")\n",
    "        elif (a**2 + b**2 == c**2) or (a**2 + c**2 == b**2) or (b**2 + c**2 == a**2):\n",
    "            print(f\"{a}, {b}, {c} Dik Üçgen\")\n",
    "        else:\n",
    "            print(f\"{a}, {b}, {c} Genel Üçgen\")\n",
    "\n",
    "ucgen_tipi([(3, 4, 5),(5, 12, 13),(2, 15, 17),(5, 5, 5),(5, 5, 8),(1, 24, 25)])"
   ]
  },
  {
   "cell_type": "code",
   "execution_count": 4,
   "id": "3aba4ea9",
   "metadata": {},
   "outputs": [
    {
     "name": "stdout",
     "output_type": "stream",
     "text": [
      "0\n",
      "1\n",
      "2\n"
     ]
    }
   ],
   "source": [
    "def ucgen_tipi(edges=[1,2,3]):\n",
    "    for i in range(len(edges)):\n",
    "        print(i)\n",
    "    \n",
    "ucgen_tipi()"
   ]
  },
  {
   "cell_type": "code",
   "execution_count": 5,
   "id": "0f35b007",
   "metadata": {},
   "outputs": [
    {
     "data": {
      "text/plain": [
       "0"
      ]
     },
     "execution_count": 5,
     "metadata": {},
     "output_type": "execute_result"
    }
   ],
   "source": [
    "def ucgen_tipi(edges=[1,2,3]):\n",
    "    for i in range(len(edges)):\n",
    "        return i\n",
    "    \n",
    "ucgen_tipi()"
   ]
  },
  {
   "cell_type": "code",
   "execution_count": 11,
   "id": "8710ff8b",
   "metadata": {},
   "outputs": [
    {
     "name": "stdout",
     "output_type": "stream",
     "text": [
      "3\n"
     ]
    }
   ],
   "source": [
    "a=[(3, 4, 5), (5, 12, 13)]\n",
    "print(a[0][0]) # bunlar tupledir atamaları desteklemez"
   ]
  },
  {
   "cell_type": "code",
   "execution_count": 5,
   "id": "fd153ee2",
   "metadata": {},
   "outputs": [
    {
     "name": "stdout",
     "output_type": "stream",
     "text": [
      "0 ile 100 arasında sayi bulma programı\n",
      "23\n",
      "sayini gir:15\n",
      "küçük sayi girdiniz büyültün\n",
      "sayini gir:10\n",
      "küçük sayi girdiniz büyültün\n",
      "sayini gir:10\n",
      "küçük sayi girdiniz büyültün\n",
      "sayini gir:10\n",
      "hakkiniz doldu\n"
     ]
    }
   ],
   "source": [
    "import random\n",
    "print(\"0 ile 100 arasında sayi bulma programı\")\n",
    "c=0\n",
    "istenilen=random.randint(0,100)\n",
    "print(istenilen)\n",
    "while True:\n",
    "    tahmin=int(input(\"sayini gir:\"))\n",
    "    if c==3:\n",
    "        print(\"hakkiniz doldu\")\n",
    "        break\n",
    "    if tahmin>istenilen:\n",
    "        print(\"büyük sayi girdiniz küçültünüz\")\n",
    "        c+=1\n",
    "    if istenilen==tahmin:\n",
    "        print(\"sayiyi buldunuz tebrikler!\")\n",
    "        break\n",
    "    if tahmin<istenilen:\n",
    "        print(\"küçük sayi girdiniz büyültün\")\n",
    "        c+=1"
   ]
  },
  {
   "cell_type": "code",
   "execution_count": 3,
   "id": "af98924a",
   "metadata": {},
   "outputs": [
    {
     "name": "stdout",
     "output_type": "stream",
     "text": [
      "ROMA RAKAMINI GİR:XXVIII\n",
      "28\n"
     ]
    }
   ],
   "source": [
    "roma=input(\"ROMA RAKAMINI GİR:\")\n",
    "romaListe=[]\n",
    "for m in range(len(roma)):\n",
    "    romaListe.append(roma[m])\n",
    "rakam=[1,5,10]\n",
    "roma=[\"I\",\"V\",\"X\"]\n",
    "romaninToplami=0\n",
    "for i in range(len(romaListe)):\n",
    "    for j in range(len(rakam)):\n",
    "        if romaListe[i]==roma[j]:\n",
    "            romaninToplami+=rakam[j]\n",
    "\n",
    "print(romaninToplami)\n",
    "            \n",
    "        "
   ]
  },
  {
   "cell_type": "code",
   "execution_count": 1,
   "id": "183116c0",
   "metadata": {},
   "outputs": [
    {
     "name": "stdout",
     "output_type": "stream",
     "text": [
      "-6\n"
     ]
    },
    {
     "ename": "NameError",
     "evalue": "name 'i' is not defined",
     "output_type": "error",
     "traceback": [
      "\u001b[1;31m---------------------------------------------------------------------------\u001b[0m",
      "\u001b[1;31mNameError\u001b[0m                                 Traceback (most recent call last)",
      "Input \u001b[1;32mIn [1]\u001b[0m, in \u001b[0;36m<cell line: 11>\u001b[1;34m()\u001b[0m\n\u001b[0;32m      8\u001b[0m     i \u001b[38;5;241m=\u001b[39m i \u001b[38;5;241m+\u001b[39m \u001b[38;5;241m5\u001b[39m \u001b[38;5;241m%\u001b[39m \u001b[38;5;241m2\u001b[39m\n\u001b[0;32m     10\u001b[0m fonksiyon_1(\u001b[38;5;241m5\u001b[39m)\n\u001b[1;32m---> 11\u001b[0m \u001b[43mfonksiyon_2\u001b[49m\u001b[43m(\u001b[49m\u001b[43m)\u001b[49m\n\u001b[0;32m     12\u001b[0m i \u001b[38;5;241m=\u001b[39m i \u001b[38;5;241m*\u001b[39m \u001b[38;5;241m5\u001b[39m\n\u001b[0;32m     13\u001b[0m \u001b[38;5;28mprint\u001b[39m(i)\n",
      "Input \u001b[1;32mIn [1]\u001b[0m, in \u001b[0;36mfonksiyon_2\u001b[1;34m()\u001b[0m\n\u001b[0;32m      5\u001b[0m \u001b[38;5;28;01mdef\u001b[39;00m \u001b[38;5;21mfonksiyon_2\u001b[39m():\n\u001b[0;32m      6\u001b[0m     \u001b[38;5;28;01mglobal\u001b[39;00m i\n\u001b[1;32m----> 7\u001b[0m     \u001b[38;5;28mprint\u001b[39m(\u001b[43mi\u001b[49m)\n\u001b[0;32m      8\u001b[0m     i \u001b[38;5;241m=\u001b[39m i \u001b[38;5;241m+\u001b[39m \u001b[38;5;241m5\u001b[39m \u001b[38;5;241m%\u001b[39m \u001b[38;5;241m2\u001b[39m\n",
      "\u001b[1;31mNameError\u001b[0m: name 'i' is not defined"
     ]
    }
   ],
   "source": [
    "def fonksiyon_1(i):\n",
    "    i -= 1 + i * 2\n",
    "    print(i)\n",
    "\n",
    "def fonksiyon_2():\n",
    "    global i\n",
    "    print(i)\n",
    "    i = i + 5 % 2\n",
    "\n",
    "fonksiyon_1(5)\n",
    "fonksiyon_2()\n",
    "i = i * 5\n",
    "print(i)"
   ]
  },
  {
   "cell_type": "code",
   "execution_count": 2,
   "id": "3ba5d07c",
   "metadata": {},
   "outputs": [
    {
     "data": {
      "text/plain": [
       "[5, 10, 11]"
      ]
     },
     "execution_count": 2,
     "metadata": {},
     "output_type": "execute_result"
    }
   ],
   "source": [
    "def VizeRasgeleSayiliListeUret(baslangic,bitis,adet):\n",
    "    import random\n",
    "    Liste=[]\n",
    "    for i in range(adet):\n",
    "        sayi = round(random.random()*(bitis-baslangic)+baslangic)\n",
    "        Liste.append(sayi)\n",
    "    return Liste\n",
    "VizeRasgeleSayiliListeUret(4,12,3)"
   ]
  },
  {
   "cell_type": "code",
   "execution_count": 1,
   "id": "8e69a294",
   "metadata": {},
   "outputs": [
    {
     "data": {
      "text/plain": [
       "[6, 6, 5]"
      ]
     },
     "execution_count": 1,
     "metadata": {},
     "output_type": "execute_result"
    }
   ],
   "source": [
    "import random\n",
    "def RastgaleSayiliListeUret(baslangic,bitis,adet):\n",
    "    Liste=[]\n",
    "    for i in range(adet):\n",
    "        sayi = random.randint(5,8)\n",
    "        Liste.append(sayi)\n",
    "    return Liste\n",
    "RastgaleSayiliListeUret(2,5,3)"
   ]
  },
  {
   "cell_type": "code",
   "execution_count": 3,
   "id": "4e3b0709",
   "metadata": {},
   "outputs": [
    {
     "data": {
      "text/plain": [
       "([58, 94, 188, 135, 180, 85, 122, 133, 119, 112, 89, 178],\n",
       " [[39, 82, 95, 86], [80, 78, 74, 54], [96, 67, 83, 87]],\n",
       " [[19, 12, 93, 49], [100, 7, 48, 79], [23, 45, 6, 91]])"
      ]
     },
     "execution_count": 3,
     "metadata": {},
     "output_type": "execute_result"
    }
   ],
   "source": [
    "import random\n",
    "def MatrisİciniRastgeleDoldurVeTopla(bas,bitis,m,k,toplam):\n",
    "    for i in range(3):\n",
    "        satir=[]\n",
    "        for j in range(4):\n",
    "            sayi=random.randint(bas,bitis)\n",
    "            satir.append(sayi)\n",
    "        m.append(satir)\n",
    "    \n",
    "    for i in range(3):\n",
    "        satir=[]\n",
    "        for j in range(4):\n",
    "            sayi=random.randint(bas,bitis)\n",
    "            satir.append(sayi)\n",
    "        k.append(satir)\n",
    "    \n",
    "    if len(m)==len(k) and len(m[0])==len(k[0]):\n",
    "        for i in range(len(m)):\n",
    "            for j in range(len(m[0])):\n",
    "                d=m[i][j]+k[i][j]\n",
    "                toplam.append(d)\n",
    "                \n",
    "    return toplam,m,k\n",
    "            \n",
    "MatrisİciniRastgeleDoldurVeTopla(1,100,[],[],[])\n",
    "        \n",
    "    "
   ]
  },
  {
   "cell_type": "code",
   "execution_count": 4,
   "id": "02b26c1a",
   "metadata": {},
   "outputs": [
    {
     "name": "stdout",
     "output_type": "stream",
     "text": [
      "12\n",
      "2\n",
      "1\n",
      "0\n",
      "3\n",
      "4\n"
     ]
    },
    {
     "ename": "IndexError",
     "evalue": "list assignment index out of range",
     "output_type": "error",
     "traceback": [
      "\u001b[1;31m---------------------------------------------------------------------------\u001b[0m",
      "\u001b[1;31mIndexError\u001b[0m                                Traceback (most recent call last)",
      "Input \u001b[1;32mIn [4]\u001b[0m, in \u001b[0;36m<cell line: 2>\u001b[1;34m()\u001b[0m\n\u001b[0;32m      6\u001b[0m         satir\u001b[38;5;241m=\u001b[39mindexno\u001b[38;5;241m/\u001b[39m\u001b[38;5;241m/\u001b[39m\u001b[38;5;241m3\u001b[39m\n\u001b[0;32m      7\u001b[0m         sutun\u001b[38;5;241m=\u001b[39mindexno\u001b[38;5;241m%\u001b[39m\u001b[38;5;241m32\u001b[39m\n\u001b[1;32m----> 8\u001b[0m         mx[satir][sutun]\u001b[38;5;241m=\u001b[39mverilensayi\n\u001b[0;32m      9\u001b[0m \u001b[38;5;28mprint\u001b[39m(mx)\n",
      "\u001b[1;31mIndexError\u001b[0m: list assignment index out of range"
     ]
    }
   ],
   "source": [
    "mx=[[0,1,2],[3,4,5],[6,7,8]]\n",
    "for i in range(len(mx)):\n",
    "    for x in range(len(mx[0])):\n",
    "        verilensayi=int(input())\n",
    "        indexno=int(input())\n",
    "        satir=indexno//3\n",
    "        sutun=indexno%32\n",
    "        mx[satir][sutun]=verilensayi\n",
    "print(mx)"
   ]
  },
  {
   "cell_type": "code",
   "execution_count": null,
   "id": "d6e5ffe6",
   "metadata": {},
   "outputs": [],
   "source": []
  }
 ],
 "metadata": {
  "kernelspec": {
   "display_name": "Python 3 (ipykernel)",
   "language": "python",
   "name": "python3"
  },
  "language_info": {
   "codemirror_mode": {
    "name": "ipython",
    "version": 3
   },
   "file_extension": ".py",
   "mimetype": "text/x-python",
   "name": "python",
   "nbconvert_exporter": "python",
   "pygments_lexer": "ipython3",
   "version": "3.9.12"
  }
 },
 "nbformat": 4,
 "nbformat_minor": 5
}
