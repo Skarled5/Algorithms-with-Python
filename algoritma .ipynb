{
 "cells": [
  {
   "cell_type": "markdown",
   "id": "cde2d3cb",
   "metadata": {},
   "source": [
    "girilen sayiyi tersine ceviren program"
   ]
  },
  {
   "cell_type": "code",
   "execution_count": 5,
   "id": "d9a143fe",
   "metadata": {},
   "outputs": [
    {
     "name": "stdout",
     "output_type": "stream",
     "text": [
      "sayi=221\n",
      "122\n"
     ]
    }
   ],
   "source": [
    "sayi = int(input('sayi='))\n",
    "a = sayi//100\n",
    "onluk = sayi - a*100\n",
    "b = onluk //10\n",
    "c = sayi - a*100 - b*10    \n",
    "yenisayi = c*100 + b*10 + a\n",
    "print(yenisayi)"
   ]
  },
  {
   "cell_type": "code",
   "execution_count": 4,
   "id": "2a6844e1",
   "metadata": {},
   "outputs": [
    {
     "name": "stdout",
     "output_type": "stream",
     "text": [
      "0    2\n",
      "1    4\n",
      "2    6\n",
      "3    8\n",
      "4    10\n",
      "5    12\n",
      "6    14\n",
      "7    16\n",
      "8    18\n",
      "9    20\n"
     ]
    }
   ],
   "source": [
    "y=2\n",
    "for x in range(10):\n",
    "    print(x,'  ',y)\n",
    "    y=y+2\n"
   ]
  },
  {
   "cell_type": "code",
   "execution_count": 4,
   "id": "647103ad",
   "metadata": {},
   "outputs": [
    {
     "name": "stdout",
     "output_type": "stream",
     "text": [
      "sayi gir:137\n",
      "rakamı gir:7\n",
      "[3, 1]\n"
     ]
    }
   ],
   "source": [
    "#Girilen sayının basamak değerlerinde k rakamı olmayanları listeleyen program?\n",
    "sayi=int(input(\"sayi gir:\"))\n",
    "k=int(input(\"rakamı gir:\"))\n",
    "basamak=0\n",
    "liste=[]\n",
    "while sayi>0:\n",
    "    basamak=sayi%10\n",
    "    if basamak==k:\n",
    "        pass\n",
    "    else:\n",
    "        liste.append(basamak)   \n",
    "    sayi=sayi//10\n",
    "    \n",
    "print(liste)\n",
    "    "
   ]
  },
  {
   "cell_type": "code",
   "execution_count": 2,
   "id": "1ee24235",
   "metadata": {},
   "outputs": [
    {
     "name": "stdout",
     "output_type": "stream",
     "text": [
      "0\n"
     ]
    }
   ],
   "source": [
    "sayi=0\n",
    "sayi=10//20\n",
    "print(sayi)"
   ]
  },
  {
   "cell_type": "code",
   "execution_count": 5,
   "id": "5c96735a",
   "metadata": {},
   "outputs": [
    {
     "name": "stdout",
     "output_type": "stream",
     "text": [
      "sayi:98\n",
      "72\n"
     ]
    }
   ],
   "source": [
    "#Girilen sayının basamak değerleri çarpımını bulunuz?\n",
    "sayi=int(input(\"sayi:\"))\n",
    "carp=1\n",
    "basamak=0\n",
    "while sayi>0:\n",
    "    basamak=sayi%10\n",
    "    carp*=basamak\n",
    "    sayi=sayi//10\n",
    "    \n",
    "print(carp)"
   ]
  },
  {
   "cell_type": "code",
   "execution_count": 6,
   "id": "713e94b8",
   "metadata": {},
   "outputs": [
    {
     "name": "stdout",
     "output_type": "stream",
     "text": [
      "n=20\n",
      "[1, 2, 3, 4, 5, 6, 7, 8, 9, 10, 12, 18, 20]\n"
     ]
    }
   ],
   "source": [
    "#N’e kadar ki Harshad (sayının kendisi rakamları toplamına bölünüyor) olanları listele?\n",
    "n = int(input(\"n=\"))\n",
    "saklama=0\n",
    "liste=[]\n",
    "for sayi in range(1,n+1):\n",
    "    top=0\n",
    "    basamak=0\n",
    "    saklama=sayi\n",
    "    while sayi>0:\n",
    "        basamak=sayi%10\n",
    "        top+=basamak\n",
    "        sayi=sayi//10\n",
    "        \n",
    "    if saklama%top==0:\n",
    "        liste.append(saklama)\n",
    "        \n",
    "print(liste)\n",
    "    \n",
    "    \n",
    "        "
   ]
  },
  {
   "cell_type": "code",
   "execution_count": 7,
   "id": "2231683a",
   "metadata": {},
   "outputs": [
    {
     "name": "stdout",
     "output_type": "stream",
     "text": [
      "metni giriniz:merhaba ben hakan\n",
      "[('m', 1), ('e', 2), ('r', 1), ('h', 2), ('a', 4), ('b', 2), ('a', 1), (' ', 2), ('b', 1), ('e', 1), ('n', 2), (' ', 1), ('h', 1), ('a', 1), ('k', 1), ('a', 1)]\n"
     ]
    }
   ],
   "source": [
    "#Girilen cümlede hangi harfin kaç defa tekrarlandığını bulan prog?\n",
    "metin=input(\"metni giriniz:\")\n",
    "bakildi=[]\n",
    "harfTekrarListesi=[]\n",
    "for i in range(len(metin)-1):\n",
    "    c=1\n",
    "    for j in range(i+1,len(metin)):\n",
    "        if metin[i]==metin[j] and metin[i] not in bakildi:\n",
    "            c+=1\n",
    "    harfTekrarListesi.append((metin[i],c))        \n",
    "    bakildi.append(metin[i])\n",
    "    \n",
    "print(harfTekrarListesi)"
   ]
  },
  {
   "cell_type": "code",
   "execution_count": 10,
   "id": "855c4257",
   "metadata": {},
   "outputs": [
    {
     "name": "stdout",
     "output_type": "stream",
     "text": [
      "yaziyi giriniz:deneme 123\n",
      "6\n"
     ]
    }
   ],
   "source": [
    "yazi=input(\"yaziyi giriniz:\")\n",
    "hs=0\n",
    "for i in yazi:\n",
    "    if 97<=ord(i)<=122 or 65<=ord(i)<=90:\n",
    "        hs+=1\n",
    "        \n",
    "print(hs)"
   ]
  },
  {
   "cell_type": "code",
   "execution_count": 4,
   "id": "34bbd04f",
   "metadata": {},
   "outputs": [
    {
     "name": "stdout",
     "output_type": "stream",
     "text": [
      "Cümle=merhaba\n",
      "3\n",
      "4\n"
     ]
    }
   ],
   "source": [
    "sesli = [\"a\",\"e\",\"i\",\"u\",\"ü\",\"ı\",\"o\",\"ö\"]\n",
    "cumle = input(\"Cümle=\")\n",
    "sk=0 \n",
    "szk=0 \n",
    "for k in cumle:\n",
    "     if ord(\"a\")<=ord(k)<=ord(\"z\"):\n",
    "        if k in sesli: \n",
    "            sk+=1\n",
    "        else:\n",
    "            szk+=1\n",
    "            \n",
    "print(sk)\n",
    "print(szk)"
   ]
  },
  {
   "cell_type": "code",
   "execution_count": 5,
   "id": "c0b823fb",
   "metadata": {},
   "outputs": [
    {
     "name": "stdout",
     "output_type": "stream",
     "text": [
      "          \n",
      "*        *\n",
      "**      **\n",
      "***    ***\n",
      "****  ****\n",
      "**********\n",
      "****  ****\n",
      "***    ***\n",
      "**      **\n",
      "*        *\n",
      "          \n"
     ]
    }
   ],
   "source": [
    "def kelebek_ciz():\n",
    "    m=12\n",
    "    for i in range(6):\n",
    "        m-=2\n",
    "        for j in range(i): # for i in range(6) 0 dan başlıcağı için başta yıldızı basmadan geçer sonra 1 olunca basar o zamanda m=8 olacağı için yıldızdan sonra 8 boşluk bırakabilir !!!\n",
    "            print(\"*\",end=\"\")\n",
    "        for k in range(m):\n",
    "            print(\" \",end=\"\")\n",
    "        for l in range(i):\n",
    "            print(\"*\",end=\"\")\n",
    "        print()\n",
    "    \n",
    "    p=0\n",
    "    for i in range(4,-1,-1):\n",
    "        p+=2\n",
    "        for k in range(i):\n",
    "            print(\"*\",end=\"\")\n",
    "        for j in range(p):\n",
    "            print(\" \",end=\"\")\n",
    "        for l in range(i):\n",
    "            print(\"*\",end=\"\")\n",
    "        print()\n",
    "\n",
    "kelebek_ciz()"
   ]
  },
  {
   "cell_type": "code",
   "execution_count": 37,
   "id": "0c0893c1",
   "metadata": {},
   "outputs": [
    {
     "name": "stdout",
     "output_type": "stream",
     "text": [
      " ************\n",
      "  **********\n",
      "   ********\n",
      "    ******\n",
      "     ****\n",
      "      **\n",
      "       \n"
     ]
    }
   ],
   "source": [
    "m=0\n",
    "for i in range(12,-1,-2):\n",
    "    m+=1\n",
    "    for k in range(m):\n",
    "        print(\" \",end=\"\")\n",
    "    for j in range(i):\n",
    "        print(\"*\",end=\"\")\n",
    "    print()     "
   ]
  },
  {
   "cell_type": "code",
   "execution_count": 38,
   "id": "b2305bd9",
   "metadata": {},
   "outputs": [
    {
     "name": "stdout",
     "output_type": "stream",
     "text": [
      "22\n"
     ]
    }
   ],
   "source": [
    "print(f\"{2}\"*2)"
   ]
  },
  {
   "cell_type": "code",
   "execution_count": 5,
   "id": "2cfa052a",
   "metadata": {},
   "outputs": [
    {
     "name": "stdout",
     "output_type": "stream",
     "text": [
      "1\n",
      "22\n",
      "333\n",
      "4444\n",
      "55555\n",
      "666666\n",
      "7777777\n",
      "88888888\n",
      "999999999\n",
      "10101010101010101010\n"
     ]
    }
   ],
   "source": [
    "for i in range(1,11):\n",
    "    for j in range(i):\n",
    "        print(i,end=\"\")\n",
    "    print()"
   ]
  },
  {
   "cell_type": "code",
   "execution_count": 10,
   "id": "08b24f17",
   "metadata": {},
   "outputs": [
    {
     "name": "stdout",
     "output_type": "stream",
     "text": [
      "1\n",
      "12\n",
      "123\n",
      "1234\n",
      "12345\n",
      "123456\n",
      "1234567\n",
      "12345678\n"
     ]
    }
   ],
   "source": [
    "for i in range(2,10):\n",
    "    for j in range(1,i):\n",
    "        print(j,end=\"\")\n",
    "    print()\n",
    "        "
   ]
  },
  {
   "cell_type": "code",
   "execution_count": 15,
   "id": "129ee6e6",
   "metadata": {},
   "outputs": [
    {
     "name": "stdout",
     "output_type": "stream",
     "text": [
      "999999999\n",
      "88888888\n",
      "7777777\n",
      "666666\n",
      "55555\n",
      "4444\n",
      "333\n",
      "22\n",
      "1\n",
      "\n",
      "1\n",
      "22\n",
      "333\n",
      "4444\n",
      "55555\n",
      "666666\n",
      "7777777\n",
      "88888888\n",
      "999999999\n"
     ]
    }
   ],
   "source": [
    "for i in range(9,-1,-1):\n",
    "    for j in range(i):\n",
    "        print(i,end=\"\")\n",
    "    print()\n",
    "\n",
    "for i in range(1,10):\n",
    "    for j in range(i):\n",
    "        print(i,end=\"\")\n",
    "    print()\n",
    "    "
   ]
  },
  {
   "cell_type": "code",
   "execution_count": 4,
   "id": "520d84b2",
   "metadata": {},
   "outputs": [
    {
     "name": "stdout",
     "output_type": "stream",
     "text": [
      "1\n",
      "23\n",
      "456\n",
      "78910\n"
     ]
    }
   ],
   "source": [
    "sayac=1\n",
    "for i in range(1,5):\n",
    "    for j in range(i):\n",
    "        print(sayac,end=\"\")\n",
    "        sayac+=1\n",
    "    print()"
   ]
  },
  {
   "cell_type": "code",
   "execution_count": 5,
   "id": "6a84e514",
   "metadata": {},
   "outputs": [
    {
     "name": "stdout",
     "output_type": "stream",
     "text": [
      "12345678910\n",
      "11121314151617181920\n",
      "21222324252627282930\n",
      "31323334353637383940\n",
      "41424344454647484950\n",
      "51525354555657585960\n",
      "61626364656667686970\n",
      "71727374757677787980\n",
      "81828384858687888990\n",
      "919293949596979899100\n"
     ]
    }
   ],
   "source": [
    "sayac=1\n",
    "for i in range(10):\n",
    "    for j in range(10):\n",
    "        print(sayac,end=\"\")\n",
    "        sayac+=1\n",
    "    print()"
   ]
  },
  {
   "cell_type": "code",
   "execution_count": 7,
   "id": "1c3ed0ba",
   "metadata": {},
   "outputs": [
    {
     "name": "stdout",
     "output_type": "stream",
     "text": [
      "\n",
      "1\n",
      "12\n",
      "123\n",
      "1234\n",
      "12345\n",
      "123456\n",
      "1234567\n",
      "12345678\n"
     ]
    }
   ],
   "source": [
    "for i in range(1,10):\n",
    "    for j in range(1,i):\n",
    "        print(j,end=\"\")\n",
    "    print()"
   ]
  },
  {
   "cell_type": "code",
   "execution_count": 8,
   "id": "6faf68aa",
   "metadata": {},
   "outputs": [
    {
     "name": "stdout",
     "output_type": "stream",
     "text": [
      "*****\n",
      "*****\n",
      "*****\n",
      "*****\n",
      "*****\n"
     ]
    }
   ],
   "source": [
    "for i in range(5):\n",
    "    for j in range(5):\n",
    "        print(\"*\",end=\"\")\n",
    "    print()"
   ]
  },
  {
   "cell_type": "code",
   "execution_count": 16,
   "id": "5c3b3a35",
   "metadata": {},
   "outputs": [
    {
     "name": "stdout",
     "output_type": "stream",
     "text": [
      " ************\n",
      "  **********\n",
      "   ********\n",
      "    ******\n",
      "     ****\n",
      "      **\n",
      "       \n",
      "     **\n",
      "    ****\n",
      "   ******\n",
      "  ********\n",
      " **********\n",
      "************\n"
     ]
    }
   ],
   "source": [
    "m=0\n",
    "for i in range(12,-1,-2):\n",
    "    m+=1\n",
    "    for k in range(m):\n",
    "        print(\" \",end=\"\")\n",
    "    for j in range(i):\n",
    "        print(\"*\",end=\"\")\n",
    "    print() \n",
    "    \n",
    "k=12//2\n",
    "for t in range(2,13,2):\n",
    "    k-=1\n",
    "    for s in range(k):\n",
    "        print(\" \",end=\"\")\n",
    "    for l in range(t):\n",
    "        print(\"*\",end=\"\")\n",
    "    print()"
   ]
  },
  {
   "cell_type": "code",
   "execution_count": 14,
   "id": "d2abd824",
   "metadata": {},
   "outputs": [
    {
     "name": "stdout",
     "output_type": "stream",
     "text": [
      "sayiyi giriniz:6\n",
      "          \n",
      "*        *\n",
      "**      **\n",
      "***    ***\n",
      "****  ****\n",
      "**********\n",
      "*****  *****\n",
      "****    ****\n",
      "***      ***\n",
      "**        **\n",
      "*          *\n",
      "            \n"
     ]
    }
   ],
   "source": [
    "s=int(input(\"sayiyi giriniz:\"))\n",
    "m=2*s\n",
    "for i in range(s):\n",
    "    m-=2\n",
    "    for j in range(i):\n",
    "        print(\"*\",end=\"\")\n",
    "    for k in range(m):\n",
    "        print(\" \",end=\"\")\n",
    "    for l in range(i):\n",
    "        print(\"*\",end=\"\")\n",
    "    print()\n",
    "    \n",
    "p=0\n",
    "for i in range(s-1,-1,-1):\n",
    "    p+=2\n",
    "    for j in range(i):\n",
    "        print(\"*\",end=\"\")\n",
    "    for k in range(p):\n",
    "        print(\" \",end=\"\")\n",
    "    for l in range(i):\n",
    "        print(\"*\",end=\"\")\n",
    "    print()\n",
    "    "
   ]
  },
  {
   "cell_type": "code",
   "execution_count": 3,
   "id": "114911a0",
   "metadata": {},
   "outputs": [
    {
     "name": "stdout",
     "output_type": "stream",
     "text": [
      "**********\n",
      "****  ****\n",
      "***    ***\n",
      "**      **\n",
      "*        *\n",
      "          \n",
      "**      **\n",
      "***    ***\n",
      "****  ****\n",
      "**********\n"
     ]
    }
   ],
   "source": [
    "m=-2\n",
    "for i in range(5,-1,-1):\n",
    "    m+=2\n",
    "    for j in range(i):\n",
    "        print(\"*\",end=\"\")\n",
    "    for k in range(m):\n",
    "        print(\" \",end=\"\")\n",
    "    for l in range(i):\n",
    "        print(\"*\",end=\"\")\n",
    "    print()\n",
    "p=8\n",
    "for i in range(2,6,1):\n",
    "    p-=2\n",
    "    for j in range(i):\n",
    "        print(\"*\",end=\"\")\n",
    "    for k in range(p):\n",
    "        print(\" \",end=\"\")\n",
    "    for l in range(i):\n",
    "        print(\"*\",end=\"\")\n",
    "    print()\n",
    "    \n",
    "# bu tarz soruların mantığı yıldızı basıp yıldıztan sonra boşluk sayısı olur mesela **123456** \n",
    "#  bu sorudada mesela 2 yıldız basılan yerde bu yöntem uygulanmıştır"
   ]
  },
  {
   "cell_type": "code",
   "execution_count": 7,
   "id": "286ab582",
   "metadata": {},
   "outputs": [
    {
     "name": "stdout",
     "output_type": "stream",
     "text": [
      "[[1, 5], [2, 6], [3, 7], [4, 8]]\n",
      "[10, 26]\n",
      "[6, 8, 10, 12]\n"
     ]
    }
   ],
   "source": [
    "matris=[[1,2,3,4],[5,6,7,8]]\n",
    "satir_T=0\n",
    "sutun_T=0\n",
    "satir=[]\n",
    "sutun=[]\n",
    "\n",
    "for i in range(len(matris)):\n",
    "    transpoze_satir=[]\n",
    "    for j in range(len(matris[0])):\n",
    "        satir_T+=matris[i][j]\n",
    "    satir.append(satir_T)\n",
    "    satir_T=0\n",
    "        \n",
    "transpoze=[]    \n",
    "for i in range(len(matris[0])):\n",
    "    transpoze_satir=[]\n",
    "    for j in range(len(matris)):\n",
    "        transpoze_satir.append(matris[j][i])\n",
    "    transpoze.append(transpoze_satir) \n",
    "    \n",
    "for i in range(len(transpoze)):\n",
    "    for j in range(len(transpoze[0])):\n",
    "        sutun_T+=transpoze[i][j]\n",
    "    sutun.append(sutun_T)\n",
    "    sutun_T=0\n",
    "\n",
    "print(transpoze)\n",
    "print(satir)\n",
    "print(sutun)    "
   ]
  },
  {
   "cell_type": "code",
   "execution_count": 9,
   "id": "dba4d0c0",
   "metadata": {},
   "outputs": [
    {
     "name": "stdout",
     "output_type": "stream",
     "text": [
      "matrise eklenecek sayilar:1\n",
      "matrise eklenecek sayilar:2\n",
      "matrise eklenecek sayilar:3\n",
      "matrise eklenecek sayilar:4\n",
      "matrise eklenecek sayilar:5\n",
      "matrise eklenecek sayilar:6\n",
      "matrise eklenecek sayilar:7\n",
      "matrise eklenecek sayilar:8\n",
      "matrise eklenecek sayilar:9\n",
      "matrise eklenecek sayilar:10\n",
      "matrise eklenecek sayilar:11\n",
      "matrise eklenecek sayilar:12\n",
      "[[1, 2, 3], [4, 5, 6], [7, 8, 9], [10, 11, 12]]\n"
     ]
    }
   ],
   "source": [
    "matrisim=[]\n",
    "for i in range(4):\n",
    "    matrisim_satiri=[]\n",
    "    for j in range(3):\n",
    "        k=int(input(\"matrise eklenecek sayilar:\"))\n",
    "        matrisim_satiri.append(k)\n",
    "    matrisim.append(matrisim_satiri)\n",
    "    \n",
    "print(matrisim)"
   ]
  },
  {
   "cell_type": "code",
   "execution_count": 2,
   "id": "7e501a92",
   "metadata": {},
   "outputs": [
    {
     "name": "stdout",
     "output_type": "stream",
     "text": [
      "sayi giriniz1\n",
      "sayi giriniz3\n",
      "sayi giriniz5\n",
      "sayi giriniz6\n",
      "sayi giriniz2\n",
      "sayi giriniz1\n",
      "sayi giriniz3\n",
      "sayi giriniz4\n",
      "sayi giriniz5\n",
      "sayi giriniz2\n",
      "sayi giriniz8\n",
      "sayi giriniz12\n",
      "sayi giriniz4\n",
      "sayi giriniz11\n",
      "sayi giriniz13\n",
      "[[1, 3, 5, 6, 2], [1, 3, 4, 5, 2], [8, 12, 4, 11, 13]]\n"
     ]
    }
   ],
   "source": [
    "m=5\n",
    "n=3\n",
    "matris_olustur = [[0 for i in range(m)] for j in range(n)]\n",
    "for k in range(len(matris_olustur)):\n",
    "    for p in range(len(matris_olustur[0])):\n",
    "        sayi=int(input(\"sayi giriniz\"))\n",
    "        matris_olustur[k][p]=sayi\n",
    "\n",
    "print(matris_olustur)"
   ]
  },
  {
   "cell_type": "code",
   "execution_count": 9,
   "id": "9c0c0628",
   "metadata": {},
   "outputs": [
    {
     "name": "stdout",
     "output_type": "stream",
     "text": [
      "Çarpım Matrisi:\n",
      "[-7, 11]\n",
      "[33, 17]\n"
     ]
    }
   ],
   "source": [
    "# 2 farklı matrisi çarpma\n",
    "# ilk matrisin sütün sayısı ile = ikinci matrisin satır sayısı\n",
    "a = [[1, 2, -1],\n",
    "     [3, 1, 4]]\n",
    "\n",
    "b = [[2, 1],\n",
    "     [-1, 6],\n",
    "     [7, 2]]\n",
    "\n",
    "if len(a[0]) != len(b):\n",
    "    print(\"Matrisler çarpılamaz!\")\n",
    "else:\n",
    "    carpim_matris = []\n",
    "\n",
    "    for i in range(len(a)):\n",
    "        carpim_satir = []\n",
    "        for j in range(len(b[0])):\n",
    "            carpim = 0\n",
    "            for k in range(len(a[0])):\n",
    "                carpim += a[i][k] * b[k][j]\n",
    "            carpim_satir.append(carpim)\n",
    "        carpim_matris.append(carpim_satir)\n",
    "\n",
    "    print(\"Çarpım Matrisi:\")\n",
    "    for row in carpim_matris:\n",
    "        print(row)\n",
    "\n",
    "        \n",
    "# iç içe 3 döngü ile çözdük !!!        "
   ]
  },
  {
   "cell_type": "code",
   "execution_count": 1,
   "id": "492e3bba",
   "metadata": {},
   "outputs": [
    {
     "name": "stdout",
     "output_type": "stream",
     "text": [
      "[[-7, 11], [33, 17]]\n"
     ]
    }
   ],
   "source": [
    "a = [[1, 2, -1],\n",
    "     [3, 1, 4]]\n",
    "\n",
    "b = [[2, 1],\n",
    "     [-1, 6],\n",
    "     [7, 2]]\n",
    "\n",
    "if len(a[0])!=len(b):\n",
    "    print(\"Matrisler Çarpilamaz\")\n",
    "else:\n",
    "    carpim_matris=[]\n",
    "    \n",
    "    for i in range(len(a)):\n",
    "        carpim_satir=[]\n",
    "        for j in range(len(b[0])):\n",
    "            carpim=0\n",
    "            for k in range(len(a[0])):\n",
    "                carpim+=a[i][k]*b[k][j]\n",
    "            carpim_satir.append(carpim)\n",
    "        carpim_matris.append(carpim_satir)\n",
    "        \n",
    "print(carpim_matris)"
   ]
  },
  {
   "cell_type": "code",
   "execution_count": 4,
   "id": "7b60856f",
   "metadata": {},
   "outputs": [
    {
     "name": "stdout",
     "output_type": "stream",
     "text": [
      "[[-7, 11], [33, 17]]\n"
     ]
    }
   ],
   "source": [
    "a = [[1, 2, -1],\n",
    "     [3, 1, 4]]\n",
    "\n",
    "b = [[2, 1],\n",
    "     [-1, 6],\n",
    "     [7, 2]]\n",
    "\n",
    "if len(a[0])!=len(b):\n",
    "    print(\"matrisler çarpılamaz\")\n",
    "else:\n",
    "    carpim_matris = [[0 for i in range(len(b[0]))] for j in range(len(a))]\n",
    "    for k in range(len(a)):\n",
    "        for m in range(len(b[0])):\n",
    "            for s in range(len(a[0])):\n",
    "                carpim_matris[k][m]+=a[k][s]*b[s][m]\n",
    "\n",
    "print(carpim_matris)\n",
    "\n",
    "# BUDA 2 MATRİS CARPIMINDA BAŞKA BİR ÇÖZÜM YOLU !!!"
   ]
  },
  {
   "cell_type": "code",
   "execution_count": 6,
   "id": "bed266b9",
   "metadata": {},
   "outputs": [
    {
     "name": "stdout",
     "output_type": "stream",
     "text": [
      "[[6, 10], [7, 11], [8, 12]]\n"
     ]
    }
   ],
   "source": [
    "matris = [[6,7,8],[10,11,12]]\n",
    "transpoze=[]\n",
    "for i in range(len(matris[0])):\n",
    "    transpoze_satir=[]\n",
    "    for j in range(len(matris)):\n",
    "        transpoze_satir.append(matris[j][i])\n",
    "    transpoze.append(transpoze_satir)\n",
    "print(transpoze)\n",
    "        "
   ]
  },
  {
   "cell_type": "code",
   "execution_count": 3,
   "id": "6a67492c",
   "metadata": {},
   "outputs": [
    {
     "name": "stdout",
     "output_type": "stream",
     "text": [
      "[10, 1, 2, 3, 4, 5, 6, 7, 8, 9]\n",
      "[9, 10, 1, 2, 3, 4, 5, 6, 7, 8]\n",
      "[8, 9, 10, 1, 2, 3, 4, 5, 6, 7]\n",
      "[7, 8, 9, 10, 1, 2, 3, 4, 5, 6]\n",
      "[6, 7, 8, 9, 10, 1, 2, 3, 4, 5]\n"
     ]
    }
   ],
   "source": [
    "liste = [1, 2, 3, 4, 5, 6, 7, 8, 9, 10]\n",
    "k = 5\n",
    "for i in range(k):\n",
    "    new_list = liste[-1:] + liste[:-1]\n",
    "    liste = new_list\n",
    "    print(liste)"
   ]
  },
  {
   "cell_type": "code",
   "execution_count": 6,
   "id": "9570b39e",
   "metadata": {},
   "outputs": [
    {
     "name": "stdout",
     "output_type": "stream",
     "text": [
      "9\n",
      "3\n"
     ]
    }
   ],
   "source": [
    "i = 2\n",
    "i **= 3\n",
    "print(i + 2 // 2)\n",
    "print(i%5)"
   ]
  },
  {
   "cell_type": "code",
   "execution_count": 3,
   "id": "1ac34b2d",
   "metadata": {},
   "outputs": [
    {
     "name": "stdout",
     "output_type": "stream",
     "text": [
      "saati gir:14\n",
      "dakikayı gir:20\n",
      "14 20 geçiyor\n"
     ]
    }
   ],
   "source": [
    "saat=int(input(\"saati gir:\"))\n",
    "dakika=int(input(\"dakikayı gir:\"))\n",
    "if dakika==15:\n",
    "    print(f\"{saat} çeyrek geçiyor\")\n",
    "elif dakika==30:\n",
    "    print(f\"{saat} buçuk geçiyor\")\n",
    "elif dakika<30:\n",
    "    print(f\"{saat} {dakika} geçiyor\")\n",
    "elif dakika == 45:\n",
    "    if saat == 23:\n",
    "        print(f\"Saat 00'a çeyrek var\")\n",
    "    else:\n",
    "        print(f\"Saat {saat+1} çeyrek var\")\n",
    "elif dakika > 30 and dakika < 60:\n",
    "    if saat == 23:\n",
    "        print(f\"Saat 00'a {60-dakika} var\")\n",
    "    else:\n",
    "        print(f\"Saat {saat+1}'ya {60-dakika} var\")\n"
   ]
  },
  {
   "cell_type": "code",
   "execution_count": 3,
   "id": "320190ed",
   "metadata": {},
   "outputs": [
    {
     "name": "stdout",
     "output_type": "stream",
     "text": [
      "[['3 tekrar sayisi 2 tanedir'], ['1 tekrar sayisi 0 tanedir'], ['2 tekrar sayisi 1 tanedir'], ['5 tekrar sayisi 0 tanedir'], ['6 tekrar sayisi 0 tanedir'], ['7 tekrar sayisi 1 tanedir'], ['0 tekrar sayisi 0 tanedir'], ['4 tekrar sayisi 1 tanedir'], ['8 tekrar sayisi 0 tanedir'], ['9 tekrar sayisi 0 tanedir']]\n"
     ]
    }
   ],
   "source": [
    "# Her elemanın tekrar sayısını bulan program?\n",
    "x = [3, 1, 2, 3, 5, 3, 6, 7, 0, 2, 4, 7, 8, 9, 4]\n",
    "eleman_tekrari=[]\n",
    "bakılı=[]\n",
    "for i in range(len(x)-1):\n",
    "    c=0\n",
    "    for j in range(i+1,len(x)):\n",
    "        if x[i]==x[j] and x[i] not in bakılı:\n",
    "            c+=1\n",
    "            \n",
    "    if x[i] not in bakılı:\n",
    "        eleman_tekrari.append([f\"{x[i]} tekrar sayisi {c} tanedir\"])\n",
    "        \n",
    "    bakılı.append(x[i])\n",
    "    \n",
    "print(eleman_tekrari)"
   ]
  },
  {
   "cell_type": "code",
   "execution_count": 1,
   "id": "5ff40937",
   "metadata": {},
   "outputs": [
    {
     "name": "stdout",
     "output_type": "stream",
     "text": [
      "65\n"
     ]
    }
   ],
   "source": [
    "print(ord(\"A\"))"
   ]
  },
  {
   "cell_type": "code",
   "execution_count": 2,
   "id": "19c32552",
   "metadata": {},
   "outputs": [
    {
     "name": "stdout",
     "output_type": "stream",
     "text": [
      "2\n"
     ]
    }
   ],
   "source": [
    "a=2\n",
    "def globalveyerel():\n",
    "    print(a)\n",
    "globalveyerel()"
   ]
  },
  {
   "cell_type": "code",
   "execution_count": 5,
   "id": "195ede2b",
   "metadata": {},
   "outputs": [
    {
     "name": "stdout",
     "output_type": "stream",
     "text": [
      "5\n",
      "2\n"
     ]
    }
   ],
   "source": [
    "a=2\n",
    "def globalveyerel():\n",
    "    a=5\n",
    "    print(a)\n",
    "globalveyerel()\n",
    "print(a)"
   ]
  },
  {
   "cell_type": "code",
   "execution_count": 6,
   "id": "4f04a967",
   "metadata": {},
   "outputs": [
    {
     "name": "stdout",
     "output_type": "stream",
     "text": [
      "2\n",
      "2\n"
     ]
    }
   ],
   "source": [
    "def globalveyerel():\n",
    "    a=2\n",
    "    print(a)\n",
    "globalveyerel()\n",
    "print(a)"
   ]
  },
  {
   "cell_type": "code",
   "execution_count": 13,
   "id": "2bc31e31",
   "metadata": {},
   "outputs": [
    {
     "name": "stdout",
     "output_type": "stream",
     "text": [
      "   *\n",
      "  * *\n",
      " *   *\n",
      "*     *\n"
     ]
    }
   ],
   "source": [
    "m=4\n",
    "p=-3\n",
    "while True:\n",
    "    i=1\n",
    "    m-=1\n",
    "    p+=2\n",
    "    for j in range(m):\n",
    "        print(\" \",end=\"\")\n",
    "    for k in range(i):\n",
    "        print(\"*\",end=\"\")\n",
    "    for l in range(p):\n",
    "        print(\" \",end=\"\")\n",
    "    if m!=3:\n",
    "        for t in range(i):\n",
    "            print(\"*\",end=\"\")\n",
    "        \n",
    "    print()\n",
    "    \n",
    "    if m==0:\n",
    "        break\n",
    "        \n",
    "    "
   ]
  },
  {
   "cell_type": "code",
   "execution_count": 1,
   "id": "8ec0988a",
   "metadata": {},
   "outputs": [
    {
     "name": "stdout",
     "output_type": "stream",
     "text": [
      "[[6, 10], [7, 11], [8, 12]]\n"
     ]
    }
   ],
   "source": [
    "# Aslinda Yukarlardada Transpoze Yaptım Ama Kendimi Birdaha Denedim :D\n",
    "matris = [[6,7,8],[10,11,12]]\n",
    "transpoze=[]\n",
    "for i in range(len(matris[0])):\n",
    "    transpoze_satir=[]\n",
    "    for j in range(len(matris)):\n",
    "        transpoze_satir.append(matris[j][i])\n",
    "    transpoze.append(transpoze_satir)\n",
    "print(transpoze)"
   ]
  },
  {
   "cell_type": "code",
   "execution_count": 2,
   "id": "e20ee6df",
   "metadata": {},
   "outputs": [
    {
     "name": "stdout",
     "output_type": "stream",
     "text": [
      "Matrisin boyutunu belirleyin (N değeri): 3\n",
      "[1, 2, 3]\n",
      "[4, 5, 6]\n",
      "[7, 8, 9]\n"
     ]
    }
   ],
   "source": [
    "def matrisOlustur(N):\n",
    "    matris = [[0 for _ in range(N)] for _ in range(N)]\n",
    "    sayac = 1\n",
    "    \n",
    "    for i in range(N):\n",
    "        for j in range(N):\n",
    "            matris[i][j] = sayac\n",
    "            sayac += 1\n",
    "    \n",
    "    return matris\n",
    "\n",
    "N_degeri = int(input(\"Matrisin boyutunu belirleyin (N değeri): \"))\n",
    "matris = matrisOlustur(N_degeri)\n",
    "\n",
    "for row in matris:\n",
    "    print(row)"
   ]
  },
  {
   "cell_type": "code",
   "execution_count": 3,
   "id": "69291dd2",
   "metadata": {},
   "outputs": [
    {
     "name": "stdout",
     "output_type": "stream",
     "text": [
      "a:a\n",
      "sb\n",
      "d2003\n",
      "1\n",
      "[{'ad': 'a', 'soyad': 'b', 'dogum_tarihi': 2003}]\n"
     ]
    }
   ],
   "source": [
    "ogrenci_dizisi = []\n",
    "ad=input(\"a:\")\n",
    "soyad=input(\"s\")\n",
    "dogum_tarihi=int(input(\"d\"))\n",
    "ogrenci_dizisi.append({\"ad\": ad, \"soyad\": soyad, \"dogum_tarihi\": dogum_tarihi})\n",
    "print(len(ogrenci_dizisi))\n",
    "print(ogrenci_dizisi)"
   ]
  },
  {
   "cell_type": "code",
   "execution_count": 8,
   "id": "5102addc",
   "metadata": {},
   "outputs": [
    {
     "name": "stdout",
     "output_type": "stream",
     "text": [
      "sayiyi gir veya s basarak çık:1\n",
      "sayiyi gir veya s basarak çık:5\n",
      "sayiyi gir veya s basarak çık:4\n",
      "sayiyi gir veya s basarak çık:s\n",
      "451\n"
     ]
    }
   ],
   "source": [
    "c=0\n",
    "onlukSayi=0\n",
    "while True:\n",
    "    sayi=input(\"sayiyi gir veya s basarak çık:\")\n",
    "    if sayi==\"s\":\n",
    "        break\n",
    "        \n",
    "    onlukSayi+=(int(sayi)*(10**c))\n",
    "    c+=1\n",
    "        \n",
    "print(onlukSayi)"
   ]
  },
  {
   "cell_type": "code",
   "execution_count": 6,
   "id": "b79a3ca4",
   "metadata": {},
   "outputs": [
    {
     "name": "stdout",
     "output_type": "stream",
     "text": [
      "4\n",
      "1\n",
      "-6\n",
      "1\n",
      "10\n"
     ]
    }
   ],
   "source": [
    "i = 0\n",
    "i += 3\n",
    "print(i+1)\n",
    "i = i // 2\n",
    "i = i ** 2\n",
    "print(i)   \n",
    "\n",
    "def fonksiyon_1(i):\n",
    "    i -= 1 + i * 2\n",
    "    print(i)\n",
    "\n",
    "def fonksiyon_2():\n",
    "    global i\n",
    "    print(i)\n",
    "    i = i + 5 % 2\n",
    "\n",
    "fonksiyon_1(5)\n",
    "fonksiyon_2()\n",
    "i = i * 5\n",
    "print(i)"
   ]
  },
  {
   "cell_type": "code",
   "execution_count": 8,
   "id": "0ad3132a",
   "metadata": {},
   "outputs": [
    {
     "name": "stdout",
     "output_type": "stream",
     "text": [
      "Merhaba Kuru Kahveci\n"
     ]
    }
   ],
   "source": [
    "ad=\"Mehmet Efendi\"\n",
    "def globalDeneme():\n",
    "    ad=\"Kuru Kahveci\"\n",
    "    def globalDeneme1():\n",
    "        print(f\"Merhaba {ad}\")\n",
    "    globalDeneme1()\n",
    "    \n",
    "globalDeneme()"
   ]
  },
  {
   "cell_type": "code",
   "execution_count": 13,
   "id": "bf9ea5e0",
   "metadata": {},
   "outputs": [
    {
     "name": "stdout",
     "output_type": "stream",
     "text": [
      "TestoTaylan\n",
      "Merhaba YakupTV\n"
     ]
    }
   ],
   "source": [
    "ad = \"YakupTV\"\n",
    "def deneme():\n",
    "    ad=\"TestoTaylan\"\n",
    "    print(ad)\n",
    "def deneme1():\n",
    "    print(f\"Merhaba {ad}\")\n",
    "\n",
    "deneme()\n",
    "deneme1()"
   ]
  },
  {
   "cell_type": "code",
   "execution_count": 12,
   "id": "4a2e478b",
   "metadata": {},
   "outputs": [
    {
     "name": "stdout",
     "output_type": "stream",
     "text": [
      "Bu bir yerel değişken\n"
     ]
    }
   ],
   "source": [
    "def fonksiyon():\n",
    "    yerel_degisken = \"Bu bir yerel değişken\"\n",
    "    print(yerel_degisken)\n",
    "\n",
    "fonksiyon()\n",
    "print(yerel_degisken) # # Bu satır hata verecektir çünkü yerel_degisken global alanda tanımlanmamıştır."
   ]
  },
  {
   "cell_type": "code",
   "execution_count": 17,
   "id": "0b825303",
   "metadata": {},
   "outputs": [
    {
     "name": "stdout",
     "output_type": "stream",
     "text": [
      "TestoTaylan\n",
      "Merhaba HüseyinAktepe\n",
      "HüseyinAktepe\n"
     ]
    }
   ],
   "source": [
    "ad = \"YakupTV\"\n",
    "def deneme():\n",
    "    ad=\"TestoTaylan\"\n",
    "    print(ad)\n",
    "def deneme1():\n",
    "    global ad\n",
    "    ad=\"HüseyinAktepe\"\n",
    "    print(f\"Merhaba {ad}\")\n",
    "def deneme2():\n",
    "    print(ad) # HüseyinAktepe global oldu\n",
    "\n",
    "deneme()\n",
    "deneme1()\n",
    "deneme2()"
   ]
  },
  {
   "cell_type": "code",
   "execution_count": 23,
   "id": "74270d89",
   "metadata": {},
   "outputs": [
    {
     "name": "stdout",
     "output_type": "stream",
     "text": [
      "local olarak değiştirilmiş ['YakupTV', 'TestoTaylan', 'ErenKarayılan']\n",
      "['YakupTV', 'YakışıklıGüvenlik', 'HüseyinAktepe']\n"
     ]
    }
   ],
   "source": [
    "liste=[\"YakupTV\",\"YakışıklıGüvenlik\",\"HüseyinAktepe\"]\n",
    "def unlulerKarmasi(liste):\n",
    "    liste=[\"YakupTV\",\"TestoTaylan\",\"ErenKarayılan\"] # Bu yerel değişiklik global liste değişkenini etkilemez.\n",
    "    print(f\"local olarak değiştirilmiş {liste}\")\n",
    "unlulerKarmasi([\"YakupTV\",\"YakışıklıGüvenlik\",\"HüseyinAktepe\"])\n",
    "print(liste)"
   ]
  },
  {
   "cell_type": "code",
   "execution_count": 4,
   "id": "39a870c9",
   "metadata": {},
   "outputs": [
    {
     "name": "stdout",
     "output_type": "stream",
     "text": [
      "buradaki \n"
     ]
    }
   ],
   "source": [
    "yazi=\"ben buradaki yazıda koypyalama yapacağım\"\n",
    "k=4\n",
    "r=13\n",
    "i=0\n",
    "j=0\n",
    "copy=0\n",
    "while True:\n",
    "    i+=1\n",
    "    if i==k:\n",
    "        j=k\n",
    "    if i==r:\n",
    "        copy=yazi[j:i]\n",
    "        break\n",
    "        \n",
    "print(copy)\n",
    "    "
   ]
  },
  {
   "cell_type": "code",
   "execution_count": 5,
   "id": "98360946",
   "metadata": {},
   "outputs": [
    {
     "name": "stdout",
     "output_type": "stream",
     "text": [
      "Lütfen bir metin girin: merhaba ben hakan\n",
      "Lütfen aramak istediğiniz kelimeyi girin: hakan\n",
      "Tırnak eklenmiş hali: merhaba ben 'hakan'\n"
     ]
    }
   ],
   "source": [
    "girilen_yazi = input(\"Lütfen bir metin girin: \")\n",
    "aranan_kelime = input(\"Lütfen aramak istediğiniz kelimeyi girin: \")\n",
    "\n",
    "kelime_uzunlugu = len(aranan_kelime)\n",
    "\n",
    "konum = -1\n",
    "for i in range(len(girilen_yazi) - kelime_uzunlugu + 1):\n",
    "    if girilen_yazi[i:i + kelime_uzunlugu] == aranan_kelime:\n",
    "        konum = i\n",
    "        break\n",
    "\n",
    "if konum != -1:  # Kelime bulunduysa\n",
    "    yeni_yazi = girilen_yazi[:konum] + \"'\" + aranan_kelime + \"'\" + girilen_yazi[konum:kelime_uzunlugu]\n",
    "    print(\"Tırnak eklenmiş hali:\", yeni_yazi)\n",
    "else:\n",
    "    print(\"Kelime metin içinde bulunamadı.\")"
   ]
  },
  {
   "cell_type": "code",
   "execution_count": 1,
   "id": "ebb05fe6",
   "metadata": {},
   "outputs": [
    {
     "name": "stdout",
     "output_type": "stream",
     "text": [
      "sayiyi gir:573\n",
      "375\n"
     ]
    }
   ],
   "source": [
    "sayi=int(input(\"sayiyi gir:\"))\n",
    "birler=sayi%10\n",
    "sayi=sayi//10\n",
    "onlar=sayi%10\n",
    "sayi=sayi//10\n",
    "yüzler=sayi%10\n",
    "yeniSayi=str(birler)+str(onlar)+str(yüzler)\n",
    "yeniSayi=int(yeniSayi)\n",
    "print(yeniSayi)"
   ]
  },
  {
   "cell_type": "code",
   "execution_count": 3,
   "id": "7eb74786",
   "metadata": {},
   "outputs": [
    {
     "name": "stdout",
     "output_type": "stream",
     "text": [
      "N:5\n",
      "Faktöriyel= 120\n"
     ]
    }
   ],
   "source": [
    "fak = 1\n",
    "N = int(input(\"N:\"))\n",
    "for a in range(N,0,-1):\n",
    "       fak = fak * a\n",
    "print(\"Faktöriyel=\",fak)\n"
   ]
  },
  {
   "cell_type": "code",
   "execution_count": 3,
   "id": "3317f267",
   "metadata": {},
   "outputs": [
    {
     "name": "stdout",
     "output_type": "stream",
     "text": [
      "fibonnaci dizisi için:8\n",
      "[0, 1, 1, 2, 3, 5, 8]\n"
     ]
    }
   ],
   "source": [
    "n=int(input(\"fibonnaci dizisi için:\"))\n",
    "a=0\n",
    "b=1\n",
    "liste=[]\n",
    "liste.append(a)\n",
    "liste.append(b)\n",
    "tutucu=0\n",
    "j=0\n",
    "for i in range(1,n-2):\n",
    "    tutucu=liste[j]+liste[i]\n",
    "    liste.append(tutucu)\n",
    "    j+=1\n",
    "\n",
    "print(liste)\n",
    "    \n",
    "    "
   ]
  },
  {
   "cell_type": "code",
   "execution_count": 6,
   "id": "40d8a8cb",
   "metadata": {},
   "outputs": [
    {
     "name": "stdout",
     "output_type": "stream",
     "text": [
      "i:1\n",
      "tp:5\n",
      "art:1\n",
      "15\n"
     ]
    }
   ],
   "source": [
    "ilk=int(input(\"i:\"))\n",
    "tpEl=int(input(\"tp:\"))\n",
    "artis=int(input(\"art:\"))\n",
    "c=ilk\n",
    "toplam=ilk\n",
    "for i in range(tpEl-1):\n",
    "    c=c+artis\n",
    "    toplam+=c\n",
    "print(toplam)"
   ]
  },
  {
   "cell_type": "code",
   "execution_count": 12,
   "id": "44433012",
   "metadata": {},
   "outputs": [
    {
     "name": "stdout",
     "output_type": "stream",
     "text": [
      "sayiyi gir:132\n",
      "6\n",
      "3\n",
      "[2, 3, 1]\n"
     ]
    }
   ],
   "source": [
    "sayi=int(input(\"sayiyi gir:\"))\n",
    "carpim=1\n",
    "c=0\n",
    "k=4\n",
    "liste=[]\n",
    "while sayi>0:\n",
    "    basamak=sayi%10\n",
    "    if basamak!=k:\n",
    "        liste.append(basamak)   \n",
    "    carpim*=basamak\n",
    "    sayi=sayi//10\n",
    "    c+=1\n",
    "print(carpim)\n",
    "print(c)\n",
    "print(liste)"
   ]
  },
  {
   "cell_type": "code",
   "execution_count": 1,
   "id": "af32a764",
   "metadata": {},
   "outputs": [
    {
     "data": {
      "text/plain": [
       "[2, 2, 2, 3]"
      ]
     },
     "execution_count": 1,
     "metadata": {},
     "output_type": "execute_result"
    }
   ],
   "source": [
    "def asal_carpanlari_bul(sayi):\n",
    "    carpanlar = []\n",
    "    carpan = 2  # İlk asal sayı olan 2'den başlayarak kontrol edilecek\n",
    "\n",
    "    while sayi > 1:\n",
    "        while sayi % carpan == 0:\n",
    "            carpanlar.append(carpan)\n",
    "            sayi //= carpan\n",
    "        carpan += 1\n",
    "\n",
    "    return carpanlar\n",
    "\n",
    "asal_carpanlari_bul(24)"
   ]
  },
  {
   "cell_type": "code",
   "execution_count": 8,
   "id": "eeed8421",
   "metadata": {},
   "outputs": [
    {
     "name": "stdout",
     "output_type": "stream",
     "text": [
      "a:108\n",
      "b:24\n",
      "12\n",
      "216\n"
     ]
    }
   ],
   "source": [
    "a=int(input(\"a:\"))\n",
    "b=int(input(\"b:\"))\n",
    "bolen=2\n",
    "ebob=1\n",
    "ekok=1\n",
    "while a>1 and b>1:\n",
    "    while a%bolen==0 or b%bolen==0:\n",
    "        if a%bolen==0 and b%bolen==0:\n",
    "            ebob*=bolen\n",
    "            \n",
    "        ekok*=bolen\n",
    "        \n",
    "        if a%bolen==0:\n",
    "            a=a/bolen\n",
    "        if b%bolen==0:\n",
    "            b=b/bolen\n",
    "        \n",
    "    bolen+=1\n",
    "\n",
    "print(ebob)\n",
    "print(ekok)\n",
    "    \n",
    "    "
   ]
  },
  {
   "cell_type": "code",
   "execution_count": 7,
   "id": "22f74486",
   "metadata": {},
   "outputs": [
    {
     "data": {
      "text/plain": [
       "[6, 10]"
      ]
     },
     "execution_count": 7,
     "metadata": {},
     "output_type": "execute_result"
    }
   ],
   "source": [
    "def VizeRasgeleSayiliListeUret(baslangic,bitis,adet):\n",
    "    import random\n",
    "    Liste=[]\n",
    "    for i in range(adet):\n",
    "        sayi = round(random.random()*(bitis-baslangic)+baslangic)\n",
    "        Liste.append(sayi)\n",
    "    return Liste\n",
    "VizeRasgeleSayiliListeUret(3,25,2)"
   ]
  },
  {
   "cell_type": "code",
   "execution_count": 7,
   "id": "dfbed12a",
   "metadata": {},
   "outputs": [
    {
     "name": "stdout",
     "output_type": "stream",
     "text": [
      "B=5\n",
      "C=4\n",
      "A=2\n",
      "[0,2.3000000000000007)\n"
     ]
    }
   ],
   "source": [
    "B=int(input(\"B=\"))\n",
    "C=int(input(\"C=\"))\n",
    "A=int(input(\"A=\"))\n",
    "k=(B+C-A)/3\n",
    "x=0\n",
    "while True:\n",
    "    if (x+0.1)<k:\n",
    "        x+=0.1\n",
    "        \n",
    "    else:\n",
    "        print(f\"[{0},{x})\")\n",
    "        break"
   ]
  },
  {
   "cell_type": "code",
   "execution_count": 7,
   "id": "4b006b27",
   "metadata": {},
   "outputs": [
    {
     "name": "stdout",
     "output_type": "stream",
     "text": [
      "0.1\n"
     ]
    }
   ],
   "source": [
    "c=0\n",
    "c+=0.1\n",
    "print(c)"
   ]
  },
  {
   "cell_type": "code",
   "execution_count": 10,
   "id": "b9f849c3",
   "metadata": {},
   "outputs": [
    {
     "name": "stdout",
     "output_type": "stream",
     "text": [
      "M:10\n",
      "N:10\n",
      "m:1\n",
      "s:1\n",
      "k:2\n",
      "25\n"
     ]
    }
   ],
   "source": [
    "M=int(input(\"M:\"))\n",
    "N=int(input(\"N:\"))\n",
    "m=int(input(\"m:\"))\n",
    "s=int(input(\"s:\"))\n",
    "k=int(input(\"k:\"))\n",
    "ms=(m+s)*k\n",
    "Alan=M*N\n",
    "d=(m+s)*k\n",
    "c=0\n",
    "while True:\n",
    "    if ms<=Alan:\n",
    "        ms+=d\n",
    "        c+=1\n",
    "    else:\n",
    "        print(c)\n",
    "        break "
   ]
  },
  {
   "cell_type": "code",
   "execution_count": null,
   "id": "604eae24",
   "metadata": {},
   "outputs": [],
   "source": [
    "suMiktari=4000\n",
    "k=900\n",
    "l=1200\n",
    "n=700\n",
    "p=800\n",
    "r=1500\n",
    "s=1000\n",
    "sulananAlan=0\n",
    "x=0\n",
    "d=0\n",
    "while True:\n",
    "    c=0\n",
    "    if suMiktari>2500:\n",
    "        c+=1\n",
    "        if c==1:\n",
    "            suMiktari-=150\n",
    "            sulananAlan+=300\n",
    "            if suMiktari-2500<=150:\n",
    "                d=150%(suMiktari-2500)\n",
    "                if d==0:\n",
    "                    sulananAlan+=300+2\n",
    "                if d!=0:\n",
    "                    sulananAlan+=d*2\n",
    "                if sulananAlan<k:\n",
    "                    print(\"k\")\n",
    "                    break\n",
    "                if k<sulananAlan<k+l:\n",
    "                    print(\"l\")\n",
    "                    break\n",
    "                if k+l<sulananAlan<k+l+n:\n",
    "                    print(\"n\")\n",
    "                    break\n",
    "                if k+l+n<sulananAlan<k+l+n+p:\n",
    "                    print(\"p\")\n",
    "                    break\n",
    "                if k+l+n+p<sulananAlan<k+l+n+p+r:\n",
    "                    print(\"r\")\n",
    "                    break\n",
    "                if k+l+n+p+r<sulananAlan<k+l+n+p+r+s:\n",
    "                    print(\"s\")\n",
    "                    break\n",
    "                else:\n",
    "                    break"
   ]
  },
  {
   "cell_type": "code",
   "execution_count": null,
   "id": "0e09cba8",
   "metadata": {},
   "outputs": [],
   "source": [
    "d=170%100\n",
    "print(d)"
   ]
  },
  {
   "cell_type": "code",
   "execution_count": null,
   "id": "d28158fa",
   "metadata": {},
   "outputs": [],
   "source": [
    "import random\n",
    "sag=0\n",
    "sol=0\n",
    "c=0\n",
    "k=1\n",
    "p=0\n",
    "sec=0\n",
    "while c<10:\n",
    "    if k==1:\n",
    "        sol+=random.randint(0,50)\n",
    "        k+=1\n",
    "        c+=1\n",
    "  \n",
    "    if sol>sag:\n",
    "        sag+=random.randint(0,50)\n",
    "        if sag>sol:\n",
    "            c+=1\n",
    "            print(f\"{sol},{sag}\")\n",
    "        elif sol==sag:\n",
    "            p=1\n",
    "            sec=sag\n",
    "        else:\n",
    "            continue\n",
    "            \n",
    "    elif sag>sol:\n",
    "        sol+=random.randint(0,50)\n",
    "        if sol>sag:\n",
    "            c+=1\n",
    "            print(f\"{sol},{sag}\")\n",
    "        elif sol==sag:\n",
    "            p=1\n",
    "            sec=sol\n",
    "        else:\n",
    "            continue\n",
    "            \n",
    "    elif p==1:\n",
    "        if sec==sag:\n",
    "            sag+=random.randint(0,50)\n",
    "            if sag!=sol:\n",
    "                print(f\"{sol},{sag}\")\n",
    "                c+=1\n",
    "                p=0\n",
    "        if sec==sol:\n",
    "            sol+=random.randint(0,50)\n",
    "            if sag!=sol:\n",
    "                print(f\"{sol},{sag}\")\n",
    "                c+=1\n",
    "                p=0\n",
    "            \n",
    "    else:\n",
    "        continue"
   ]
  },
  {
   "cell_type": "code",
   "execution_count": null,
   "id": "11ded0f6",
   "metadata": {},
   "outputs": [],
   "source": [
    "def carpanToplamZeynep(zeynep,a,b,maxi,maxi1):\n",
    "    if zeynep%a==0:\n",
    "        return carpanToplamZeynep(zeynep,a+1,b,a,b)\n",
    "    if zeynep%b==0 and b<a:\n",
    "        return carpanToplamZeynep(zeynep,a,b+1,a,b)\n",
    "    else:\n",
    "        return carpanToplamZeynep(zeynep,a+1,b,)\n",
    "    \n",
    "carpanToplamZeynep(12,1,1,0,0)\n",
    "    \n",
    "        "
   ]
  },
  {
   "cell_type": "code",
   "execution_count": 1,
   "id": "5b09c0d5",
   "metadata": {},
   "outputs": [
    {
     "name": "stdout",
     "output_type": "stream",
     "text": [
      "[[1, 2, 3], []]\n"
     ]
    }
   ],
   "source": [
    "matris=[[1,2],[]]\n",
    "matris[0].append(3)\n",
    "print(matris)"
   ]
  },
  {
   "cell_type": "code",
   "execution_count": 7,
   "id": "49794f26",
   "metadata": {},
   "outputs": [
    {
     "data": {
      "text/plain": [
       "[[1, 1], [1, 1, 1, 1, 1], []]"
      ]
     },
     "execution_count": 7,
     "metadata": {},
     "output_type": "execute_result"
    }
   ],
   "source": [
    "import random\n",
    "def SepetSorusu(i,sepet):\n",
    "    if i<len(sepet):\n",
    "        k=random.randint(1,3)\n",
    "        r=random.choice([True,False])\n",
    "        if r==True:\n",
    "            for p in range(k):\n",
    "                sepet[i].append(1)\n",
    "            if len(sepet[i])>=5:\n",
    "                return sepet\n",
    "            return SepetSorusu(i+1,sepet)\n",
    "        else:\n",
    "            if len(sepet[i])>=k:\n",
    "                sepet[i] = sepet[i][:len(sepet[i]) - k] # çıkartma böyle yapılır\n",
    "                return SepetSorusu(i+1,sepet)\n",
    "            else:\n",
    "                return SepetSorusu(i+1,sepet)\n",
    "    else:\n",
    "        return SepetSorusu(0,sepet)\n",
    "                \n",
    "            \n",
    "        \n",
    "SepetSorusu(0,[[],[],[]])"
   ]
  },
  {
   "cell_type": "code",
   "execution_count": 34,
   "id": "65d22a90",
   "metadata": {},
   "outputs": [
    {
     "name": "stdout",
     "output_type": "stream",
     "text": [
      "3\n"
     ]
    }
   ],
   "source": [
    "sepet=[[1,2,3],[],[]]\n",
    "sepet[0]=sepet[0][len(sepet[0]) - 1]\n",
    "print(sepet[0])"
   ]
  },
  {
   "cell_type": "code",
   "execution_count": 35,
   "id": "fdbee35b",
   "metadata": {},
   "outputs": [
    {
     "name": "stdout",
     "output_type": "stream",
     "text": [
      "[1, 2]\n"
     ]
    }
   ],
   "source": [
    "sepet=[[1,2,3],[],[]]\n",
    "sepet[0]=sepet[0][:len(sepet[0]) - 1]\n",
    "print(sepet[0])"
   ]
  },
  {
   "cell_type": "code",
   "execution_count": 1,
   "id": "b1644bb3",
   "metadata": {},
   "outputs": [
    {
     "ename": "TypeError",
     "evalue": "'<=' not supported between instances of 'list' and 'int'",
     "output_type": "error",
     "traceback": [
      "\u001b[1;31m---------------------------------------------------------------------------\u001b[0m",
      "\u001b[1;31mTypeError\u001b[0m                                 Traceback (most recent call last)",
      "Input \u001b[1;32mIn [1]\u001b[0m, in \u001b[0;36m<cell line: 24>\u001b[1;34m()\u001b[0m\n\u001b[0;32m     21\u001b[0m                 i \u001b[38;5;241m+\u001b[39m\u001b[38;5;241m=\u001b[39m \u001b[38;5;241m1\u001b[39m\n\u001b[0;32m     22\u001b[0m     \u001b[38;5;28;01mreturn\u001b[39;00m sepet\n\u001b[1;32m---> 24\u001b[0m sepet \u001b[38;5;241m=\u001b[39m \u001b[43mSepetSorusu\u001b[49m\u001b[43m(\u001b[49m\u001b[43m[\u001b[49m\u001b[43m[\u001b[49m\u001b[43m]\u001b[49m\u001b[43m,\u001b[49m\u001b[43m \u001b[49m\u001b[43m[\u001b[49m\u001b[43m]\u001b[49m\u001b[43m,\u001b[49m\u001b[43m \u001b[49m\u001b[43m[\u001b[49m\u001b[43m]\u001b[49m\u001b[43m]\u001b[49m\u001b[43m)\u001b[49m\n\u001b[0;32m     25\u001b[0m \u001b[38;5;28mprint\u001b[39m(sepet)\n",
      "Input \u001b[1;32mIn [1]\u001b[0m, in \u001b[0;36mSepetSorusu\u001b[1;34m(sepet)\u001b[0m\n\u001b[0;32m      3\u001b[0m \u001b[38;5;28;01mdef\u001b[39;00m \u001b[38;5;21mSepetSorusu\u001b[39m(sepet):\n\u001b[0;32m      4\u001b[0m     i \u001b[38;5;241m=\u001b[39m \u001b[38;5;241m0\u001b[39m\n\u001b[1;32m----> 5\u001b[0m     \u001b[38;5;28;01mwhile\u001b[39;00m \u001b[43msepet\u001b[49m\u001b[43m[\u001b[49m\u001b[43mi\u001b[49m\u001b[43m]\u001b[49m\u001b[38;5;241;43m<\u001b[39;49m\u001b[38;5;241;43m=\u001b[39;49m\u001b[38;5;241;43m5\u001b[39;49m:\n\u001b[0;32m      6\u001b[0m         k \u001b[38;5;241m=\u001b[39m random\u001b[38;5;241m.\u001b[39mrandint(\u001b[38;5;241m1\u001b[39m, \u001b[38;5;241m3\u001b[39m)\n\u001b[0;32m      7\u001b[0m         r \u001b[38;5;241m=\u001b[39m random\u001b[38;5;241m.\u001b[39mchoice([\u001b[38;5;28;01mTrue\u001b[39;00m, \u001b[38;5;28;01mFalse\u001b[39;00m])\n",
      "\u001b[1;31mTypeError\u001b[0m: '<=' not supported between instances of 'list' and 'int'"
     ]
    }
   ],
   "source": [
    "import random\n",
    "\n",
    "def SepetSorusu(sepet):\n",
    "    i = 0\n",
    "    while sepet[i]<=5:\n",
    "        k = random.randint(1, 3)\n",
    "        r = random.choice([True, False])\n",
    "        if i==(len(sepet)-1):\n",
    "            i=0\n",
    "        if r:\n",
    "            for p in range(k):\n",
    "                sepet[i].append(1)\n",
    "            if len(sepet[i]) >= 5:\n",
    "                return sepet\n",
    "            i += 1\n",
    "        else:\n",
    "            if len(sepet[i]) >= k:\n",
    "                sepet[i] = sepet[i][:len(sepet[i]) - k]\n",
    "                i += 1\n",
    "            else:\n",
    "                i += 1\n",
    "    return sepet\n",
    "\n",
    "sepet = SepetSorusu([[], [], []])\n",
    "print(sepet)"
   ]
  },
  {
   "cell_type": "code",
   "execution_count": null,
   "id": "05b4b31b",
   "metadata": {},
   "outputs": [],
   "source": []
  }
 ],
 "metadata": {
  "kernelspec": {
   "display_name": "Python 3 (ipykernel)",
   "language": "python",
   "name": "python3"
  },
  "language_info": {
   "codemirror_mode": {
    "name": "ipython",
    "version": 3
   },
   "file_extension": ".py",
   "mimetype": "text/x-python",
   "name": "python",
   "nbconvert_exporter": "python",
   "pygments_lexer": "ipython3",
   "version": "3.9.12"
  }
 },
 "nbformat": 4,
 "nbformat_minor": 5
}
