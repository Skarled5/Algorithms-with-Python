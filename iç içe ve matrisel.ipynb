{
 "cells": [
  {
   "cell_type": "markdown",
   "id": "f80a5e22",
   "metadata": {},
   "source": [
    "# liste=[]\n",
    "c=0\n",
    "n=int(input(\"n:\"))\n",
    "for i in range(n):\n",
    "    taban=int(input(\"taban:\"))\n",
    "    ust=int(input(\"ust:\"))\n",
    "    liste.append(taban**ust)\n",
    "for i in range(len(liste)-1):\n",
    "    for j in range(len(liste)-1):\n",
    "        if liste[i]==liste[j]:\n",
    "            c+=1\n",
    "    if c==1:\n",
    "        print(\"boyalı\")\n",
    "    else:\n",
    "        print(liste[i])\n",
    "            \n",
    "       \n",
    "        \n",
    "       \n",
    "    \n",
    "    \n",
    "            \n"
   ]
  },
  {
   "cell_type": "markdown",
   "id": "43e124c9",
   "metadata": {},
   "source": []
  },
  {
   "cell_type": "code",
   "execution_count": 2,
   "id": "aeb9692f",
   "metadata": {},
   "outputs": [
    {
     "name": "stdout",
     "output_type": "stream",
     "text": [
      "x\n"
     ]
    }
   ],
   "source": [
    "def Hesapla(x):\n",
    "    xcm=x\n",
    "    yol=xcm\n",
    "    while xcm>10:\n",
    "        xcm=xcm*0.9\n",
    "        yol+=xcm\n",
    "        return yol\n",
    "\n",
    "print(\"x\")\n",
    "        "
   ]
  },
  {
   "cell_type": "code",
   "execution_count": 3,
   "id": "96de2215",
   "metadata": {},
   "outputs": [
    {
     "name": "stdout",
     "output_type": "stream",
     "text": [
      "    *\n",
      "   ***\n",
      "  *****\n",
      " *******\n",
      "*********\n",
      " *******\n",
      "  *****\n",
      "   ***\n",
      "    *\n"
     ]
    }
   ],
   "source": [
    "for i in range(5):\n",
    "    print(\" \"*(5-1-i),end=\"\")\n",
    "    for j in range(i*2 + 1):\n",
    "        print('*',end=\"\")\n",
    "    \n",
    "    print()\n",
    "    \n",
    "for i in range(3,-1,-1):\n",
    "    print(\" \"*(5-1-i),end=\"\")\n",
    "    for j in range(i*2 + 1):\n",
    "        print('*',end=\"\")\n",
    "        \n",
    "    print()\n",
    "    \n",
    "    \n",
    "\n",
    "\n",
    "    \n",
    "        "
   ]
  },
  {
   "cell_type": "code",
   "execution_count": 4,
   "id": "f0741a77",
   "metadata": {},
   "outputs": [
    {
     "name": "stdout",
     "output_type": "stream",
     "text": [
      "***********\n",
      "*********\n",
      " *******\n",
      "  *****\n",
      "   ***\n",
      "    *\n"
     ]
    }
   ],
   "source": [
    "for i in range(5,-1,-1):\n",
    "    print(\" \"*(5-1-i),end=\"\")\n",
    "    for j in range(i*2 + 1):\n",
    "        print(\"*\",end=\"\")\n",
    "    \n",
    "    print()"
   ]
  },
  {
   "cell_type": "code",
   "execution_count": 5,
   "id": "6d438619",
   "metadata": {},
   "outputs": [
    {
     "name": "stdout",
     "output_type": "stream",
     "text": [
      "           \n",
      "*         *\n",
      "**       **\n",
      "***     ***\n",
      "****   ****\n",
      "***** *****\n",
      "***** *****\n",
      "****   ****\n",
      "***     ***\n",
      "**       **\n",
      "*         *\n"
     ]
    }
   ],
   "source": [
    "def kelebek_ciz():\n",
    "    for i in range(6):\n",
    "        for j in range(i):\n",
    "            print(\"*\", end=\"\")\n",
    "        for k in range(11 - 2 * i):\n",
    "            print(\" \", end=\"\")\n",
    "        for l in range(i):\n",
    "            print(\"*\", end=\"\")\n",
    "        \n",
    "        print()\n",
    "\n",
    "    for i in range(5, 0, -1):\n",
    "        for j in range(i):\n",
    "            print(\"*\", end=\"\")\n",
    "        for k in range(11 - 2 * i):\n",
    "            print(\" \", end=\"\")\n",
    "        for l in range(i):\n",
    "            print(\"*\", end=\"\")\n",
    "        print()\n",
    "\n",
    "kelebek_ciz()"
   ]
  },
  {
   "cell_type": "code",
   "execution_count": 6,
   "id": "53b3e778",
   "metadata": {},
   "outputs": [
    {
     "name": "stdout",
     "output_type": "stream",
     "text": [
      "[[1, 6, 6], [6, 5, 7], [11, 13, 15]]\n"
     ]
    }
   ],
   "source": [
    "m = [[1,2,3],[4,5,6],[7,8,9]]\n",
    "n = [[0,4,3],[2,0,1],[4,5,6]]\n",
    "k = []\n",
    "\n",
    "for i in range(len(m)):\n",
    "    k_satir = []\n",
    "    for j in range(len(m[0])):\n",
    "        m_index = m[i][j]\n",
    "        n_index = n[i][j]\n",
    "        toplam = m_index + n_index\n",
    "        k_satir.append(toplam)\n",
    "        \n",
    "    k.append(k_satir)\n",
    "        \n",
    "print(k)"
   ]
  },
  {
   "cell_type": "code",
   "execution_count": 3,
   "id": "fff9cdca",
   "metadata": {},
   "outputs": [
    {
     "name": "stdout",
     "output_type": "stream",
     "text": [
      "[6, 15, 24]\n",
      "[12, 15, 18]\n"
     ]
    }
   ],
   "source": [
    "m = [[1,2,3],[4,5,6],[7,8,9]]\n",
    "\n",
    "satır = []\n",
    "sutun = []\n",
    "\n",
    "for i in range(len(m)):\n",
    "    m_satır = []\n",
    "    m_sutun = []\n",
    "    for j in range(len(m[0])):\n",
    "        \n",
    "        m_satır.append(m[i][j])\n",
    "        m_sutun.append(m[j][i])\n",
    "    \n",
    "    satır.append(sum(m_satır))\n",
    "    sutun.append(sum(m_sutun))\n",
    "    \n",
    "print(satır)\n",
    "print(sutun)\n"
   ]
  },
  {
   "cell_type": "code",
   "execution_count": 8,
   "id": "4dee6d86",
   "metadata": {},
   "outputs": [
    {
     "name": "stdout",
     "output_type": "stream",
     "text": [
      "Matrisin İzi: 15\n"
     ]
    }
   ],
   "source": [
    "def matris_izi(matris):\n",
    "    iz = 0\n",
    "    for i in range(len(matris)):\n",
    "        iz += matris[i][i]\n",
    "    return iz\n",
    "\n",
    "# Örnek bir matris\n",
    "matris = [\n",
    "    [1, 2, 3],\n",
    "    [4, 5, 6],\n",
    "    [7, 8, 9]\n",
    "]\n",
    "\n",
    "# Matrisin izini hesaplayalım\n",
    "iz = matris_izi(matris)\n",
    "\n",
    "print(\"Matrisin İzi:\", iz)"
   ]
  },
  {
   "cell_type": "code",
   "execution_count": 9,
   "id": "c879cf20",
   "metadata": {},
   "outputs": [
    {
     "name": "stdout",
     "output_type": "stream",
     "text": [
      "Matristeki en büyük sayılar: [3, 6, 9]\n"
     ]
    }
   ],
   "source": [
    "m = [[1, 2, 3], [4, 5, 6], [7, 8, 9]]\n",
    "\n",
    "enBuyuk = []\n",
    "\n",
    "for i in range(len(m)):\n",
    "    mi = m[i]\n",
    "    maxi = mi[0]\n",
    "    for k in range(1, len(mi)):\n",
    "        if maxi < mi[k]:\n",
    "            maxi = mi[k]\n",
    "    enBuyuk.append(maxi)\n",
    "\n",
    "print(\"Matristeki en büyük sayılar:\", enBuyuk)"
   ]
  },
  {
   "cell_type": "code",
   "execution_count": 10,
   "id": "855a8947",
   "metadata": {},
   "outputs": [
    {
     "name": "stdout",
     "output_type": "stream",
     "text": [
      "Matrisin İzi: 15\n"
     ]
    }
   ],
   "source": [
    "def matris_izi(matris):\n",
    "    iz = 0\n",
    "    for i in range(len(matris)):\n",
    "        iz += matris[i][i]\n",
    "    return iz\n",
    "\n",
    "# Örnek bir matris\n",
    "matris = [\n",
    "    [1, 2, 3],\n",
    "    [4, 5, 6],\n",
    "    [7, 8, 9]\n",
    "]\n",
    "\n",
    "# Matrisin izini hesaplayalım\n",
    "iz = matris_izi(matris)\n",
    "\n",
    "print(\"Matrisin İzi:\", iz)"
   ]
  },
  {
   "cell_type": "code",
   "execution_count": 11,
   "id": "d700851e",
   "metadata": {},
   "outputs": [
    {
     "name": "stdout",
     "output_type": "stream",
     "text": [
      "k:1\n",
      "sayı:1\n",
      "[[1, 2, 3], [4, 5, 6], [7, 8, 9]]\n"
     ]
    }
   ],
   "source": [
    "m = [[1, 2, 3], [4, 5, 6], [7, 8, 9]]\n",
    "\n",
    "k = int(input(\"k:\"))\n",
    "sayi = int(input(\"sayı:\"))\n",
    "c = 0\n",
    "\n",
    "for i in range(len(m)):\n",
    "    for j in range(len(m[0])):\n",
    "        c += 1\n",
    "        \n",
    "        if c == k:\n",
    "            m[i][j] = sayi\n",
    "            break\n",
    "\n",
    "print(m)        "
   ]
  },
  {
   "cell_type": "code",
   "execution_count": null,
   "id": "c539b630",
   "metadata": {},
   "outputs": [],
   "source": [
    "def matris_carpimi(matris1, matris2):\n",
    "    m = len(matris1)\n",
    "    n = len(matris2)\n",
    "    p = len(matris2[0])\n",
    "\n",
    "    if len(matris1[0]) != n:\n",
    "        raise ValueError(\"İlk matrisin sütun sayısı ile ikinci matrisin satır sayısı eşit olmalı!\")\n",
    "\n",
    "    carpim_matrisi = [[0 for _ in range(p)] for _ in range(m)]\n",
    "\n",
    "    for i in range(m):\n",
    "        for j in range(p):\n",
    "            for k in range(n):\n",
    "                carpim_matrisi[i][j] += matris1[i][k] * matris2[k][j]\n",
    "\n",
    "    return carpim_matrisi\n",
    "\n",
    "def matrisi_yazdir(matris):\n",
    "    for satir in matris:\n",
    "        print(satir)\n",
    "\n",
    "def main():\n",
    "    try:\n",
    "        matris1_satir_sayisi = int(input(\"1. matrisin satır sayısını girin: \"))\n",
    "        matris1_sutun_sayisi = int(input(\"1. matrisin sütun sayısını girin: \"))\n",
    "\n",
    "        matris1 = []\n",
    "        for i in range(matris1_satir_sayisi):\n",
    "            satir = []\n",
    "            for j in range(matris1_sutun_sayisi):\n",
    "                eleman = int(input(f\"1. matrisin ({i+1},{j+1}) elemanını girin: \"))\n",
    "                satir.append(eleman)\n",
    "            matris1.append(satir)\n",
    "\n",
    "        matris2_satir_sayisi = int(input(\"2. matrisin satır sayısını girin: \"))\n",
    "        matris2_sutun_sayisi = int(input(\"2. matrisin sütun sayısını girin: \"))\n",
    "\n",
    "        matris2 = []\n",
    "        for i in range(matris2_satir_sayisi):\n",
    "            satir = []\n",
    "            for j in range(matris2_sutun_sayisi):\n",
    "                eleman = int(input(f\"2. matrisin ({i+1},{j+1}) elemanını girin: \"))\n",
    "                satir.append(eleman)\n",
    "            matris2.append(satir)\n",
    "\n",
    "        carpim_matrisi = matris_carpimi(matris1, matris2)\n",
    "\n",
    "        print(\"\\n1. Matris:\")\n",
    "        matrisi_yazdir(matris1)\n",
    "\n",
    "        print(\"\\n2. Matris:\")\n",
    "        matrisi_yazdir(matris2)\n",
    "\n",
    "        print(\"\\nMatris Çarpımı:\")\n",
    "        matrisi_yazdir(carpim_matrisi)\n",
    "\n",
    "    except ValueError:\n",
    "        print(\"Hatalı giriş! Lütfen sayısal değerler giriniz.\")\n",
    "\n",
    "if __name__ == \"__main__\":\n",
    "    main()"
   ]
  },
  {
   "cell_type": "code",
   "execution_count": 4,
   "id": "d48fdc39",
   "metadata": {},
   "outputs": [
    {
     "name": "stdout",
     "output_type": "stream",
     "text": [
      "[1, 4]\n",
      "[2, 5]\n",
      "[3, 6]\n"
     ]
    }
   ],
   "source": [
    "matris = [[1, 2, 3],\n",
    "          [4, 5, 6]]\n",
    "\n",
    "# Matrisin boyutlarını alın\n",
    "satir_sayisi = len(matris)\n",
    "sutun_sayisi = len(matris[0])\n",
    "\n",
    "# Transpoze matrisi oluşturun\n",
    "transpoze_matris = []\n",
    "for i in range(sutun_sayisi):\n",
    "    transpoze_satir = []\n",
    "    for j in range(satir_sayisi):\n",
    "        transpoze_satir.append(matris[j][i])\n",
    "    transpoze_matris.append(transpoze_satir)\n",
    "\n",
    "for satir in transpoze_matris:\n",
    "    print(satir)"
   ]
  },
  {
   "cell_type": "code",
   "execution_count": 5,
   "id": "8b099200",
   "metadata": {},
   "outputs": [
    {
     "name": "stdout",
     "output_type": "stream",
     "text": [
      "    *\n",
      "   ***\n",
      "  *****\n",
      " *******\n",
      "*********\n",
      " *******\n",
      "  *****\n",
      "   ***\n",
      "    *\n"
     ]
    }
   ],
   "source": [
    "for i in range(5):\n",
    "    print(\" \"*(5-i-1),end=\"\")\n",
    "    for j in range(i*2+1):\n",
    "        print(\"*\",end=\"\")\n",
    "    print()\n",
    "    \n",
    "for i in range(3,-1,-1):\n",
    "    print(\" \"*(5-1-i),end=\"\")\n",
    "    for j in range(i*2 + 1):\n",
    "        print('*',end=\"\")\n",
    "        \n",
    "    print()"
   ]
  },
  {
   "cell_type": "code",
   "execution_count": 3,
   "id": "13e30e93",
   "metadata": {},
   "outputs": [
    {
     "name": "stdout",
     "output_type": "stream",
     "text": [
      "5\n",
      "[[1, 2, 3, 4, 5], [6, 7, 8, 9, 10], [11, 12, 13, 14, 15], [16, 17, 18, 19, 20], [21, 22, 23, 24, 25]]\n"
     ]
    }
   ],
   "source": [
    "n=int(input())\n",
    "a=1\n",
    "b=[]\n",
    "for i in range(n):\n",
    "    c=[]\n",
    "    for j in range(n):\n",
    "        c.append(a)\n",
    "        a+=1\n",
    "    b.append(c)\n",
    "    \n",
    "print(b)       "
   ]
  },
  {
   "cell_type": "code",
   "execution_count": 10,
   "id": "dd83b90f",
   "metadata": {},
   "outputs": [
    {
     "name": "stdout",
     "output_type": "stream",
     "text": [
      "[[[1, 2, 3], [4, 5, 6]], [[1, 2, 3], [4, 5, 6]], [[1, 2, 3], [4, 5, 6]]]\n"
     ]
    }
   ],
   "source": [
    "matris1 = [[1, 2, 3],[4, 5, 6]]\n",
    "transpoze=[]\n",
    "for i in range(len(matris1[0])):\n",
    "    matris1_satir = []\n",
    "    for j in range(len(matris1)):\n",
    "        matris1_satir.append(matris1[j][i])\n",
    "    transpoze.append(matris1)\n",
    "print(transpoze)"
   ]
  },
  {
   "cell_type": "code",
   "execution_count": 4,
   "id": "90701a1c",
   "metadata": {},
   "outputs": [
    {
     "name": "stdout",
     "output_type": "stream",
     "text": [
      "[0, 1, 2, 9]\n",
      "[3, 5, 4, 5]\n",
      "[6, 2, 7, 8]\n",
      "[0, 1, 6, 2]\n",
      "[3, 3, 4, 5]\n",
      "[6, 0, 7, 8]\n"
     ]
    }
   ],
   "source": [
    "m1=[[0,1,2,9],[3,5,4,5],[6,2,7,8]]\n",
    "m2=[[0,1,6,2],[3,3,4,5],[6,0,7,8]]\n",
    "m3 = m1+m2\n",
    "for i in range(len(m3)):\n",
    "    print(m3[i])"
   ]
  },
  {
   "cell_type": "code",
   "execution_count": 6,
   "id": "a4f4b98f",
   "metadata": {},
   "outputs": [
    {
     "name": "stdout",
     "output_type": "stream",
     "text": [
      "[0, 1, 2, 9, 0, 1, 6, 2]\n",
      "[[0, 1, 2, 9, 0, 1, 6, 2], [3, 5, 4, 5, 3, 3, 4, 5], [6, 2, 7, 8, 6, 0, 7, 8]]\n"
     ]
    }
   ],
   "source": [
    "m1=[\n",
    "[0,1,2,9],\n",
    "[3,5,4,5],\n",
    "[6,2,7,8]]\n",
    "\n",
    "m2=[\n",
    "[0,1,6,2],\n",
    "[3,3,4,5],\n",
    "[6,0,7,8]]\n",
    "m3 = m1[0]+m2[0]\n",
    "\n",
    "c=0\n",
    "m3=[]\n",
    "\n",
    "while c<len(m1) and c<len(m2):\n",
    "    m3.append(m1[c]+m2[c])\n",
    "    c+=1\n",
    "\n",
    "print(m3)\n",
    "    "
   ]
  },
  {
   "cell_type": "code",
   "execution_count": 7,
   "id": "5ebc1f4d",
   "metadata": {},
   "outputs": [
    {
     "name": "stdout",
     "output_type": "stream",
     "text": [
      "[[20, 26], [47, 62]]\n"
     ]
    }
   ],
   "source": [
    "m = [[1, 2, 3],\n",
    "     [4, 5, 6]]\n",
    "\n",
    "m1 = [[2,3],\n",
    "      [3,4],\n",
    "      [4,5]]\n",
    "\n",
    "# m 2x3 , m1 3x2\n",
    "\n",
    "m2=[] # 2x2\n",
    "\n",
    "if len(m)==len(m1[0]):\n",
    "    \n",
    "    for i in range(len(m)):\n",
    "        carpim_satir=[]\n",
    "        for j in range(len(m1[0])):\n",
    "            carpim=0\n",
    "            for k in range(len(m[0])):\n",
    "                carpim+=m[i][k]*m1[k][j]\n",
    "            carpim_satir.append(carpim)\n",
    "        m2.append(carpim_satir)\n",
    "                      \n",
    "    \n",
    "else:\n",
    "    print(\"carpim matrisi oluşamaz\")\n",
    "    \n",
    "print(m2)\n",
    "        \n",
    "            \n",
    "    "
   ]
  },
  {
   "cell_type": "code",
   "execution_count": 20,
   "id": "08723660",
   "metadata": {},
   "outputs": [
    {
     "name": "stdout",
     "output_type": "stream",
     "text": [
      "[3, 0, 0, 0, 0, 8]\n",
      "[0, 77, 0, 0, 94, 0]\n",
      "[0, 0, 89, 81, 0, 0]\n",
      "[0, 0, 59, 39, 0, 0]\n",
      "[0, 58, 0, 0, 47, 0]\n",
      "[71, 0, 0, 0, 0, 42]\n",
      "--------------------------------------------\n",
      "[71, 0, 0, 0, 0, 3]\n",
      "[0, 94, 0, 0, 77, 0]\n",
      "[0, 0, 81, 89, 0, 0]\n",
      "[0, 0, 8, 39, 0, 0]\n",
      "[0, 59, 0, 0, 47, 0]\n",
      "[58, 0, 0, 0, 0, 42]\n"
     ]
    }
   ],
   "source": [
    "import random\n",
    "matris=[]\n",
    "for i in range(6):\n",
    "    satir=[]\n",
    "    for j in range(6):\n",
    "        satir.append(0)\n",
    "    matris.append(satir)\n",
    "    \n",
    "for r in range(6):\n",
    "    c=random.randint(0,100)\n",
    "    matris[r][r]=c\n",
    "    \n",
    "q=0\n",
    "for p in range(5,-1,-1):\n",
    "    k=random.randint(0,100)\n",
    "    matris[q][p]=k\n",
    "    q+=1\n",
    "    \n",
    "for i in matris:\n",
    "    print(i)\n",
    "    \n",
    "for a in range(len(matris)):\n",
    "    d=0\n",
    "    h=0\n",
    "    newA=0\n",
    "    newB=0\n",
    "    for b in range(len(matris[0])):\n",
    "        if matris[a][b]!=0 and a==b:\n",
    "            d=matris[a][b]\n",
    "            newA=a\n",
    "            newB=b\n",
    "        else:\n",
    "            if matris[a][b]!=0:\n",
    "                h=matris[a][b]\n",
    "                matris[a][b],matris[newA][newB]=matris[newA][newB],matris[a][b]\n",
    "    \n",
    "print(\"--------------------------------------------\")\n",
    "     \n",
    "for i in matris:\n",
    "    print(i)               \n",
    "        "
   ]
  },
  {
   "cell_type": "code",
   "execution_count": null,
   "id": "40e6ed07",
   "metadata": {},
   "outputs": [],
   "source": []
  },
  {
   "cell_type": "code",
   "execution_count": 31,
   "id": "5e8bb968",
   "metadata": {},
   "outputs": [
    {
     "name": "stdout",
     "output_type": "stream",
     "text": [
      "[10, 0, 0, 0]\n",
      "[0, 5, 0, 0]\n",
      "[0, 0, 1, 0]\n",
      "[0, 0, 0, 8]\n",
      "-----------------------------\n",
      "[10, 0, 0, 5]\n",
      "[0, 5, 9, 0]\n",
      "[0, 7, 1, 0]\n",
      "[6, 0, 0, 8]\n"
     ]
    }
   ],
   "source": [
    "import random\n",
    "matris=[]\n",
    "for i in range(4):\n",
    "    matris_satir=[]\n",
    "    for j in range(4):\n",
    "        matris_satir.append(0)\n",
    "    matris.append(matris_satir)\n",
    "    \n",
    "for i in range(len(matris)):\n",
    "    k=random.randint(1,10)\n",
    "    matris[i][i]=k\n",
    "\n",
    "for l in matris:\n",
    "    print(l)\n",
    "    \n",
    "print(\"-----------------------------\")\n",
    "\n",
    "a=0\n",
    "for j in range(len(matris)-1,-1,-1):\n",
    "    if len(matris)%2==1:\n",
    "        if len(matris)!=3:\n",
    "            if a!=(len(matris)//2) and j!=(len(matris)//2):\n",
    "                p=random.randint(1,10)\n",
    "                matris[a][j]=p\n",
    "                a+=1\n",
    "            else:\n",
    "                a+=1\n",
    "        else:\n",
    "            if a!=(len(matris)//2) and j!=(len(matris)//2):\n",
    "                p=random.randint(1,10)\n",
    "                matris[a][j]=p\n",
    "                a+=1\n",
    "            else:\n",
    "                a+=1\n",
    "    else:\n",
    "        p=random.randint(1,10)\n",
    "        matris[a][j]=p\n",
    "        a+=1\n",
    "\n",
    "for o in matris:\n",
    "    print(o)\n",
    "\n",
    "    "
   ]
  },
  {
   "cell_type": "code",
   "execution_count": 5,
   "id": "729e1568",
   "metadata": {},
   "outputs": [
    {
     "name": "stdout",
     "output_type": "stream",
     "text": [
      "[[14, 14], [32, 32]]\n"
     ]
    }
   ],
   "source": [
    "# matris çarpımı !\n",
    "\n",
    "m1=[[1,2,3],\n",
    "   [4,5,6]]\n",
    "\n",
    "m2=[[1,1],\n",
    "   [2,2],\n",
    "   [3,3]]\n",
    "\n",
    "if len(m1[0])==len(m2):\n",
    "    \n",
    "    carpim_matris=[]\n",
    "    for i in range(len(m1)):\n",
    "        matris_satir=[]\n",
    "        for j in range(len(m2[0])):\n",
    "            carpim=0\n",
    "            for k in range(len(m2)):\n",
    "                carpim+=m1[i][k]*m2[k][j]\n",
    "            matris_satir.append(carpim)\n",
    "        carpim_matris.append(matris_satir)\n",
    "else:\n",
    "    print(\"çarpılmaz\")\n",
    "    \n",
    "print(carpim_matris)        "
   ]
  },
  {
   "cell_type": "code",
   "execution_count": 6,
   "id": "f15f00f0",
   "metadata": {},
   "outputs": [
    {
     "name": "stdout",
     "output_type": "stream",
     "text": [
      "[[1, 4], [2, 5], [3, 6]]\n"
     ]
    }
   ],
   "source": [
    "# transpoze alınması !\n",
    "\n",
    "m1=[[1,2,3],\n",
    "   [4,5,6]]\n",
    "transpoze=[]\n",
    "for i in range(len(m1[0])):\n",
    "    transpoze_satir=[]\n",
    "    for j in range(len(m1)):\n",
    "        transpoze_satir.append(m1[j][i])\n",
    "        \n",
    "    transpoze.append(transpoze_satir)\n",
    "    \n",
    "print(transpoze)\n",
    "        "
   ]
  },
  {
   "cell_type": "code",
   "execution_count": null,
   "id": "99e3a10c",
   "metadata": {},
   "outputs": [],
   "source": []
  }
 ],
 "metadata": {
  "kernelspec": {
   "display_name": "Python 3 (ipykernel)",
   "language": "python",
   "name": "python3"
  },
  "language_info": {
   "codemirror_mode": {
    "name": "ipython",
    "version": 3
   },
   "file_extension": ".py",
   "mimetype": "text/x-python",
   "name": "python",
   "nbconvert_exporter": "python",
   "pygments_lexer": "ipython3",
   "version": "3.9.12"
  }
 },
 "nbformat": 4,
 "nbformat_minor": 5
}
