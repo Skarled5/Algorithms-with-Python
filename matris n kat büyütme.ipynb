{
 "cells": [
  {
   "cell_type": "code",
   "execution_count": 1,
   "id": "2799d618",
   "metadata": {},
   "outputs": [
    {
     "name": "stdout",
     "output_type": "stream",
     "text": [
      "[1, 1, 1, 2, 2, 2]\n",
      "[1, 1, 1, 2, 2, 2]\n",
      "[1, 1, 1, 2, 2, 2]\n",
      "[3, 3, 3, 4, 4, 4]\n",
      "[3, 3, 3, 4, 4, 4]\n",
      "[3, 3, 3, 4, 4, 4]\n"
     ]
    }
   ],
   "source": [
    "def n_kat_buyut(matris, n):\n",
    "    satir_sayisi = len(matris)\n",
    "    sutun_sayisi = len(matris[0])\n",
    "    \n",
    "    yeni_satir_sayisi = satir_sayisi * n\n",
    "    yeni_sutun_sayisi = sutun_sayisi * n\n",
    "    \n",
    "    yeni_matris = [[0 for _ in range(yeni_sutun_sayisi)] for _ in range(yeni_satir_sayisi)]\n",
    "    \n",
    "    for i in range(satir_sayisi):\n",
    "        for j in range(sutun_sayisi):\n",
    "            eleman = matris[i][j]\n",
    "            for k in range(n):\n",
    "                for l in range(n):\n",
    "                    yeni_matris[i * n + k][j * n + l] = eleman\n",
    "    \n",
    "    return yeni_matris\n",
    "\n",
    "ornek_matris = [\n",
    "    [1, 2],\n",
    "    [3, 4]\n",
    "]\n",
    "\n",
    "n = 3\n",
    "yeni_matris = n_kat_buyut(ornek_matris, n)\n",
    "\n",
    "for satir in yeni_matris:\n",
    "    print(satir)"
   ]
  },
  {
   "cell_type": "code",
   "execution_count": 11,
   "id": "f3a5e838",
   "metadata": {},
   "outputs": [
    {
     "name": "stdout",
     "output_type": "stream",
     "text": [
      "[1, 2, 2, 0]\n",
      "[3, 4, 4, 0]\n",
      "[3, 4, 4, 0]\n",
      "[0, 0, 0, 0]\n"
     ]
    }
   ],
   "source": [
    "def islem(matrisim):\n",
    "    satır=len(matrisim)\n",
    "    sutun=len(matrisim[0])\n",
    "    matris1 = [[0 for _ in range(4)] for _ in range(4)]\n",
    "    \n",
    "    for i in range(satır):\n",
    "        for j in range(sutun):\n",
    "            deger = matrisim[i][j]\n",
    "            for k in range(2):\n",
    "                for m in range(2):\n",
    "                    matris1[i+k][j+m] = deger\n",
    "    \n",
    "    return matris1\n",
    "\n",
    "ornek = [\n",
    "    [1,2],\n",
    "    [3,4]\n",
    "]\n",
    "\n",
    "x=islem(ornek)\n",
    "for p in x:\n",
    "    print(p)"
   ]
  },
  {
   "cell_type": "code",
   "execution_count": 11,
   "id": "b53cdcb3",
   "metadata": {},
   "outputs": [
    {
     "name": "stdout",
     "output_type": "stream",
     "text": [
      "[0, 0, 0, 0, 0, 0]\n",
      "[0, 0, 0, 0, 0, 0]\n",
      "[0, 0, 0, 0, 0, 0]\n",
      "[0, 0, 0, 0, 0, 0]\n",
      "[0, 0, 0, 0, 0, 0]\n",
      "[0, 0, 0, 0, 0, 0]\n",
      "[1, 1, 1, 1, 2, 2]\n",
      "[1, 1, 1, 1, 2, 2]\n",
      "[1, 1, 1, 1, 2, 2]\n",
      "[1, 1, 1, 1, 2, 2]\n",
      "[3, 3, 3, 3, 4, 4]\n",
      "[3, 3, 3, 3, 4, 4]\n"
     ]
    }
   ],
   "source": [
    "ornek_matris = [[1, 2],[3, 4]]\n",
    "yeni_matris = []\n",
    "satir_sayisi = len(ornek_matris)*3\n",
    "sutun_sayisi = len(ornek_matris[0])*3\n",
    "for i in range(satir_sayisi):\n",
    "    satir=[]\n",
    "    for j in range(sutun_sayisi):\n",
    "        if j<sutun_sayisi:\n",
    "            satir.append(0)\n",
    "    yeni_matris.append(satir)\n",
    "\n",
    "for i in range(len(yeni_matris)):\n",
    "    print(yeni_matris[i])\n",
    "    \n",
    "for i in range(len(yeni_matris)):\n",
    "    for j in range(len(yeni_matris[0])):\n",
    "        \n",
    "        if yeni_matris[i][j]==0 and i<=len(yeni_matris)//2 and j<=len(yeni_matris[0])//2:\n",
    "            yeni_matris[i][j]+=ornek_matris[0][0]\n",
    "            \n",
    "        if yeni_matris[i][j]==0 and i<=len(yeni_matris)//2 and j>=len(yeni_matris[0])//2:\n",
    "            yeni_matris[i][j]+=ornek_matris[0][1]\n",
    "            \n",
    "        if yeni_matris[i][j]==0 and i>=len(yeni_matris)//2 and j<=len(yeni_matris[0])//2:\n",
    "            yeni_matris[i][j]+=ornek_matris[1][0]\n",
    "        \n",
    "        if yeni_matris[i][j]==0 and i>=len(yeni_matris)//2 and j>=len(yeni_matris[0])//2:\n",
    "            yeni_matris[i][j]+=ornek_matris[1][1]\n",
    "    \n",
    "\n",
    "for i in range(len(yeni_matris)):\n",
    "    print(yeni_matris[i])            \n",
    "            \n",
    "                \n",
    "            \n",
    "        \n",
    "        \n"
   ]
  },
  {
   "cell_type": "code",
   "execution_count": 11,
   "id": "e1d7b525",
   "metadata": {},
   "outputs": [
    {
     "name": "stdout",
     "output_type": "stream",
     "text": [
      "[0, 0, 0, 0, 0, 0]\n",
      "[0, 0, 0, 0, 0, 0]\n",
      "[0, 0, 0, 0, 0, 0]\n",
      "[0, 0, 0, 0, 0, 0]\n",
      "[0, 0, 0, 0, 0, 0]\n",
      "[0, 0, 0, 0, 0, 0]\n",
      "[1, 1, 1, 1, 2, 2]\n",
      "[1, 1, 1, 1, 2, 2]\n",
      "[1, 1, 1, 1, 2, 2]\n",
      "[1, 1, 1, 1, 2, 2]\n",
      "[3, 3, 3, 3, 4, 4]\n",
      "[3, 3, 3, 3, 4, 4]\n"
     ]
    }
   ],
   "source": [
    "def genisletilen_matris(ornek_matris):\n",
    "    yeni_matris = []\n",
    "    satir_sayisi = len(ornek_matris) * 3\n",
    "    sutun_sayisi = len(ornek_matris[0]) * 3\n",
    "\n",
    "    for i in range(satir_sayisi):\n",
    "        satir = []\n",
    "        for j in range(sutun_sayisi):\n",
    "            satir.append(0)\n",
    "        yeni_matris.append(satir)\n",
    "    \n",
    "    for k in yeni_matris:\n",
    "        print(k)\n",
    "\n",
    "    for i in range(len(yeni_matris)):\n",
    "        for j in range(len(yeni_matris[0])):\n",
    "            if yeni_matris[i][j] == 0 and i <= len(yeni_matris) // 2 and j <= len(yeni_matris[0]) // 2:\n",
    "                yeni_matris[i][j] += ornek_matris[0][0]\n",
    "            if yeni_matris[i][j] == 0 and i <= len(yeni_matris) // 2 and j >= len(yeni_matris[0]) // 2:\n",
    "                yeni_matris[i][j] += ornek_matris[0][1]\n",
    "            if yeni_matris[i][j] == 0 and i >= len(yeni_matris) // 2 and j <= len(yeni_matris[0]) // 2:\n",
    "                yeni_matris[i][j] += ornek_matris[1][0]\n",
    "            if yeni_matris[i][j] == 0 and i >= len(yeni_matris) // 2 and j >= len(yeni_matris[0]) // 2:\n",
    "                yeni_matris[i][j] += ornek_matris[1][1]\n",
    "\n",
    "    return yeni_matris # return ifadesinden sonra başka işlem yapmaz\n",
    "\n",
    "ornek_matris = [[1, 2], [3, 4]]\n",
    "genisletilmis_matris = genisletilen_matris(ornek_matris)\n",
    "\n",
    "for i in range(len(genisletilmis_matris)):\n",
    "    print(genisletilmis_matris[i])"
   ]
  },
  {
   "cell_type": "code",
   "execution_count": 3,
   "id": "cfcd9181",
   "metadata": {},
   "outputs": [
    {
     "name": "stdout",
     "output_type": "stream",
     "text": [
      "[0, 0, 0, 0, 0, 0]\n",
      "[0, 0, 0, 0, 0, 0]\n",
      "[0, 0, 0, 0, 0, 0]\n",
      "[0, 0, 0, 0, 0, 0]\n",
      "[0, 0, 0, 0, 0, 0]\n",
      "[0, 0, 0, 0, 0, 0]\n",
      "-------------------\n",
      "[1, 1, 1, 2, 2, 2]\n",
      "[1, 1, 1, 2, 2, 2]\n",
      "[1, 1, 1, 2, 2, 2]\n",
      "[3, 3, 3, 4, 4, 4]\n",
      "[3, 3, 3, 4, 4, 4]\n",
      "[3, 3, 3, 4, 4, 4]\n"
     ]
    }
   ],
   "source": [
    "def genisletilen_matris(ornek_matris):\n",
    "    yeni_matris = []\n",
    "    satir_sayisi = len(ornek_matris) * 3\n",
    "    sutun_sayisi = len(ornek_matris[0]) * 3\n",
    "\n",
    "    for i in range(satir_sayisi):\n",
    "        satir = []\n",
    "        for j in range(sutun_sayisi):\n",
    "            satir.append(0)\n",
    "        yeni_matris.append(satir)\n",
    "    \n",
    "    for k in yeni_matris:\n",
    "        print(k)\n",
    "        \n",
    "    print(\"-------------------\")\n",
    "\n",
    "    for i in range(len(yeni_matris)):\n",
    "        for j in range(len(yeni_matris[0])):\n",
    "            if yeni_matris[i][j] == 0 and i < len(yeni_matris) // 2 and j < len(yeni_matris[0]) // 2:\n",
    "                yeni_matris[i][j] = ornek_matris[0][0]\n",
    "            if yeni_matris[i][j] == 0 and i < len(yeni_matris) // 2 and j >= len(yeni_matris[0]) // 2:\n",
    "                yeni_matris[i][j] = ornek_matris[0][1]\n",
    "            if yeni_matris[i][j] == 0 and i >= len(yeni_matris) // 2 and j < len(yeni_matris[0]) // 2:\n",
    "                yeni_matris[i][j] = ornek_matris[1][0]\n",
    "            if yeni_matris[i][j] == 0 and i >= len(yeni_matris) // 2 and j >= len(yeni_matris[0]) // 2:\n",
    "                yeni_matris[i][j] = ornek_matris[1][1]\n",
    "\n",
    "    return yeni_matris # return ifadesinden sonra başka işlem yapmaz\n",
    "\n",
    "ornek_matris = [[1, 2], [3, 4]]\n",
    "genisletilmis_matris = genisletilen_matris(ornek_matris)\n",
    "\n",
    "for i in range(len(genisletilmis_matris)):\n",
    "    print(genisletilmis_matris[i])"
   ]
  },
  {
   "cell_type": "code",
   "execution_count": null,
   "id": "10291e1e",
   "metadata": {},
   "outputs": [],
   "source": []
  }
 ],
 "metadata": {
  "kernelspec": {
   "display_name": "Python 3 (ipykernel)",
   "language": "python",
   "name": "python3"
  },
  "language_info": {
   "codemirror_mode": {
    "name": "ipython",
    "version": 3
   },
   "file_extension": ".py",
   "mimetype": "text/x-python",
   "name": "python",
   "nbconvert_exporter": "python",
   "pygments_lexer": "ipython3",
   "version": "3.9.12"
  }
 },
 "nbformat": 4,
 "nbformat_minor": 5
}
